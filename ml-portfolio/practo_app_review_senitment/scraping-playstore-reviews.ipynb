{
 "cells": [
  {
   "cell_type": "markdown",
   "id": "6e4f3a38-87a7-4205-9be6-bfdf815d12ec",
   "metadata": {
    "tags": []
   },
   "source": [
    "### Imports"
   ]
  },
  {
   "cell_type": "code",
   "execution_count": 1,
   "id": "9ec22741-06c6-498c-b731-5e23874fdece",
   "metadata": {},
   "outputs": [
    {
     "ename": "ModuleNotFoundError",
     "evalue": "No module named 'selenium'",
     "output_type": "error",
     "traceback": [
      "\u001b[1;31m---------------------------------------------------------------------------\u001b[0m",
      "\u001b[1;31mModuleNotFoundError\u001b[0m                       Traceback (most recent call last)",
      "Cell \u001b[1;32mIn [1], line 1\u001b[0m\n\u001b[1;32m----> 1\u001b[0m \u001b[38;5;28;01mfrom\u001b[39;00m \u001b[38;5;21;01mselenium\u001b[39;00m \u001b[38;5;28;01mimport\u001b[39;00m webdriver           \n\u001b[0;32m      2\u001b[0m \u001b[38;5;28;01mfrom\u001b[39;00m \u001b[38;5;21;01mselenium\u001b[39;00m\u001b[38;5;21;01m.\u001b[39;00m\u001b[38;5;21;01mwebdriver\u001b[39;00m\u001b[38;5;21;01m.\u001b[39;00m\u001b[38;5;21;01msupport\u001b[39;00m \u001b[38;5;28;01mimport\u001b[39;00m expected_conditions\n\u001b[0;32m      3\u001b[0m \u001b[38;5;28;01mfrom\u001b[39;00m \u001b[38;5;21;01mselenium\u001b[39;00m\u001b[38;5;21;01m.\u001b[39;00m\u001b[38;5;21;01mwebdriver\u001b[39;00m\u001b[38;5;21;01m.\u001b[39;00m\u001b[38;5;21;01mcommon\u001b[39;00m\u001b[38;5;21;01m.\u001b[39;00m\u001b[38;5;21;01mby\u001b[39;00m \u001b[38;5;28;01mimport\u001b[39;00m By\n",
      "\u001b[1;31mModuleNotFoundError\u001b[0m: No module named 'selenium'"
     ]
    }
   ],
   "source": [
    "from selenium import webdriver           \n",
    "from selenium.webdriver.support import expected_conditions\n",
    "from selenium.webdriver.common.by import By\n",
    "from selenium.webdriver.support.ui import WebDriverWait#import webDriver\n",
    "from bs4 import BeautifulSoup\n",
    "sys.path.insert(0,'E:/Manoj/downloads')"
   ]
  },
  {
   "cell_type": "code",
   "execution_count": 1,
   "id": "b34833d5",
   "metadata": {},
   "outputs": [],
   "source": [
    "import pandas as pd\n",
    "import numpy as np\n",
    "import sys\n",
    "import re\n",
    "import matplotlib.pyplot as plt\n",
    "import time\n",
    "from tqdm import tqdm"
   ]
  },
  {
   "cell_type": "markdown",
   "id": "e95677e9-3658-4fbf-a4c4-6ad35d8f7789",
   "metadata": {},
   "source": [
    "### Search for see all reviews button and click to load the reviews"
   ]
  },
  {
   "cell_type": "code",
   "execution_count": 49,
   "id": "244d3103-839a-40a9-abb3-01d742659a31",
   "metadata": {},
   "outputs": [
    {
     "name": "stderr",
     "output_type": "stream",
     "text": [
      "C:\\Users\\info\\AppData\\Local\\Temp\\ipykernel_8940\\1866220883.py:4: DeprecationWarning: use options instead of chrome_options\n",
      "  selenium = webdriver.Chrome('chromedriver',chrome_options=chrome_options)\n"
     ]
    }
   ],
   "source": [
    "\n",
    "chrome_options = webdriver.ChromeOptions()\n",
    "chrome_options.add_argument('--no-sandbox')                             \n",
    "chrome_options.add_argument('--disable-dev-shm-usage')\n",
    "selenium = webdriver.Chrome('chromedriver',chrome_options=chrome_options)\n",
    "selenium.get(\"https://play.google.com/store/apps/details?id=com.practo.fabric&utm_source=appgrooves&utm_medium=agp_81acc8a18b054eadad002f4c3e318133_com.practo.fabric_us_others_16676570314812\")\n",
    "\n",
    "##wait for the dom to load element and the target button/span is clickable\n",
    "WebDriverWait(selenium,120).until(expected_conditions.element_to_be_clickable((By.XPATH,'.//span[contains(., \"See all reviews\") and @class=\"VfPpkd-vQzf8d\"]'))).click()\n",
    "\n",
    "#wait.until(expected_conditions.element_to_be_clickable((By.CSS_SELECTOR, '.VfPpkd-LgbsSe button'))).click()\n",
    "#python_button = selenium.find_elements(By.CLASS_NAME,\"VfPpkd-LgbsSe\")[0]\n",
    "#print(python_button)\n",
    "#python_button.click()\n",
    "#url = \"https://www.amazon.in/\"            #url \n",
    "#wd.get(url)        "
   ]
  },
  {
   "cell_type": "markdown",
   "id": "b894dcd1-e4f9-4b7a-9b1f-a019389e85e5",
   "metadata": {},
   "source": [
    "### Scroll until the last review"
   ]
  },
  {
   "cell_type": "code",
   "execution_count": 70,
   "id": "1009963f-0c73-4d1f-969f-bce148e50d1a",
   "metadata": {},
   "outputs": [],
   "source": [
    "reviews=[]\n",
    "ratings=[]"
   ]
  },
  {
   "cell_type": "markdown",
   "id": "c83489d8-f61e-48ff-8b49-ada646984c88",
   "metadata": {},
   "source": [
    "### Once scroll is complete, find all the review divs and get the review comments plus the label (rating)"
   ]
  },
  {
   "cell_type": "code",
   "execution_count": 72,
   "id": "b1f174c9-11b8-48e3-906e-b158932859ca",
   "metadata": {},
   "outputs": [],
   "source": [
    "def get_reviews():\n",
    "    html = selenium.page_source\n",
    "\n",
    "    soup = BeautifulSoup(selenium.page_source,\"html.parser\")\n",
    "    for review in soup.find_all(class_=\"RHo1pe\"):\n",
    "        ratings.append(review.find(\"div\",class_=\"iXRFPc\").attrs['aria-label'])\n",
    "        reviews.append(review.find(\"div\",class_=\"h3YV2d\").text)"
   ]
  },
  {
   "cell_type": "code",
   "execution_count": 69,
   "id": "235ad706-28a1-4181-9086-bd4d3b3da7ee",
   "metadata": {},
   "outputs": [
    {
     "name": "stderr",
     "output_type": "stream",
     "text": [
      "\n",
      "KeyboardInterrupt\n",
      "\n"
     ]
    }
   ],
   "source": [
    "last_elem=\"\"\n",
    "while True:\n",
    "    current_last_elem=\"div.RHo1pe:last-child\"\n",
    "    scroll = \"document.querySelector(\\'\"+current_last_elem+\"\\').scrollIntoView();\"\n",
    "    selenium.execute_script(scroll)\n",
    "    time.sleep(1)\n",
    "    current_last_elem=selenium.find_elements(By.CLASS_NAME,\"RHo1pe\")[-1]\n",
    "    if(last_elem==current_last_elem):\n",
    "        break\n",
    "    else:\n",
    "        last_element = current_last_elem\n"
   ]
  },
  {
   "cell_type": "code",
   "execution_count": 73,
   "id": "51eebe6b-0d44-42ad-a4ca-9a0e9af680ae",
   "metadata": {},
   "outputs": [],
   "source": [
    "get_reviews()"
   ]
  },
  {
   "cell_type": "code",
   "execution_count": 74,
   "id": "f102196d-08c9-4eec-9f70-37ca5c244cf2",
   "metadata": {},
   "outputs": [],
   "source": [
    "df = pd.DataFrame({\"Review\":reviews,\"ratings\":ratings})"
   ]
  },
  {
   "cell_type": "code",
   "execution_count": 75,
   "id": "23df0cf2-91d8-484c-96f1-593324fe91ae",
   "metadata": {},
   "outputs": [
    {
     "data": {
      "text/plain": [
       "(7160, 2)"
      ]
     },
     "execution_count": 75,
     "metadata": {},
     "output_type": "execute_result"
    }
   ],
   "source": [
    "df.shape"
   ]
  },
  {
   "cell_type": "code",
   "execution_count": 77,
   "id": "c93fae11-eb49-4287-b678-96854622411f",
   "metadata": {},
   "outputs": [],
   "source": [
    "df.to_csv(\"practo_app_reviews_raw_data.csv\")"
   ]
  },
  {
   "cell_type": "markdown",
   "id": "a6d7357d-0fd1-453e-a3bd-a7a38e3c635d",
   "metadata": {},
   "source": [
    "### Extract the rating number from raw label"
   ]
  },
  {
   "cell_type": "code",
   "execution_count": 2,
   "id": "e899af03-520d-49af-adf2-74c54ece298c",
   "metadata": {},
   "outputs": [],
   "source": [
    "data = pd.read_csv('practo_app_reviews_raw_data.csv')"
   ]
  },
  {
   "cell_type": "code",
   "execution_count": 3,
   "id": "38a59803-a240-413a-9764-573f1d0ab5ab",
   "metadata": {},
   "outputs": [
    {
     "data": {
      "text/html": [
       "<div>\n",
       "<style scoped>\n",
       "    .dataframe tbody tr th:only-of-type {\n",
       "        vertical-align: middle;\n",
       "    }\n",
       "\n",
       "    .dataframe tbody tr th {\n",
       "        vertical-align: top;\n",
       "    }\n",
       "\n",
       "    .dataframe thead th {\n",
       "        text-align: right;\n",
       "    }\n",
       "</style>\n",
       "<table border=\"1\" class=\"dataframe\">\n",
       "  <thead>\n",
       "    <tr style=\"text-align: right;\">\n",
       "      <th></th>\n",
       "      <th>Unnamed: 0</th>\n",
       "      <th>Review</th>\n",
       "      <th>ratings</th>\n",
       "    </tr>\n",
       "  </thead>\n",
       "  <tbody>\n",
       "    <tr>\n",
       "      <th>0</th>\n",
       "      <td>0</td>\n",
       "      <td>Difficult to navigate but somewhat useful app....</td>\n",
       "      <td>Rated 1 stars out of five stars</td>\n",
       "    </tr>\n",
       "    <tr>\n",
       "      <th>1</th>\n",
       "      <td>1</td>\n",
       "      <td>I find the medical records section frustrating...</td>\n",
       "      <td>Rated 2 stars out of five stars</td>\n",
       "    </tr>\n",
       "    <tr>\n",
       "      <th>2</th>\n",
       "      <td>2</td>\n",
       "      <td>Really buggy software. And has this even been ...</td>\n",
       "      <td>Rated 1 stars out of five stars</td>\n",
       "    </tr>\n",
       "    <tr>\n",
       "      <th>3</th>\n",
       "      <td>3</td>\n",
       "      <td>The app keeps getting unresponsive. During con...</td>\n",
       "      <td>Rated 1 stars out of five stars</td>\n",
       "    </tr>\n",
       "    <tr>\n",
       "      <th>4</th>\n",
       "      <td>4</td>\n",
       "      <td>Everything is good but connecting to a differe...</td>\n",
       "      <td>Rated 3 stars out of five stars</td>\n",
       "    </tr>\n",
       "  </tbody>\n",
       "</table>\n",
       "</div>"
      ],
      "text/plain": [
       "   Unnamed: 0                                             Review  \\\n",
       "0           0  Difficult to navigate but somewhat useful app....   \n",
       "1           1  I find the medical records section frustrating...   \n",
       "2           2  Really buggy software. And has this even been ...   \n",
       "3           3  The app keeps getting unresponsive. During con...   \n",
       "4           4  Everything is good but connecting to a differe...   \n",
       "\n",
       "                           ratings  \n",
       "0  Rated 1 stars out of five stars  \n",
       "1  Rated 2 stars out of five stars  \n",
       "2  Rated 1 stars out of five stars  \n",
       "3  Rated 1 stars out of five stars  \n",
       "4  Rated 3 stars out of five stars  "
      ]
     },
     "execution_count": 3,
     "metadata": {},
     "output_type": "execute_result"
    }
   ],
   "source": [
    "data.head()"
   ]
  },
  {
   "cell_type": "code",
   "execution_count": 4,
   "id": "f7496f7b-ffff-48f7-9471-09406093b994",
   "metadata": {},
   "outputs": [
    {
     "data": {
      "text/plain": [
       "0       Rated 1 stars out of five stars\n",
       "1       Rated 2 stars out of five stars\n",
       "2       Rated 1 stars out of five stars\n",
       "3       Rated 1 stars out of five stars\n",
       "4       Rated 3 stars out of five stars\n",
       "                     ...               \n",
       "7155    Rated 1 stars out of five stars\n",
       "7156    Rated 5 stars out of five stars\n",
       "7157    Rated 5 stars out of five stars\n",
       "7158    Rated 5 stars out of five stars\n",
       "7159    Rated 1 stars out of five stars\n",
       "Name: ratings, Length: 7160, dtype: object"
      ]
     },
     "execution_count": 4,
     "metadata": {},
     "output_type": "execute_result"
    }
   ],
   "source": [
    "data[\"ratings\"]"
   ]
  },
  {
   "cell_type": "code",
   "execution_count": 5,
   "id": "032d52c3-af13-4ed4-aa82-236882f9e0ca",
   "metadata": {},
   "outputs": [],
   "source": [
    "data[\"ratings\"]=[rating[6] for rating in data[\"ratings\"]]"
   ]
  },
  {
   "cell_type": "code",
   "execution_count": 6,
   "id": "ca9b7c15-9ea7-448e-aa5b-c65d2efb4fa5",
   "metadata": {},
   "outputs": [],
   "source": [
    "data = data[[\"Review\",\"ratings\"]]"
   ]
  },
  {
   "cell_type": "code",
   "execution_count": 7,
   "id": "ff73eca2-073c-43a4-bfd1-a38492d837d5",
   "metadata": {},
   "outputs": [
    {
     "data": {
      "text/html": [
       "<div>\n",
       "<style scoped>\n",
       "    .dataframe tbody tr th:only-of-type {\n",
       "        vertical-align: middle;\n",
       "    }\n",
       "\n",
       "    .dataframe tbody tr th {\n",
       "        vertical-align: top;\n",
       "    }\n",
       "\n",
       "    .dataframe thead th {\n",
       "        text-align: right;\n",
       "    }\n",
       "</style>\n",
       "<table border=\"1\" class=\"dataframe\">\n",
       "  <thead>\n",
       "    <tr style=\"text-align: right;\">\n",
       "      <th></th>\n",
       "      <th>Review</th>\n",
       "      <th>ratings</th>\n",
       "    </tr>\n",
       "  </thead>\n",
       "  <tbody>\n",
       "    <tr>\n",
       "      <th>0</th>\n",
       "      <td>Difficult to navigate but somewhat useful app....</td>\n",
       "      <td>1</td>\n",
       "    </tr>\n",
       "    <tr>\n",
       "      <th>1</th>\n",
       "      <td>I find the medical records section frustrating...</td>\n",
       "      <td>2</td>\n",
       "    </tr>\n",
       "    <tr>\n",
       "      <th>2</th>\n",
       "      <td>Really buggy software. And has this even been ...</td>\n",
       "      <td>1</td>\n",
       "    </tr>\n",
       "    <tr>\n",
       "      <th>3</th>\n",
       "      <td>The app keeps getting unresponsive. During con...</td>\n",
       "      <td>1</td>\n",
       "    </tr>\n",
       "    <tr>\n",
       "      <th>4</th>\n",
       "      <td>Everything is good but connecting to a differe...</td>\n",
       "      <td>3</td>\n",
       "    </tr>\n",
       "  </tbody>\n",
       "</table>\n",
       "</div>"
      ],
      "text/plain": [
       "                                              Review ratings\n",
       "0  Difficult to navigate but somewhat useful app....       1\n",
       "1  I find the medical records section frustrating...       2\n",
       "2  Really buggy software. And has this even been ...       1\n",
       "3  The app keeps getting unresponsive. During con...       1\n",
       "4  Everything is good but connecting to a differe...       3"
      ]
     },
     "execution_count": 7,
     "metadata": {},
     "output_type": "execute_result"
    }
   ],
   "source": [
    "data.head()"
   ]
  },
  {
   "cell_type": "code",
   "execution_count": 8,
   "id": "da9e44fc-880d-4ab2-bf43-cd55138efa26",
   "metadata": {},
   "outputs": [
    {
     "data": {
      "text/plain": [
       "1    3873\n",
       "5    2124\n",
       "4     464\n",
       "2     386\n",
       "3     313\n",
       "Name: ratings, dtype: int64"
      ]
     },
     "execution_count": 8,
     "metadata": {},
     "output_type": "execute_result"
    },
    {
     "data": {
      "image/png": "[encoded data removed]",
      "text/plain": [
       "<Figure size 640x480 with 1 Axes>"
      ]
     },
     "metadata": {},
     "output_type": "display_data"
    }
   ],
   "source": [
    "plt.hist(data[\"ratings\"])\n",
    "data.ratings.value_counts()"
   ]
  },
  {
   "cell_type": "markdown",
   "id": "24723e90-39e6-4b9e-b629-728fc293621e",
   "metadata": {},
   "source": [
    "> there is not much data scraped for reviews 2,3 & 4"
   ]
  },
  {
   "cell_type": "code",
   "execution_count": 9,
   "id": "48e85568-e7f7-48e4-9be1-c3f76c4864f6",
   "metadata": {},
   "outputs": [
    {
     "data": {
      "text/plain": [
       "\"Difficult to navigate but somewhat useful app. With rapid changes to the app's UI it becomes really difficult to navigate through the various features. I don't see my appointments under the 'Appointments' menu, but rather they show up under 'Consultation' from where I cannot reschedule. It has also become confusing to search for a doctor. Update: video calling no longer works. Doctor tried calling but I did not get any notification even when app was open. Same problem with my friends.\""
      ]
     },
     "execution_count": 9,
     "metadata": {},
     "output_type": "execute_result"
    }
   ],
   "source": [
    "data[data[\"ratings\"]==\"1\"].iloc[0].Review"
   ]
  },
  {
   "cell_type": "code",
   "execution_count": 10,
   "id": "11a6893b-bffd-4c0c-a3f2-b89036a89992",
   "metadata": {},
   "outputs": [
    {
     "data": {
      "text/plain": [
       "\"Nice app easy to use authentic and reliable. doctors are available 24*7 and also good. they listen their patient very calmly and their prescribed treatment goes very well. must use this app. if you live in rural areas or hotspitals are far from your place or your want to avoid unnecessary queue or you want treatment asap this app is for you. I used this app many times for different age person's treatment, all the times doctor's were well versed and proficient. kindly go through this app.\""
      ]
     },
     "execution_count": 10,
     "metadata": {},
     "output_type": "execute_result"
    }
   ],
   "source": [
    "data[data[\"ratings\"]==\"5\"].iloc[0].Review"
   ]
  },
  {
   "cell_type": "markdown",
   "id": "494bc578-6896-4e53-84b4-094510205546",
   "metadata": {},
   "source": [
    "#### sklearn,tensorflow and model imports"
   ]
  },
  {
   "cell_type": "code",
   "execution_count": 11,
   "id": "b638a128-6087-4810-b432-6619ef4f4563",
   "metadata": {},
   "outputs": [
    {
     "name": "stderr",
     "output_type": "stream",
     "text": [
      "[nltk_data] Downloading package punkt to\n",
      "[nltk_data]     C:\\Users\\manoj\\AppData\\Roaming\\nltk_data...\n",
      "[nltk_data]   Package punkt is already up-to-date!\n",
      "[nltk_data] Downloading package stopwords to\n",
      "[nltk_data]     C:\\Users\\manoj\\AppData\\Roaming\\nltk_data...\n",
      "[nltk_data]   Package stopwords is already up-to-date!\n"
     ]
    }
   ],
   "source": [
    "import tensorflow as tf\n",
    "from sklearn import preprocessing\n",
    "from sklearn.model_selection import train_test_split\n",
    "from sklearn.feature_extraction.text import TfidfVectorizer\n",
    "from sklearn.linear_model import LogisticRegression\n",
    "\n",
    "\n",
    "import nltk\n",
    "from nltk import word_tokenize\n",
    "from nltk.corpus import stopwords\n",
    "nltk.download('punkt')\n",
    "nltk.download('stopwords')\n",
    "stop_words = stopwords.words('english')"
   ]
  },
  {
   "cell_type": "code",
   "execution_count": 84,
   "id": "8846d0ad",
   "metadata": {},
   "outputs": [],
   "source": [
    "from keras.preprocessing import sequence, text"
   ]
  },
  {
   "cell_type": "code",
   "execution_count": 12,
   "id": "67bac903",
   "metadata": {},
   "outputs": [],
   "source": [
    "##lables until this point are in string type, encode them as classes \n",
    "lbl_enc = preprocessing.LabelEncoder()\n",
    "data[\"ratings\"] = lbl_enc.fit_transform(data[\"ratings\"])"
   ]
  },
  {
   "cell_type": "code",
   "execution_count": 13,
   "id": "6f87130f",
   "metadata": {},
   "outputs": [],
   "source": [
    "train_X,test_X,train_y,test_y=train_test_split(data[\"Review\"],data[\"ratings\"],test_size=0.25)"
   ]
  },
  {
   "cell_type": "code",
   "execution_count": 14,
   "id": "177acefb",
   "metadata": {},
   "outputs": [
    {
     "data": {
      "text/plain": [
       "5568    I am really fedup with this app Unable to plac...\n",
       "5466    not all clinics can be booked and we have to c...\n",
       "6543    Bad exprience, never go for online consultatio...\n",
       "3834    Worst App, dont go with it, they play very dir...\n",
       "6963    Worst Customer service. Agent don't know their...\n",
       "                              ...                        \n",
       "2343    Cannot ask for more at this time.. very friend...\n",
       "5534    Reports are very much delayed, connectivity pr...\n",
       "4417    it's a good site for patients as well as docto...\n",
       "5319    It was great.. Neelkrishna explained the proce...\n",
       "2325    Pathatic service even doctor was unable to do ...\n",
       "Name: Review, Length: 1790, dtype: object"
      ]
     },
     "execution_count": 14,
     "metadata": {},
     "output_type": "execute_result"
    }
   ],
   "source": [
    "test_X"
   ]
  },
  {
   "cell_type": "markdown",
   "id": "cc917186",
   "metadata": {},
   "source": [
    " ### TFID - represention of words on term frequency and with the whole data"
   ]
  },
  {
   "cell_type": "code",
   "execution_count": 15,
   "id": "1925ce64",
   "metadata": {},
   "outputs": [],
   "source": [
    "tfv = TfidfVectorizer(stop_words=\"english\")\n",
    "tfv.fit(list(train_X)+list(test_X))\n",
    "train_X_tfv = tfv.transform(train_X)\n",
    "test_X_tfv = tfv.transform(test_X)"
   ]
  },
  {
   "cell_type": "code",
   "execution_count": 51,
   "id": "191ba8d7",
   "metadata": {},
   "outputs": [],
   "source": [
    "def run_classification_model(model,X,y,X_test,y_test):\n",
    "    pred = model.predict(X_test)\n",
    "    y_pred = [np.argmax(y_) for y_ in pred]\n",
    "    print(classification_report(y_test, y_pred,zero_division=1))\n",
    "    plot_confusion_matrix(model,X_test,y_test)\n",
    "    plt.show()\n",
    "    return y_pred\n",
    "    #print(f\"precision: {precision_score(y_test,y_pred,average='weighted')}\")\n",
    "    #print(f\"recall: {recall_score(y_test,y_pred,average='weighted')}\")    \n",
    "    #print(f\"f1: {f1_score(y_test,y_pred,average='weighted')}\")    "
   ]
  },
  {
   "cell_type": "code",
   "execution_count": 17,
   "id": "d5606f9d",
   "metadata": {},
   "outputs": [
    {
     "name": "stdout",
     "output_type": "stream",
     "text": [
      "              precision    recall  f1-score   support\n",
      "\n",
      "           0       0.54      1.00      0.70       968\n",
      "           1       1.00      0.00      0.00        90\n",
      "           2       1.00      0.00      0.00        73\n",
      "           3       1.00      0.00      0.00       120\n",
      "           4       1.00      0.00      0.00       539\n",
      "\n",
      "    accuracy                           0.54      1790\n",
      "   macro avg       0.91      0.20      0.14      1790\n",
      "weighted avg       0.75      0.54      0.38      1790\n",
      "\n"
     ]
    },
    {
     "name": "stderr",
     "output_type": "stream",
     "text": [
      "C:\\Users\\manoj\\AppData\\Local\\Programs\\Python\\Python310\\lib\\site-packages\\sklearn\\utils\\deprecation.py:87: FutureWarning: Function plot_confusion_matrix is deprecated; Function `plot_confusion_matrix` is deprecated in 1.0 and will be removed in 1.2. Use one of the class methods: ConfusionMatrixDisplay.from_predictions or ConfusionMatrixDisplay.from_estimator.\n",
      "  warnings.warn(msg, category=FutureWarning)\n"
     ]
    },
    {
     "data": {
      "image/png": "[encoded data removed]",
      "text/plain": [
       "<Figure size 640x480 with 2 Axes>"
      ]
     },
     "metadata": {},
     "output_type": "display_data"
    }
   ],
   "source": [
    "model =LogisticRegression()\n",
    "model.fit(train_X_tfv,train_y)\n",
    "y_pred =run_classification_model(model,train_X_tfv,train_y,test_X_tfv,test_y)"
   ]
  },
  {
   "cell_type": "markdown",
   "id": "5cb87ae5",
   "metadata": {},
   "source": [
    "> Above metrices looks really bad, so using Logistic regression will not help here"
   ]
  },
  {
   "cell_type": "code",
   "execution_count": 18,
   "id": "47c26005",
   "metadata": {},
   "outputs": [
    {
     "data": {
      "text/plain": [
       "0"
      ]
     },
     "execution_count": 18,
     "metadata": {},
     "output_type": "execute_result"
    }
   ],
   "source": [
    "y_pred[0]"
   ]
  },
  {
   "cell_type": "code",
   "execution_count": 23,
   "id": "5c21e747",
   "metadata": {},
   "outputs": [
    {
     "data": {
      "text/plain": [
       "'Cannot ask for more at this time.. very friendly app that helps with more suggestions along with ratings. thank you Practo team..'"
      ]
     },
     "execution_count": 23,
     "metadata": {},
     "output_type": "execute_result"
    }
   ],
   "source": [
    "test_X[2343]"
   ]
  },
  {
   "cell_type": "code",
   "execution_count": 24,
   "id": "0bb469e3",
   "metadata": {},
   "outputs": [
    {
     "data": {
      "text/plain": [
       "4"
      ]
     },
     "execution_count": 24,
     "metadata": {},
     "output_type": "execute_result"
    }
   ],
   "source": [
    "np.argmax(model.predict_proba(tfv.transform([test_X[2343]])))"
   ]
  },
  {
   "cell_type": "markdown",
   "id": "7ea948ca",
   "metadata": {},
   "source": [
    "#### below sentiments are not great\n",
    "> as TFID is just about considering the occurrance of a token within the sentence and the whole document, does'nt care much about the order of tokens. so below reviews have been given less rating even though they are positive reviews"
   ]
  },
  {
   "cell_type": "code",
   "execution_count": 25,
   "id": "fdbf68f4",
   "metadata": {},
   "outputs": [
    {
     "data": {
      "text/plain": [
       "0"
      ]
     },
     "execution_count": 25,
     "metadata": {},
     "output_type": "execute_result"
    }
   ],
   "source": [
    "np.argmax(model.predict_proba(tfv.transform([\"not bad\"])))"
   ]
  },
  {
   "cell_type": "code",
   "execution_count": 26,
   "id": "fd5945b0",
   "metadata": {},
   "outputs": [
    {
     "data": {
      "text/plain": [
       "0"
      ]
     },
     "execution_count": 26,
     "metadata": {},
     "output_type": "execute_result"
    }
   ],
   "source": [
    "np.argmax(model.predict_proba(tfv.transform([\"app did not crash anytime\"])))"
   ]
  },
  {
   "cell_type": "code",
   "execution_count": 27,
   "id": "241be0be",
   "metadata": {},
   "outputs": [
    {
     "data": {
      "text/plain": [
       "4"
      ]
     },
     "execution_count": 27,
     "metadata": {},
     "output_type": "execute_result"
    }
   ],
   "source": [
    "np.argmax(model.predict_proba(tfv.transform([\"No issues with the app\"])))"
   ]
  },
  {
   "cell_type": "markdown",
   "id": "06c50183",
   "metadata": {},
   "source": [
    "##### Word embeddings and neural networks\n",
    "\n",
    "> using a word embedding from an already pretrained model over billions of words\n",
    "\n",
    "> word embeddings represent each word in N-d vector space , where each dimension can be considered as a feature"
   ]
  },
  {
   "cell_type": "code",
   "execution_count": 14,
   "id": "3526f77a",
   "metadata": {},
   "outputs": [],
   "source": [
    "word_embeddings={}\n",
    "\n",
    "def extract_embeddings():\n",
    "    f = open('../GloveEmbeddings/glove.6B.50d.txt/glove.6B.50d.txt', encoding='utf8')\n",
    "    for line in tqdm(f):\n",
    "        values = line.split()\n",
    "        word = values[0]\n",
    "        word_embeddings[word]=np.asarray(values[1:],dtype='float32')\n",
    "        \n",
    "    f.close()\n"
   ]
  },
  {
   "cell_type": "code",
   "execution_count": 15,
   "id": "e3a81799",
   "metadata": {},
   "outputs": [
    {
     "name": "stderr",
     "output_type": "stream",
     "text": [
      "400000it [00:07, 50363.85it/s]\n"
     ]
    }
   ],
   "source": [
    "extract_embeddings()"
   ]
  },
  {
   "cell_type": "code",
   "execution_count": 43,
   "id": "e77bb180",
   "metadata": {},
   "outputs": [
    {
     "data": {
      "text/plain": [
       "array([-3.5586e-01,  5.2130e-01, -6.1070e-01, -3.0131e-01,  9.4862e-01,\n",
       "       -3.1539e-01, -5.9831e-01,  1.2188e-01, -3.1943e-02,  5.5695e-01,\n",
       "       -1.0621e-01,  6.3399e-01, -4.7340e-01, -7.5895e-02,  3.8247e-01,\n",
       "        8.1569e-02,  8.2214e-01,  2.2220e-01, -8.3764e-03, -7.6620e-01,\n",
       "       -5.6253e-01,  6.1759e-01,  2.0292e-01, -4.8598e-02,  8.7815e-01,\n",
       "       -1.6549e+00, -7.7418e-01,  1.5435e-01,  9.4823e-01, -3.9520e-01,\n",
       "        3.7302e+00,  8.2855e-01, -1.4104e-01,  1.6395e-02,  2.1115e-01,\n",
       "       -3.6085e-02, -1.5587e-01,  8.6583e-01,  2.6309e-01, -7.1015e-01,\n",
       "       -3.6770e-02,  1.8282e-03, -1.7704e-01,  2.7032e-01,  1.1026e-01,\n",
       "        1.4133e-01, -5.7322e-02,  2.7207e-01,  3.1305e-01,  9.2771e-01],\n",
       "      dtype=float32)"
      ]
     },
     "execution_count": 43,
     "metadata": {},
     "output_type": "execute_result"
    }
   ],
   "source": [
    "word_embeddings[\"good\"]"
   ]
  },
  {
   "cell_type": "code",
   "execution_count": 44,
   "id": "aaa63ab3",
   "metadata": {},
   "outputs": [
    {
     "data": {
      "text/plain": [
       "400000"
      ]
     },
     "execution_count": 44,
     "metadata": {},
     "output_type": "execute_result"
    }
   ],
   "source": [
    "len(word_embeddings)"
   ]
  },
  {
   "cell_type": "markdown",
   "id": "172f9d9e",
   "metadata": {},
   "source": [
    "#### embeddings of sentence -> Sentence to word vectors"
   ]
  },
  {
   "cell_type": "code",
   "execution_count": 16,
   "id": "f6b51aa9",
   "metadata": {},
   "outputs": [],
   "source": [
    "\n",
    "def sent2vec(s):\n",
    "    M=[]\n",
    "    s = str(s).lower()\n",
    "    words = word_tokenize(s)\n",
    "    words = [w for w in words if not w in stop_words]\n",
    "    \n",
    "    for w in words:\n",
    "        if w in word_embeddings:\n",
    "            M.append(word_embeddings[w])\n",
    "    #return np.array(M)\n",
    "    M = np.array(M)\n",
    "    v = M.sum(axis=0)\n",
    "    if type(v) != np.ndarray:\n",
    "        return np.zeros(300)\n",
    "    return v / np.sqrt((v ** 2).sum())\n"
   ]
  },
  {
   "cell_type": "code",
   "execution_count": 91,
   "id": "5e52a02c",
   "metadata": {},
   "outputs": [
    {
     "data": {
      "text/plain": [
       "array([-0.0214138 ,  0.02688246, -0.03879242,  0.04998184,  0.13647388,\n",
       "        0.04322537, -0.12979673, -0.16345306,  0.08526365,  0.15732908,\n",
       "        0.08161025,  0.07345302, -0.07126632, -0.06826955,  0.11671958,\n",
       "        0.05631111,  0.05276725,  0.06546622,  0.04269324, -0.19520643,\n",
       "        0.0046264 , -0.04109312,  0.01458712, -0.00661661,  0.05319544,\n",
       "       -0.24368092, -0.15241577,  0.04022696,  0.17573254, -0.0213899 ,\n",
       "        0.75765574,  0.08446726, -0.00543366, -0.03708455,  0.01696423,\n",
       "       -0.0278111 , -0.04092358,  0.18185867,  0.0368434 , -0.13121063,\n",
       "        0.03070246, -0.03340764, -0.03528648,  0.02419258,  0.01469254,\n",
       "        0.03855224,  0.01609926,  0.11253115,  0.07538411,  0.17782675],\n",
       "      dtype=float32)"
      ]
     },
     "execution_count": 91,
     "metadata": {},
     "output_type": "execute_result"
    }
   ],
   "source": [
    "sent2vec(\"good product\")"
   ]
  },
  {
   "cell_type": "code",
   "execution_count": 18,
   "id": "2042fe72",
   "metadata": {},
   "outputs": [
    {
     "name": "stderr",
     "output_type": "stream",
     "text": [
      "100%|████████████████████████████████████████████████████████████████████████████| 5370/5370 [00:02<00:00, 1843.50it/s]\n",
      "100%|████████████████████████████████████████████████████████████████████████████| 1790/1790 [00:00<00:00, 1985.39it/s]\n"
     ]
    }
   ],
   "source": [
    "x_train = [sent2vec(s) for s in tqdm(train_X)]\n",
    "x_test = [sent2vec(s) for s in tqdm(test_X)]"
   ]
  },
  {
   "cell_type": "code",
   "execution_count": 19,
   "id": "cccc64bb",
   "metadata": {},
   "outputs": [],
   "source": [
    "xtrain_glove = np.array(x_train)\n",
    "xtest_glove = np.array(x_test)"
   ]
  },
  {
   "cell_type": "code",
   "execution_count": 87,
   "id": "b0535bf6",
   "metadata": {},
   "outputs": [
    {
     "data": {
      "text/plain": [
       "array([[ 0.06549927, -0.02500435,  0.0127248 , ..., -0.03213096,\n",
       "         0.05884347,  0.07998997],\n",
       "       [ 0.14454779, -0.01315168, -0.00384262, ...,  0.03330179,\n",
       "        -0.03146345,  0.06778616],\n",
       "       [ 0.07963534,  0.01138381, -0.00123745, ...,  0.05042415,\n",
       "         0.01851241,  0.09073411],\n",
       "       ...,\n",
       "       [ 0.1553145 ,  0.03848371,  0.02451295, ...,  0.01463361,\n",
       "        -0.01220669,  0.08127589],\n",
       "       [ 0.0450137 ,  0.07122286, -0.14061274, ...,  0.01213093,\n",
       "        -0.00759322,  0.06379715],\n",
       "       [ 0.04126927,  0.02326322,  0.06342842, ..., -0.01459605,\n",
       "        -0.01136653,  0.04434759]], dtype=float32)"
      ]
     },
     "execution_count": 87,
     "metadata": {},
     "output_type": "execute_result"
    }
   ],
   "source": [
    "xtest_glove"
   ]
  },
  {
   "cell_type": "markdown",
   "id": "6a1bac2c",
   "metadata": {},
   "source": [
    "##### Simple neural network using pre-trained embeddings"
   ]
  },
  {
   "cell_type": "code",
   "execution_count": 73,
   "id": "b9217612",
   "metadata": {},
   "outputs": [
    {
     "data": {
      "text/plain": [
       "array([-0.06177928,  0.11739201, -0.0675324 , -1.2779944 , -0.3638968 ,\n",
       "        0.56134415,  0.39490733, -0.53639275,  0.9443671 ,  0.5523605 ,\n",
       "        0.5449134 ,  0.99994487,  0.7566108 , -1.4141881 , -0.57618266,\n",
       "        0.16404738,  0.3177031 ,  0.3732298 , -1.0731312 , -0.5774507 ,\n",
       "        0.9400102 , -1.1527635 ,  0.10045373, -1.244193  , -2.0134313 ,\n",
       "        0.4545858 ,  0.6745774 , -0.37519926,  1.5272622 ,  1.4474716 ,\n",
       "        0.9071815 ,  0.32551253,  0.5048202 ,  1.0968579 ,  1.9139398 ,\n",
       "        0.40820622, -0.1542791 ,  0.55239785,  0.55276656,  0.383668  ,\n",
       "        0.10498909, -0.85010606,  1.8739069 ,  0.27945822, -0.64908737,\n",
       "        0.725284  , -0.59841216,  0.17078681, -0.38306138,  0.05632683],\n",
       "      dtype=float32)"
      ]
     },
     "execution_count": 73,
     "metadata": {},
     "output_type": "execute_result"
    }
   ],
   "source": [
    "# scale the data before any neural net:\n",
    "scl = preprocessing.StandardScaler()\n",
    "xtrain_glove_scl = scl.fit_transform(xtrain_glove)\n",
    "xtest_glove_scl = scl.transform(xtest_glove)\n"
   ]
  },
  {
   "cell_type": "code",
   "execution_count": 94,
   "id": "13975acf",
   "metadata": {},
   "outputs": [],
   "source": [
    "from sklearn.metrics  import plot_confusion_matrix,precision_score,recall_score,f1_score,classification_report\n",
    "from keras.models import Sequential\n",
    "from keras.layers.core import Dense, Activation, Dropout\n",
    "from keras.layers import BatchNormalization,SpatialDropout1D, Embedding,LSTM\n",
    "from keras.utils import np_utils\n",
    "from tensorflow.keras.preprocessing.sequence import pad_sequences"
   ]
  },
  {
   "cell_type": "code",
   "execution_count": 70,
   "id": "c84efd81",
   "metadata": {},
   "outputs": [],
   "source": [
    "# we need to binarize the labels for the neural net\n",
    "ytrain_enc = np_utils.to_categorical(train_y)\n",
    "yvalid_enc = np_utils.to_categorical(test_y)"
   ]
  },
  {
   "cell_type": "code",
   "execution_count": 82,
   "id": "c889391e",
   "metadata": {},
   "outputs": [],
   "source": [
    "# create a simple 3 layer sequential neural net\n",
    "model = Sequential()\n",
    "\n",
    "model.add(Dense(100, input_dim=50, activation='relu'))\n",
    "model.add(Dropout(0.2))\n",
    "model.add(BatchNormalization())\n",
    "\n",
    "model.add(Dense(50, activation='relu'))\n",
    "model.add(Dropout(0.3))\n",
    "model.add(BatchNormalization())\n",
    "\n",
    "model.add(Dense(5))\n",
    "model.add(Activation('softmax'))\n",
    "\n",
    "# compile the model\n",
    "model.compile(loss='categorical_crossentropy', optimizer='adam')"
   ]
  },
  {
   "cell_type": "code",
   "execution_count": 83,
   "id": "56b46ce5",
   "metadata": {},
   "outputs": [
    {
     "name": "stdout",
     "output_type": "stream",
     "text": [
      "Epoch 1/100\n",
      "128/128 [==============================] - 2s 6ms/step - loss: 1.3400 - val_loss: 0.8919\n",
      "Epoch 2/100\n",
      "128/128 [==============================] - 1s 4ms/step - loss: 0.9493 - val_loss: 0.7983\n",
      "Epoch 3/100\n",
      "128/128 [==============================] - 0s 4ms/step - loss: 0.8621 - val_loss: 0.7749\n",
      "Epoch 4/100\n",
      "128/128 [==============================] - 0s 4ms/step - loss: 0.8339 - val_loss: 0.7610\n",
      "Epoch 5/100\n",
      "128/128 [==============================] - 0s 4ms/step - loss: 0.8118 - val_loss: 0.7581\n",
      "Epoch 6/100\n",
      "128/128 [==============================] - 0s 4ms/step - loss: 0.7968 - val_loss: 0.7558\n",
      "Epoch 7/100\n",
      "128/128 [==============================] - 0s 4ms/step - loss: 0.7733 - val_loss: 0.7543\n",
      "Epoch 8/100\n",
      "128/128 [==============================] - 0s 4ms/step - loss: 0.7640 - val_loss: 0.7506\n",
      "Epoch 9/100\n",
      "128/128 [==============================] - 0s 4ms/step - loss: 0.7614 - val_loss: 0.7472\n",
      "Epoch 10/100\n",
      "128/128 [==============================] - 0s 4ms/step - loss: 0.7565 - val_loss: 0.7496\n",
      "Epoch 11/100\n",
      "128/128 [==============================] - 0s 4ms/step - loss: 0.7440 - val_loss: 0.7479\n",
      "Epoch 12/100\n",
      "128/128 [==============================] - 1s 4ms/step - loss: 0.7251 - val_loss: 0.7475\n",
      "Epoch 13/100\n",
      "128/128 [==============================] - 1s 4ms/step - loss: 0.7265 - val_loss: 0.7487\n",
      "Epoch 14/100\n",
      "128/128 [==============================] - 0s 4ms/step - loss: 0.7325 - val_loss: 0.7472\n",
      "Epoch 15/100\n",
      "128/128 [==============================] - 1s 4ms/step - loss: 0.7235 - val_loss: 0.7459\n",
      "Epoch 16/100\n",
      "128/128 [==============================] - 0s 4ms/step - loss: 0.7254 - val_loss: 0.7496\n",
      "Epoch 17/100\n",
      "128/128 [==============================] - 1s 4ms/step - loss: 0.7148 - val_loss: 0.7469\n",
      "Epoch 18/100\n",
      "128/128 [==============================] - 1s 4ms/step - loss: 0.7062 - val_loss: 0.7469\n",
      "Epoch 19/100\n",
      "128/128 [==============================] - 1s 4ms/step - loss: 0.7003 - val_loss: 0.7475\n",
      "Epoch 20/100\n",
      "128/128 [==============================] - 0s 4ms/step - loss: 0.6917 - val_loss: 0.7469\n",
      "Epoch 21/100\n",
      "128/128 [==============================] - 0s 4ms/step - loss: 0.6918 - val_loss: 0.7527\n",
      "Epoch 22/100\n",
      "128/128 [==============================] - 1s 4ms/step - loss: 0.6863 - val_loss: 0.7598\n",
      "Epoch 23/100\n",
      "128/128 [==============================] - 0s 4ms/step - loss: 0.6848 - val_loss: 0.7548\n",
      "Epoch 24/100\n",
      "128/128 [==============================] - 0s 4ms/step - loss: 0.6751 - val_loss: 0.7580\n",
      "Epoch 25/100\n",
      "128/128 [==============================] - 0s 4ms/step - loss: 0.6876 - val_loss: 0.7507\n",
      "Epoch 26/100\n",
      "128/128 [==============================] - 0s 4ms/step - loss: 0.6707 - val_loss: 0.7615\n",
      "Epoch 27/100\n",
      "128/128 [==============================] - 0s 4ms/step - loss: 0.6652 - val_loss: 0.7581\n",
      "Epoch 28/100\n",
      "128/128 [==============================] - 0s 4ms/step - loss: 0.6607 - val_loss: 0.7578\n",
      "Epoch 29/100\n",
      "128/128 [==============================] - 0s 4ms/step - loss: 0.6568 - val_loss: 0.7601\n",
      "Epoch 30/100\n",
      "128/128 [==============================] - 0s 4ms/step - loss: 0.6416 - val_loss: 0.7670\n",
      "Epoch 31/100\n",
      "128/128 [==============================] - 0s 4ms/step - loss: 0.6525 - val_loss: 0.7654\n",
      "Epoch 32/100\n",
      "128/128 [==============================] - 1s 4ms/step - loss: 0.6483 - val_loss: 0.7645\n",
      "Epoch 33/100\n",
      "128/128 [==============================] - 0s 4ms/step - loss: 0.6324 - val_loss: 0.7670\n",
      "Epoch 34/100\n",
      "128/128 [==============================] - 0s 4ms/step - loss: 0.6413 - val_loss: 0.7710\n",
      "Epoch 35/100\n",
      "128/128 [==============================] - 0s 4ms/step - loss: 0.6440 - val_loss: 0.7718\n",
      "Epoch 36/100\n",
      "128/128 [==============================] - 0s 4ms/step - loss: 0.6255 - val_loss: 0.7796\n",
      "Epoch 37/100\n",
      "128/128 [==============================] - 0s 4ms/step - loss: 0.6228 - val_loss: 0.7777\n",
      "Epoch 38/100\n",
      "128/128 [==============================] - 0s 4ms/step - loss: 0.6315 - val_loss: 0.7738\n",
      "Epoch 39/100\n",
      "128/128 [==============================] - 0s 4ms/step - loss: 0.6305 - val_loss: 0.7787\n",
      "Epoch 40/100\n",
      "128/128 [==============================] - 0s 4ms/step - loss: 0.6337 - val_loss: 0.7746\n",
      "Epoch 41/100\n",
      "128/128 [==============================] - 0s 4ms/step - loss: 0.6351 - val_loss: 0.7717\n",
      "Epoch 42/100\n",
      "128/128 [==============================] - 0s 4ms/step - loss: 0.6132 - val_loss: 0.7789\n",
      "Epoch 43/100\n",
      "128/128 [==============================] - 0s 4ms/step - loss: 0.6079 - val_loss: 0.7797\n",
      "Epoch 44/100\n",
      "128/128 [==============================] - 0s 4ms/step - loss: 0.6029 - val_loss: 0.7861\n",
      "Epoch 45/100\n",
      "128/128 [==============================] - 0s 4ms/step - loss: 0.6092 - val_loss: 0.7772\n",
      "Epoch 46/100\n",
      "128/128 [==============================] - 1s 4ms/step - loss: 0.6082 - val_loss: 0.7817\n",
      "Epoch 47/100\n",
      "128/128 [==============================] - 0s 4ms/step - loss: 0.6060 - val_loss: 0.7866\n",
      "Epoch 48/100\n",
      "128/128 [==============================] - 0s 4ms/step - loss: 0.5871 - val_loss: 0.7878\n",
      "Epoch 49/100\n",
      "128/128 [==============================] - 0s 4ms/step - loss: 0.6054 - val_loss: 0.7873\n",
      "Epoch 50/100\n",
      "128/128 [==============================] - 0s 4ms/step - loss: 0.5916 - val_loss: 0.7907\n",
      "Epoch 51/100\n",
      "128/128 [==============================] - 0s 4ms/step - loss: 0.5927 - val_loss: 0.8002\n",
      "Epoch 52/100\n",
      "128/128 [==============================] - 0s 4ms/step - loss: 0.5907 - val_loss: 0.7883\n",
      "Epoch 53/100\n",
      "128/128 [==============================] - 0s 4ms/step - loss: 0.5871 - val_loss: 0.7950\n",
      "Epoch 54/100\n",
      "128/128 [==============================] - 0s 4ms/step - loss: 0.5849 - val_loss: 0.7947\n",
      "Epoch 55/100\n",
      "128/128 [==============================] - 0s 4ms/step - loss: 0.5881 - val_loss: 0.7932\n",
      "Epoch 56/100\n",
      "128/128 [==============================] - 0s 4ms/step - loss: 0.5897 - val_loss: 0.7963\n",
      "Epoch 57/100\n",
      "128/128 [==============================] - 1s 4ms/step - loss: 0.5850 - val_loss: 0.7989\n",
      "Epoch 58/100\n",
      "128/128 [==============================] - 1s 4ms/step - loss: 0.5796 - val_loss: 0.8000\n",
      "Epoch 59/100\n",
      "128/128 [==============================] - 0s 4ms/step - loss: 0.5760 - val_loss: 0.8020\n",
      "Epoch 60/100\n",
      "128/128 [==============================] - 0s 4ms/step - loss: 0.5769 - val_loss: 0.7986\n",
      "Epoch 61/100\n",
      "128/128 [==============================] - 0s 4ms/step - loss: 0.5759 - val_loss: 0.7993\n",
      "Epoch 62/100\n",
      "128/128 [==============================] - 0s 4ms/step - loss: 0.5762 - val_loss: 0.8015\n",
      "Epoch 63/100\n",
      "128/128 [==============================] - 1s 4ms/step - loss: 0.5705 - val_loss: 0.8082\n",
      "Epoch 64/100\n",
      "128/128 [==============================] - 0s 4ms/step - loss: 0.5640 - val_loss: 0.8129\n",
      "Epoch 65/100\n",
      "128/128 [==============================] - 0s 4ms/step - loss: 0.5574 - val_loss: 0.8098\n",
      "Epoch 66/100\n",
      "128/128 [==============================] - 0s 4ms/step - loss: 0.5524 - val_loss: 0.8184\n",
      "Epoch 67/100\n",
      "128/128 [==============================] - 0s 4ms/step - loss: 0.5526 - val_loss: 0.8256\n",
      "Epoch 68/100\n",
      "128/128 [==============================] - 0s 4ms/step - loss: 0.5490 - val_loss: 0.8230\n",
      "Epoch 69/100\n",
      "128/128 [==============================] - 0s 4ms/step - loss: 0.5628 - val_loss: 0.8187\n",
      "Epoch 70/100\n",
      "128/128 [==============================] - 0s 4ms/step - loss: 0.5552 - val_loss: 0.8205\n",
      "Epoch 71/100\n",
      "128/128 [==============================] - 0s 4ms/step - loss: 0.5491 - val_loss: 0.8230\n",
      "Epoch 72/100\n",
      "128/128 [==============================] - 0s 4ms/step - loss: 0.5395 - val_loss: 0.8278\n",
      "Epoch 73/100\n",
      "128/128 [==============================] - 0s 4ms/step - loss: 0.5517 - val_loss: 0.8288\n",
      "Epoch 74/100\n",
      "128/128 [==============================] - 0s 4ms/step - loss: 0.5482 - val_loss: 0.8290\n",
      "Epoch 75/100\n",
      "128/128 [==============================] - 0s 4ms/step - loss: 0.5487 - val_loss: 0.8293\n",
      "Epoch 76/100\n",
      "128/128 [==============================] - 0s 4ms/step - loss: 0.5385 - val_loss: 0.8350\n",
      "Epoch 77/100\n",
      "128/128 [==============================] - 0s 4ms/step - loss: 0.5411 - val_loss: 0.8224\n",
      "Epoch 78/100\n",
      "128/128 [==============================] - 0s 4ms/step - loss: 0.5599 - val_loss: 0.8285\n",
      "Epoch 79/100\n",
      "128/128 [==============================] - 1s 4ms/step - loss: 0.5437 - val_loss: 0.8275\n",
      "Epoch 80/100\n",
      "128/128 [==============================] - 0s 4ms/step - loss: 0.5429 - val_loss: 0.8338\n",
      "Epoch 81/100\n"
     ]
    },
    {
     "name": "stdout",
     "output_type": "stream",
     "text": [
      "128/128 [==============================] - 0s 4ms/step - loss: 0.5377 - val_loss: 0.8285\n",
      "Epoch 82/100\n",
      "128/128 [==============================] - 0s 4ms/step - loss: 0.5364 - val_loss: 0.8345\n",
      "Epoch 83/100\n",
      "128/128 [==============================] - 0s 4ms/step - loss: 0.5434 - val_loss: 0.8380\n",
      "Epoch 84/100\n",
      "128/128 [==============================] - 0s 4ms/step - loss: 0.5337 - val_loss: 0.8368\n",
      "Epoch 85/100\n",
      "128/128 [==============================] - 0s 4ms/step - loss: 0.5380 - val_loss: 0.8357\n",
      "Epoch 86/100\n",
      "128/128 [==============================] - 1s 4ms/step - loss: 0.5377 - val_loss: 0.8435\n",
      "Epoch 87/100\n",
      "128/128 [==============================] - 0s 4ms/step - loss: 0.5481 - val_loss: 0.8381\n",
      "Epoch 88/100\n",
      "128/128 [==============================] - 0s 4ms/step - loss: 0.5211 - val_loss: 0.8466\n",
      "Epoch 89/100\n",
      "128/128 [==============================] - 1s 4ms/step - loss: 0.5330 - val_loss: 0.8419\n",
      "Epoch 90/100\n",
      "128/128 [==============================] - 0s 4ms/step - loss: 0.5227 - val_loss: 0.8504\n",
      "Epoch 91/100\n",
      "128/128 [==============================] - 0s 4ms/step - loss: 0.5402 - val_loss: 0.8430\n",
      "Epoch 92/100\n",
      "128/128 [==============================] - 0s 4ms/step - loss: 0.5349 - val_loss: 0.8481\n",
      "Epoch 93/100\n",
      "128/128 [==============================] - 0s 4ms/step - loss: 0.5195 - val_loss: 0.8517\n",
      "Epoch 94/100\n",
      "128/128 [==============================] - 0s 4ms/step - loss: 0.5158 - val_loss: 0.8548\n",
      "Epoch 95/100\n",
      "128/128 [==============================] - 0s 4ms/step - loss: 0.5318 - val_loss: 0.8555\n",
      "Epoch 96/100\n",
      "128/128 [==============================] - 0s 4ms/step - loss: 0.5328 - val_loss: 0.8550\n",
      "Epoch 97/100\n",
      "128/128 [==============================] - 0s 4ms/step - loss: 0.5262 - val_loss: 0.8597\n",
      "Epoch 98/100\n",
      "128/128 [==============================] - 0s 4ms/step - loss: 0.5264 - val_loss: 0.8575\n",
      "Epoch 99/100\n",
      "128/128 [==============================] - 0s 4ms/step - loss: 0.5115 - val_loss: 0.8624\n",
      "Epoch 100/100\n",
      "128/128 [==============================] - 1s 4ms/step - loss: 0.5118 - val_loss: 0.8647\n"
     ]
    },
    {
     "data": {
      "text/plain": [
       "<keras.callbacks.History at 0x2ae0262dd80>"
      ]
     },
     "execution_count": 83,
     "metadata": {},
     "output_type": "execute_result"
    }
   ],
   "source": [
    "model.fit(xtrain_glove_scl, y=ytrain_enc, batch_size=42, \n",
    "          epochs=100, verbose=1, \n",
    "          validation_data=(xtest_glove_scl, yvalid_enc))"
   ]
  },
  {
   "cell_type": "markdown",
   "id": "8add3fa2",
   "metadata": {},
   "source": [
    "#### there is clearly overfitting problem , model is not handling new data well as validation loss increases during epoch progress"
   ]
  },
  {
   "cell_type": "code",
   "execution_count": 33,
   "id": "fab4f046",
   "metadata": {},
   "outputs": [],
   "source": [
    "def dense_net_prediction(s):\n",
    "    word_vecs = sent2vec(s)\n",
    "    pred_proba =model.predict(word_vecs.reshape(1,-1))\n",
    "    print(f'predicted:{pred_proba}')"
   ]
  },
  {
   "cell_type": "code",
   "execution_count": 76,
   "id": "5bbf26db",
   "metadata": {},
   "outputs": [
    {
     "name": "stdout",
     "output_type": "stream",
     "text": [
      "1/1 [==============================] - 0s 112ms/step\n",
      "predicted:[[0.8735011  0.0837389  0.01754711 0.00997741 0.0152355 ]]\n",
      "1/1 [==============================] - 0s 33ms/step\n",
      "predicted:[[0.8786194  0.08280905 0.01778021 0.00848703 0.01230439]]\n",
      "1/1 [==============================] - 0s 32ms/step\n",
      "predicted:[[0.81444925 0.09852501 0.02772186 0.02143641 0.03786746]]\n"
     ]
    }
   ],
   "source": [
    "dense_net_prediction(xtest_glove_scl[2])\n",
    "dense_net_prediction(\"app did not crash\")\n",
    "dense_net_prediction(\"Nice app for short term treatment\")"
   ]
  },
  {
   "cell_type": "code",
   "execution_count": 77,
   "id": "21b11cc5",
   "metadata": {},
   "outputs": [
    {
     "name": "stdout",
     "output_type": "stream",
     "text": [
      "Nice app for short term treatment. Doctor is very co-ordinating... [0. 0. 0. 0. 1.]\n"
     ]
    }
   ],
   "source": [
    "train_y[train_y==4]\n",
    "print(test_X.iloc[1331],ytrain_enc[1331])"
   ]
  },
  {
   "cell_type": "code",
   "execution_count": 60,
   "id": "6ff7034a",
   "metadata": {},
   "outputs": [],
   "source": [
    "yvalid_enc = [np.argmax(y_) for y_ in yvalid_enc]"
   ]
  },
  {
   "cell_type": "code",
   "execution_count": 58,
   "id": "3c2bca13",
   "metadata": {},
   "outputs": [
    {
     "name": "stdout",
     "output_type": "stream",
     "text": [
      "56/56 [==============================] - 0s 2ms/step\n"
     ]
    }
   ],
   "source": [
    "y_pred = model.predict(xtest_glove_scl)"
   ]
  },
  {
   "cell_type": "code",
   "execution_count": 59,
   "id": "fc8f8e0d",
   "metadata": {},
   "outputs": [],
   "source": [
    "y_pred = [np.argmax(y_) for y_ in y_pred]"
   ]
  },
  {
   "cell_type": "code",
   "execution_count": 63,
   "id": "2b4fe17e",
   "metadata": {},
   "outputs": [
    {
     "name": "stdout",
     "output_type": "stream",
     "text": [
      "              precision    recall  f1-score   support\n",
      "\n",
      "           0       0.77      0.95      0.85       959\n",
      "           1       1.00      0.00      0.00        93\n",
      "           2       0.00      0.00      0.00        79\n",
      "           3       0.00      0.00      0.00       113\n",
      "           4       0.76      0.84      0.79       546\n",
      "\n",
      "    accuracy                           0.76      1790\n",
      "   macro avg       0.51      0.36      0.33      1790\n",
      "weighted avg       0.70      0.76      0.70      1790\n",
      "\n"
     ]
    },
    {
     "name": "stderr",
     "output_type": "stream",
     "text": [
      "C:\\Users\\manoj\\AppData\\Local\\Programs\\Python\\Python310\\lib\\site-packages\\sklearn\\utils\\deprecation.py:87: FutureWarning: Function plot_confusion_matrix is deprecated; Function `plot_confusion_matrix` is deprecated in 1.0 and will be removed in 1.2. Use one of the class methods: ConfusionMatrixDisplay.from_predictions or ConfusionMatrixDisplay.from_estimator.\n",
      "  warnings.warn(msg, category=FutureWarning)\n"
     ]
    },
    {
     "ename": "ValueError",
     "evalue": "plot_confusion_matrix only supports classifiers",
     "output_type": "error",
     "traceback": [
      "\u001b[1;31m---------------------------------------------------------------------------\u001b[0m",
      "\u001b[1;31mValueError\u001b[0m                                Traceback (most recent call last)",
      "Cell \u001b[1;32mIn [63], line 2\u001b[0m\n\u001b[0;32m      1\u001b[0m \u001b[38;5;28mprint\u001b[39m(classification_report(yvalid_enc, y_pred,zero_division\u001b[38;5;241m=\u001b[39m\u001b[38;5;241m1\u001b[39m))\n\u001b[1;32m----> 2\u001b[0m \u001b[43mplot_confusion_matrix\u001b[49m\u001b[43m(\u001b[49m\u001b[43mmodel\u001b[49m\u001b[43m,\u001b[49m\u001b[43mxtrain_glove_scl\u001b[49m\u001b[43m,\u001b[49m\u001b[43mytrain_enc\u001b[49m\u001b[43m)\u001b[49m\n\u001b[0;32m      3\u001b[0m plt\u001b[38;5;241m.\u001b[39mshow()\n",
      "File \u001b[1;32m~\\AppData\\Local\\Programs\\Python\\Python310\\lib\\site-packages\\sklearn\\utils\\deprecation.py:88\u001b[0m, in \u001b[0;36mdeprecated._decorate_fun.<locals>.wrapped\u001b[1;34m(*args, **kwargs)\u001b[0m\n\u001b[0;32m     85\u001b[0m \u001b[38;5;129m@functools\u001b[39m\u001b[38;5;241m.\u001b[39mwraps(fun)\n\u001b[0;32m     86\u001b[0m \u001b[38;5;28;01mdef\u001b[39;00m \u001b[38;5;21mwrapped\u001b[39m(\u001b[38;5;241m*\u001b[39margs, \u001b[38;5;241m*\u001b[39m\u001b[38;5;241m*\u001b[39mkwargs):\n\u001b[0;32m     87\u001b[0m     warnings\u001b[38;5;241m.\u001b[39mwarn(msg, category\u001b[38;5;241m=\u001b[39m\u001b[38;5;167;01mFutureWarning\u001b[39;00m)\n\u001b[1;32m---> 88\u001b[0m     \u001b[38;5;28;01mreturn\u001b[39;00m fun(\u001b[38;5;241m*\u001b[39margs, \u001b[38;5;241m*\u001b[39m\u001b[38;5;241m*\u001b[39mkwargs)\n",
      "File \u001b[1;32m~\\AppData\\Local\\Programs\\Python\\Python310\\lib\\site-packages\\sklearn\\metrics\\_plot\\confusion_matrix.py:582\u001b[0m, in \u001b[0;36mplot_confusion_matrix\u001b[1;34m(estimator, X, y_true, labels, sample_weight, normalize, display_labels, include_values, xticks_rotation, values_format, cmap, ax, colorbar)\u001b[0m\n\u001b[0;32m    579\u001b[0m check_matplotlib_support(\u001b[38;5;124m\"\u001b[39m\u001b[38;5;124mplot_confusion_matrix\u001b[39m\u001b[38;5;124m\"\u001b[39m)\n\u001b[0;32m    581\u001b[0m \u001b[38;5;28;01mif\u001b[39;00m \u001b[38;5;129;01mnot\u001b[39;00m is_classifier(estimator):\n\u001b[1;32m--> 582\u001b[0m     \u001b[38;5;28;01mraise\u001b[39;00m \u001b[38;5;167;01mValueError\u001b[39;00m(\u001b[38;5;124m\"\u001b[39m\u001b[38;5;124mplot_confusion_matrix only supports classifiers\u001b[39m\u001b[38;5;124m\"\u001b[39m)\n\u001b[0;32m    584\u001b[0m y_pred \u001b[38;5;241m=\u001b[39m estimator\u001b[38;5;241m.\u001b[39mpredict(X)\n\u001b[0;32m    585\u001b[0m cm \u001b[38;5;241m=\u001b[39m confusion_matrix(\n\u001b[0;32m    586\u001b[0m     y_true, y_pred, sample_weight\u001b[38;5;241m=\u001b[39msample_weight, labels\u001b[38;5;241m=\u001b[39mlabels, normalize\u001b[38;5;241m=\u001b[39mnormalize\n\u001b[0;32m    587\u001b[0m )\n",
      "\u001b[1;31mValueError\u001b[0m: plot_confusion_matrix only supports classifiers"
     ]
    }
   ],
   "source": [
    "print(classification_report(yvalid_enc, y_pred,zero_division=1))\n",
    "#plot_confusion_matrix(model,xtrain_glove_scl,ytrain_enc)\n",
    "plt.show()"
   ]
  },
  {
   "cell_type": "code",
   "execution_count": 87,
   "id": "2cca5bfe",
   "metadata": {},
   "outputs": [],
   "source": [
    "# using keras tokenizer here\n",
    "token = text.Tokenizer(num_words=None)\n",
    "max_len = 70\n",
    "\n",
    "token.fit_on_texts(list(train_X) + list(test_X))\n",
    "xtrain_seq = token.texts_to_sequences(train_X)\n",
    "xvalid_seq = token.texts_to_sequences(test_X)\n",
    "\n",
    "# zero pad the sequences\n",
    "xtrain_pad = pad_sequences(xtrain_seq, maxlen=max_len)\n",
    "xvalid_pad = pad_sequences(xvalid_seq, maxlen=max_len)\n",
    "\n",
    "word_index = token.word_index"
   ]
  },
  {
   "cell_type": "code",
   "execution_count": 89,
   "id": "b7c41ab6",
   "metadata": {},
   "outputs": [
    {
     "name": "stderr",
     "output_type": "stream",
     "text": [
      "100%|██████████████████████████████████████████████████████████████████████████| 9295/9295 [00:00<00:00, 369571.10it/s]\n"
     ]
    }
   ],
   "source": [
    "embedding_matrix = np.zeros((len(word_index) + 1, 50))\n",
    "for word, i in tqdm(word_index.items()):\n",
    "    embedding_vector = word_embeddings.get(word)\n",
    "    if embedding_vector is not None:\n",
    "        embedding_matrix[i] = embedding_vector"
   ]
  },
  {
   "cell_type": "code",
   "execution_count": 97,
   "id": "9bd095b4",
   "metadata": {},
   "outputs": [],
   "source": [
    "# A simple LSTM with glove embeddings and two dense layers\n",
    "model = Sequential()\n",
    "model.add(Embedding(len(word_index) + 1,\n",
    "                     50,\n",
    "                     weights=[embedding_matrix],\n",
    "                     input_length=max_len,\n",
    "                     trainable=False))\n",
    "model.add(SpatialDropout1D(0.3))\n",
    "model.add(LSTM(100, dropout=0.3, recurrent_dropout=0.3))\n",
    "\n",
    "model.add(Dense(1024, activation='relu'))\n",
    "model.add(Dropout(0.8))\n",
    "\n",
    "model.add(Dense(1024, activation='relu'))\n",
    "model.add(Dropout(0.8))\n",
    "\n",
    "model.add(Dense(5))\n",
    "model.add(Activation('softmax'))\n",
    "model.compile(loss='categorical_crossentropy', optimizer='adam')"
   ]
  },
  {
   "cell_type": "code",
   "execution_count": 98,
   "id": "c074f31d",
   "metadata": {},
   "outputs": [
    {
     "name": "stdout",
     "output_type": "stream",
     "text": [
      "Epoch 1/100\n",
      "11/11 [==============================] - 12s 763ms/step - loss: 1.3017 - val_loss: 1.1894\n",
      "Epoch 2/100\n",
      "11/11 [==============================] - 6s 533ms/step - loss: 1.1694 - val_loss: 1.1208\n",
      "Epoch 3/100\n",
      "11/11 [==============================] - 6s 537ms/step - loss: 1.1238 - val_loss: 0.9909\n",
      "Epoch 4/100\n",
      "11/11 [==============================] - 6s 542ms/step - loss: 1.0307 - val_loss: 0.8911\n",
      "Epoch 5/100\n",
      "11/11 [==============================] - 6s 547ms/step - loss: 0.9638 - val_loss: 0.8410\n",
      "Epoch 6/100\n",
      "11/11 [==============================] - 6s 552ms/step - loss: 0.9451 - val_loss: 0.8327\n",
      "Epoch 7/100\n",
      "11/11 [==============================] - 6s 565ms/step - loss: 0.9283 - val_loss: 0.8325\n",
      "Epoch 8/100\n",
      "11/11 [==============================] - 6s 567ms/step - loss: 0.9174 - val_loss: 0.8219\n",
      "Epoch 9/100\n",
      "11/11 [==============================] - 6s 580ms/step - loss: 0.9154 - val_loss: 0.8055\n",
      "Epoch 10/100\n",
      "11/11 [==============================] - 6s 587ms/step - loss: 0.8967 - val_loss: 0.7992\n",
      "Epoch 11/100\n",
      "11/11 [==============================] - 6s 585ms/step - loss: 0.8916 - val_loss: 0.7773\n",
      "Epoch 12/100\n",
      "11/11 [==============================] - 6s 590ms/step - loss: 0.8974 - val_loss: 0.7786\n",
      "Epoch 13/100\n",
      "11/11 [==============================] - 8s 732ms/step - loss: 0.8779 - val_loss: 0.7694\n",
      "Epoch 14/100\n",
      "11/11 [==============================] - 8s 755ms/step - loss: 0.8801 - val_loss: 0.7926\n",
      "Epoch 15/100\n",
      "11/11 [==============================] - 8s 767ms/step - loss: 0.8785 - val_loss: 0.7686\n",
      "Epoch 16/100\n",
      "11/11 [==============================] - 8s 765ms/step - loss: 0.8744 - val_loss: 0.7521\n",
      "Epoch 17/100\n",
      "11/11 [==============================] - 8s 768ms/step - loss: 0.8469 - val_loss: 0.7286\n",
      "Epoch 18/100\n",
      "11/11 [==============================] - 8s 765ms/step - loss: 0.8356 - val_loss: 0.7409\n",
      "Epoch 19/100\n",
      "11/11 [==============================] - 8s 751ms/step - loss: 0.8319 - val_loss: 0.7300\n",
      "Epoch 20/100\n",
      "11/11 [==============================] - 8s 747ms/step - loss: 0.8332 - val_loss: 0.7440\n",
      "Epoch 21/100\n",
      "11/11 [==============================] - 8s 749ms/step - loss: 0.8247 - val_loss: 0.7081\n",
      "Epoch 22/100\n",
      "11/11 [==============================] - 8s 760ms/step - loss: 0.8123 - val_loss: 0.7067\n",
      "Epoch 23/100\n",
      "11/11 [==============================] - 8s 753ms/step - loss: 0.8084 - val_loss: 0.7040\n",
      "Epoch 24/100\n",
      "11/11 [==============================] - 8s 753ms/step - loss: 0.7762 - val_loss: 0.6710\n",
      "Epoch 25/100\n",
      "11/11 [==============================] - 8s 769ms/step - loss: 0.7568 - val_loss: 0.6807\n",
      "Epoch 26/100\n",
      "11/11 [==============================] - 9s 782ms/step - loss: 0.7744 - val_loss: 0.6653\n",
      "Epoch 27/100\n",
      "11/11 [==============================] - 9s 784ms/step - loss: 0.7657 - val_loss: 0.6973\n",
      "Epoch 28/100\n",
      "11/11 [==============================] - 8s 767ms/step - loss: 0.7658 - val_loss: 0.6843\n",
      "Epoch 29/100\n",
      "11/11 [==============================] - 8s 761ms/step - loss: 0.7792 - val_loss: 0.6934\n",
      "Epoch 30/100\n",
      "11/11 [==============================] - 8s 761ms/step - loss: 0.7565 - val_loss: 0.6582\n",
      "Epoch 31/100\n",
      "11/11 [==============================] - 8s 762ms/step - loss: 0.7419 - val_loss: 0.6659\n",
      "Epoch 32/100\n",
      "11/11 [==============================] - 8s 765ms/step - loss: 0.7518 - val_loss: 0.6702\n",
      "Epoch 33/100\n",
      "11/11 [==============================] - 9s 779ms/step - loss: 0.7362 - val_loss: 0.6560\n",
      "Epoch 34/100\n",
      "11/11 [==============================] - 9s 794ms/step - loss: 0.7333 - val_loss: 0.6693\n",
      "Epoch 35/100\n",
      "11/11 [==============================] - 7s 660ms/step - loss: 0.7384 - val_loss: 0.6537\n",
      "Epoch 36/100\n",
      "11/11 [==============================] - 7s 659ms/step - loss: 0.7335 - val_loss: 0.6588\n",
      "Epoch 37/100\n",
      "11/11 [==============================] - 71s 7s/step - loss: 0.7251 - val_loss: 0.6500\n",
      "Epoch 38/100\n",
      "11/11 [==============================] - 11s 979ms/step - loss: 0.7140 - val_loss: 0.6526\n",
      "Epoch 39/100\n",
      "11/11 [==============================] - 9s 795ms/step - loss: 0.7271 - val_loss: 0.6431\n",
      "Epoch 40/100\n",
      "11/11 [==============================] - 9s 775ms/step - loss: 0.7283 - val_loss: 0.6401\n",
      "Epoch 41/100\n",
      "11/11 [==============================] - 9s 795ms/step - loss: 0.7178 - val_loss: 0.6440\n",
      "Epoch 42/100\n",
      "11/11 [==============================] - 9s 786ms/step - loss: 0.7172 - val_loss: 0.6401\n",
      "Epoch 43/100\n",
      "11/11 [==============================] - 9s 787ms/step - loss: 0.7168 - val_loss: 0.6441\n",
      "Epoch 44/100\n",
      "11/11 [==============================] - 9s 800ms/step - loss: 0.7096 - val_loss: 0.6402\n",
      "Epoch 45/100\n",
      "11/11 [==============================] - 9s 801ms/step - loss: 0.6992 - val_loss: 0.6328\n",
      "Epoch 46/100\n",
      "11/11 [==============================] - 9s 781ms/step - loss: 0.6963 - val_loss: 0.6387\n",
      "Epoch 47/100\n",
      "11/11 [==============================] - 9s 789ms/step - loss: 0.6981 - val_loss: 0.6562\n",
      "Epoch 48/100\n",
      "11/11 [==============================] - 9s 794ms/step - loss: 0.7306 - val_loss: 0.6587\n",
      "Epoch 49/100\n",
      "11/11 [==============================] - 9s 798ms/step - loss: 0.7140 - val_loss: 0.6767\n",
      "Epoch 50/100\n",
      "11/11 [==============================] - 9s 798ms/step - loss: 0.7174 - val_loss: 0.6395\n",
      "Epoch 51/100\n",
      "11/11 [==============================] - 9s 776ms/step - loss: 0.7025 - val_loss: 0.6702\n",
      "Epoch 52/100\n",
      "11/11 [==============================] - 9s 781ms/step - loss: 0.6921 - val_loss: 0.6333\n",
      "Epoch 53/100\n",
      "11/11 [==============================] - 8s 765ms/step - loss: 0.6951 - val_loss: 0.6477\n",
      "Epoch 54/100\n",
      "11/11 [==============================] - 8s 769ms/step - loss: 0.6860 - val_loss: 0.6424\n",
      "Epoch 55/100\n",
      " 2/11 [====>.........................] - ETA: 7s - loss: 0.7158"
     ]
    },
    {
     "ename": "KeyboardInterrupt",
     "evalue": "",
     "output_type": "error",
     "traceback": [
      "\u001b[1;31m---------------------------------------------------------------------------\u001b[0m",
      "\u001b[1;31mKeyboardInterrupt\u001b[0m                         Traceback (most recent call last)",
      "Cell \u001b[1;32mIn [98], line 1\u001b[0m\n\u001b[1;32m----> 1\u001b[0m \u001b[43mmodel\u001b[49m\u001b[38;5;241;43m.\u001b[39;49m\u001b[43mfit\u001b[49m\u001b[43m(\u001b[49m\u001b[43mxtrain_pad\u001b[49m\u001b[43m,\u001b[49m\u001b[43m \u001b[49m\u001b[43my\u001b[49m\u001b[38;5;241;43m=\u001b[39;49m\u001b[43mytrain_enc\u001b[49m\u001b[43m,\u001b[49m\u001b[43m \u001b[49m\u001b[43mbatch_size\u001b[49m\u001b[38;5;241;43m=\u001b[39;49m\u001b[38;5;241;43m512\u001b[39;49m\u001b[43m,\u001b[49m\u001b[43m \u001b[49m\u001b[43mepochs\u001b[49m\u001b[38;5;241;43m=\u001b[39;49m\u001b[38;5;241;43m100\u001b[39;49m\u001b[43m,\u001b[49m\u001b[43m \u001b[49m\u001b[43mverbose\u001b[49m\u001b[38;5;241;43m=\u001b[39;49m\u001b[38;5;241;43m1\u001b[39;49m\u001b[43m,\u001b[49m\u001b[43m \u001b[49m\u001b[43mvalidation_data\u001b[49m\u001b[38;5;241;43m=\u001b[39;49m\u001b[43m(\u001b[49m\u001b[43mxvalid_pad\u001b[49m\u001b[43m,\u001b[49m\u001b[43m \u001b[49m\u001b[43myvalid_enc\u001b[49m\u001b[43m)\u001b[49m\u001b[43m)\u001b[49m\n",
      "File \u001b[1;32m~\\AppData\\Local\\Programs\\Python\\Python310\\lib\\site-packages\\keras\\utils\\traceback_utils.py:65\u001b[0m, in \u001b[0;36mfilter_traceback.<locals>.error_handler\u001b[1;34m(*args, **kwargs)\u001b[0m\n\u001b[0;32m     63\u001b[0m filtered_tb \u001b[38;5;241m=\u001b[39m \u001b[38;5;28;01mNone\u001b[39;00m\n\u001b[0;32m     64\u001b[0m \u001b[38;5;28;01mtry\u001b[39;00m:\n\u001b[1;32m---> 65\u001b[0m     \u001b[38;5;28;01mreturn\u001b[39;00m fn(\u001b[38;5;241m*\u001b[39margs, \u001b[38;5;241m*\u001b[39m\u001b[38;5;241m*\u001b[39mkwargs)\n\u001b[0;32m     66\u001b[0m \u001b[38;5;28;01mexcept\u001b[39;00m \u001b[38;5;167;01mException\u001b[39;00m \u001b[38;5;28;01mas\u001b[39;00m e:\n\u001b[0;32m     67\u001b[0m     filtered_tb \u001b[38;5;241m=\u001b[39m _process_traceback_frames(e\u001b[38;5;241m.\u001b[39m__traceback__)\n",
      "File \u001b[1;32m~\\AppData\\Local\\Programs\\Python\\Python310\\lib\\site-packages\\keras\\engine\\training.py:1564\u001b[0m, in \u001b[0;36mModel.fit\u001b[1;34m(self, x, y, batch_size, epochs, verbose, callbacks, validation_split, validation_data, shuffle, class_weight, sample_weight, initial_epoch, steps_per_epoch, validation_steps, validation_batch_size, validation_freq, max_queue_size, workers, use_multiprocessing)\u001b[0m\n\u001b[0;32m   1556\u001b[0m \u001b[38;5;28;01mwith\u001b[39;00m tf\u001b[38;5;241m.\u001b[39mprofiler\u001b[38;5;241m.\u001b[39mexperimental\u001b[38;5;241m.\u001b[39mTrace(\n\u001b[0;32m   1557\u001b[0m     \u001b[38;5;124m\"\u001b[39m\u001b[38;5;124mtrain\u001b[39m\u001b[38;5;124m\"\u001b[39m,\n\u001b[0;32m   1558\u001b[0m     epoch_num\u001b[38;5;241m=\u001b[39mepoch,\n\u001b[1;32m   (...)\u001b[0m\n\u001b[0;32m   1561\u001b[0m     _r\u001b[38;5;241m=\u001b[39m\u001b[38;5;241m1\u001b[39m,\n\u001b[0;32m   1562\u001b[0m ):\n\u001b[0;32m   1563\u001b[0m     callbacks\u001b[38;5;241m.\u001b[39mon_train_batch_begin(step)\n\u001b[1;32m-> 1564\u001b[0m     tmp_logs \u001b[38;5;241m=\u001b[39m \u001b[38;5;28;43mself\u001b[39;49m\u001b[38;5;241;43m.\u001b[39;49m\u001b[43mtrain_function\u001b[49m\u001b[43m(\u001b[49m\u001b[43miterator\u001b[49m\u001b[43m)\u001b[49m\n\u001b[0;32m   1565\u001b[0m     \u001b[38;5;28;01mif\u001b[39;00m data_handler\u001b[38;5;241m.\u001b[39mshould_sync:\n\u001b[0;32m   1566\u001b[0m         context\u001b[38;5;241m.\u001b[39masync_wait()\n",
      "File \u001b[1;32m~\\AppData\\Local\\Programs\\Python\\Python310\\lib\\site-packages\\tensorflow\\python\\util\\traceback_utils.py:150\u001b[0m, in \u001b[0;36mfilter_traceback.<locals>.error_handler\u001b[1;34m(*args, **kwargs)\u001b[0m\n\u001b[0;32m    148\u001b[0m filtered_tb \u001b[38;5;241m=\u001b[39m \u001b[38;5;28;01mNone\u001b[39;00m\n\u001b[0;32m    149\u001b[0m \u001b[38;5;28;01mtry\u001b[39;00m:\n\u001b[1;32m--> 150\u001b[0m   \u001b[38;5;28;01mreturn\u001b[39;00m fn(\u001b[38;5;241m*\u001b[39margs, \u001b[38;5;241m*\u001b[39m\u001b[38;5;241m*\u001b[39mkwargs)\n\u001b[0;32m    151\u001b[0m \u001b[38;5;28;01mexcept\u001b[39;00m \u001b[38;5;167;01mException\u001b[39;00m \u001b[38;5;28;01mas\u001b[39;00m e:\n\u001b[0;32m    152\u001b[0m   filtered_tb \u001b[38;5;241m=\u001b[39m _process_traceback_frames(e\u001b[38;5;241m.\u001b[39m__traceback__)\n",
      "File \u001b[1;32m~\\AppData\\Local\\Programs\\Python\\Python310\\lib\\site-packages\\tensorflow\\python\\eager\\def_function.py:915\u001b[0m, in \u001b[0;36mFunction.__call__\u001b[1;34m(self, *args, **kwds)\u001b[0m\n\u001b[0;32m    912\u001b[0m compiler \u001b[38;5;241m=\u001b[39m \u001b[38;5;124m\"\u001b[39m\u001b[38;5;124mxla\u001b[39m\u001b[38;5;124m\"\u001b[39m \u001b[38;5;28;01mif\u001b[39;00m \u001b[38;5;28mself\u001b[39m\u001b[38;5;241m.\u001b[39m_jit_compile \u001b[38;5;28;01melse\u001b[39;00m \u001b[38;5;124m\"\u001b[39m\u001b[38;5;124mnonXla\u001b[39m\u001b[38;5;124m\"\u001b[39m\n\u001b[0;32m    914\u001b[0m \u001b[38;5;28;01mwith\u001b[39;00m OptionalXlaContext(\u001b[38;5;28mself\u001b[39m\u001b[38;5;241m.\u001b[39m_jit_compile):\n\u001b[1;32m--> 915\u001b[0m   result \u001b[38;5;241m=\u001b[39m \u001b[38;5;28mself\u001b[39m\u001b[38;5;241m.\u001b[39m_call(\u001b[38;5;241m*\u001b[39margs, \u001b[38;5;241m*\u001b[39m\u001b[38;5;241m*\u001b[39mkwds)\n\u001b[0;32m    917\u001b[0m new_tracing_count \u001b[38;5;241m=\u001b[39m \u001b[38;5;28mself\u001b[39m\u001b[38;5;241m.\u001b[39mexperimental_get_tracing_count()\n\u001b[0;32m    918\u001b[0m without_tracing \u001b[38;5;241m=\u001b[39m (tracing_count \u001b[38;5;241m==\u001b[39m new_tracing_count)\n",
      "File \u001b[1;32m~\\AppData\\Local\\Programs\\Python\\Python310\\lib\\site-packages\\tensorflow\\python\\eager\\def_function.py:947\u001b[0m, in \u001b[0;36mFunction._call\u001b[1;34m(self, *args, **kwds)\u001b[0m\n\u001b[0;32m    944\u001b[0m   \u001b[38;5;28mself\u001b[39m\u001b[38;5;241m.\u001b[39m_lock\u001b[38;5;241m.\u001b[39mrelease()\n\u001b[0;32m    945\u001b[0m   \u001b[38;5;66;03m# In this case we have created variables on the first call, so we run the\u001b[39;00m\n\u001b[0;32m    946\u001b[0m   \u001b[38;5;66;03m# defunned version which is guaranteed to never create variables.\u001b[39;00m\n\u001b[1;32m--> 947\u001b[0m   \u001b[38;5;28;01mreturn\u001b[39;00m \u001b[38;5;28mself\u001b[39m\u001b[38;5;241m.\u001b[39m_stateless_fn(\u001b[38;5;241m*\u001b[39margs, \u001b[38;5;241m*\u001b[39m\u001b[38;5;241m*\u001b[39mkwds)  \u001b[38;5;66;03m# pylint: disable=not-callable\u001b[39;00m\n\u001b[0;32m    948\u001b[0m \u001b[38;5;28;01melif\u001b[39;00m \u001b[38;5;28mself\u001b[39m\u001b[38;5;241m.\u001b[39m_stateful_fn \u001b[38;5;129;01mis\u001b[39;00m \u001b[38;5;129;01mnot\u001b[39;00m \u001b[38;5;28;01mNone\u001b[39;00m:\n\u001b[0;32m    949\u001b[0m   \u001b[38;5;66;03m# Release the lock early so that multiple threads can perform the call\u001b[39;00m\n\u001b[0;32m    950\u001b[0m   \u001b[38;5;66;03m# in parallel.\u001b[39;00m\n\u001b[0;32m    951\u001b[0m   \u001b[38;5;28mself\u001b[39m\u001b[38;5;241m.\u001b[39m_lock\u001b[38;5;241m.\u001b[39mrelease()\n",
      "File \u001b[1;32m~\\AppData\\Local\\Programs\\Python\\Python310\\lib\\site-packages\\tensorflow\\python\\eager\\function.py:2496\u001b[0m, in \u001b[0;36mFunction.__call__\u001b[1;34m(self, *args, **kwargs)\u001b[0m\n\u001b[0;32m   2493\u001b[0m \u001b[38;5;28;01mwith\u001b[39;00m \u001b[38;5;28mself\u001b[39m\u001b[38;5;241m.\u001b[39m_lock:\n\u001b[0;32m   2494\u001b[0m   (graph_function,\n\u001b[0;32m   2495\u001b[0m    filtered_flat_args) \u001b[38;5;241m=\u001b[39m \u001b[38;5;28mself\u001b[39m\u001b[38;5;241m.\u001b[39m_maybe_define_function(args, kwargs)\n\u001b[1;32m-> 2496\u001b[0m \u001b[38;5;28;01mreturn\u001b[39;00m \u001b[43mgraph_function\u001b[49m\u001b[38;5;241;43m.\u001b[39;49m\u001b[43m_call_flat\u001b[49m\u001b[43m(\u001b[49m\n\u001b[0;32m   2497\u001b[0m \u001b[43m    \u001b[49m\u001b[43mfiltered_flat_args\u001b[49m\u001b[43m,\u001b[49m\u001b[43m \u001b[49m\u001b[43mcaptured_inputs\u001b[49m\u001b[38;5;241;43m=\u001b[39;49m\u001b[43mgraph_function\u001b[49m\u001b[38;5;241;43m.\u001b[39;49m\u001b[43mcaptured_inputs\u001b[49m\u001b[43m)\u001b[49m\n",
      "File \u001b[1;32m~\\AppData\\Local\\Programs\\Python\\Python310\\lib\\site-packages\\tensorflow\\python\\eager\\function.py:1862\u001b[0m, in \u001b[0;36mConcreteFunction._call_flat\u001b[1;34m(self, args, captured_inputs, cancellation_manager)\u001b[0m\n\u001b[0;32m   1858\u001b[0m possible_gradient_type \u001b[38;5;241m=\u001b[39m gradients_util\u001b[38;5;241m.\u001b[39mPossibleTapeGradientTypes(args)\n\u001b[0;32m   1859\u001b[0m \u001b[38;5;28;01mif\u001b[39;00m (possible_gradient_type \u001b[38;5;241m==\u001b[39m gradients_util\u001b[38;5;241m.\u001b[39mPOSSIBLE_GRADIENT_TYPES_NONE\n\u001b[0;32m   1860\u001b[0m     \u001b[38;5;129;01mand\u001b[39;00m executing_eagerly):\n\u001b[0;32m   1861\u001b[0m   \u001b[38;5;66;03m# No tape is watching; skip to running the function.\u001b[39;00m\n\u001b[1;32m-> 1862\u001b[0m   \u001b[38;5;28;01mreturn\u001b[39;00m \u001b[38;5;28mself\u001b[39m\u001b[38;5;241m.\u001b[39m_build_call_outputs(\u001b[38;5;28;43mself\u001b[39;49m\u001b[38;5;241;43m.\u001b[39;49m\u001b[43m_inference_function\u001b[49m\u001b[38;5;241;43m.\u001b[39;49m\u001b[43mcall\u001b[49m\u001b[43m(\u001b[49m\n\u001b[0;32m   1863\u001b[0m \u001b[43m      \u001b[49m\u001b[43mctx\u001b[49m\u001b[43m,\u001b[49m\u001b[43m \u001b[49m\u001b[43margs\u001b[49m\u001b[43m,\u001b[49m\u001b[43m \u001b[49m\u001b[43mcancellation_manager\u001b[49m\u001b[38;5;241;43m=\u001b[39;49m\u001b[43mcancellation_manager\u001b[49m\u001b[43m)\u001b[49m)\n\u001b[0;32m   1864\u001b[0m forward_backward \u001b[38;5;241m=\u001b[39m \u001b[38;5;28mself\u001b[39m\u001b[38;5;241m.\u001b[39m_select_forward_and_backward_functions(\n\u001b[0;32m   1865\u001b[0m     args,\n\u001b[0;32m   1866\u001b[0m     possible_gradient_type,\n\u001b[0;32m   1867\u001b[0m     executing_eagerly)\n\u001b[0;32m   1868\u001b[0m forward_function, args_with_tangents \u001b[38;5;241m=\u001b[39m forward_backward\u001b[38;5;241m.\u001b[39mforward()\n",
      "File \u001b[1;32m~\\AppData\\Local\\Programs\\Python\\Python310\\lib\\site-packages\\tensorflow\\python\\eager\\function.py:499\u001b[0m, in \u001b[0;36m_EagerDefinedFunction.call\u001b[1;34m(self, ctx, args, cancellation_manager)\u001b[0m\n\u001b[0;32m    497\u001b[0m \u001b[38;5;28;01mwith\u001b[39;00m _InterpolateFunctionError(\u001b[38;5;28mself\u001b[39m):\n\u001b[0;32m    498\u001b[0m   \u001b[38;5;28;01mif\u001b[39;00m cancellation_manager \u001b[38;5;129;01mis\u001b[39;00m \u001b[38;5;28;01mNone\u001b[39;00m:\n\u001b[1;32m--> 499\u001b[0m     outputs \u001b[38;5;241m=\u001b[39m \u001b[43mexecute\u001b[49m\u001b[38;5;241;43m.\u001b[39;49m\u001b[43mexecute\u001b[49m\u001b[43m(\u001b[49m\n\u001b[0;32m    500\u001b[0m \u001b[43m        \u001b[49m\u001b[38;5;28;43mstr\u001b[39;49m\u001b[43m(\u001b[49m\u001b[38;5;28;43mself\u001b[39;49m\u001b[38;5;241;43m.\u001b[39;49m\u001b[43msignature\u001b[49m\u001b[38;5;241;43m.\u001b[39;49m\u001b[43mname\u001b[49m\u001b[43m)\u001b[49m\u001b[43m,\u001b[49m\n\u001b[0;32m    501\u001b[0m \u001b[43m        \u001b[49m\u001b[43mnum_outputs\u001b[49m\u001b[38;5;241;43m=\u001b[39;49m\u001b[38;5;28;43mself\u001b[39;49m\u001b[38;5;241;43m.\u001b[39;49m\u001b[43m_num_outputs\u001b[49m\u001b[43m,\u001b[49m\n\u001b[0;32m    502\u001b[0m \u001b[43m        \u001b[49m\u001b[43minputs\u001b[49m\u001b[38;5;241;43m=\u001b[39;49m\u001b[43margs\u001b[49m\u001b[43m,\u001b[49m\n\u001b[0;32m    503\u001b[0m \u001b[43m        \u001b[49m\u001b[43mattrs\u001b[49m\u001b[38;5;241;43m=\u001b[39;49m\u001b[43mattrs\u001b[49m\u001b[43m,\u001b[49m\n\u001b[0;32m    504\u001b[0m \u001b[43m        \u001b[49m\u001b[43mctx\u001b[49m\u001b[38;5;241;43m=\u001b[39;49m\u001b[43mctx\u001b[49m\u001b[43m)\u001b[49m\n\u001b[0;32m    505\u001b[0m   \u001b[38;5;28;01melse\u001b[39;00m:\n\u001b[0;32m    506\u001b[0m     outputs \u001b[38;5;241m=\u001b[39m execute\u001b[38;5;241m.\u001b[39mexecute_with_cancellation(\n\u001b[0;32m    507\u001b[0m         \u001b[38;5;28mstr\u001b[39m(\u001b[38;5;28mself\u001b[39m\u001b[38;5;241m.\u001b[39msignature\u001b[38;5;241m.\u001b[39mname),\n\u001b[0;32m    508\u001b[0m         num_outputs\u001b[38;5;241m=\u001b[39m\u001b[38;5;28mself\u001b[39m\u001b[38;5;241m.\u001b[39m_num_outputs,\n\u001b[1;32m   (...)\u001b[0m\n\u001b[0;32m    511\u001b[0m         ctx\u001b[38;5;241m=\u001b[39mctx,\n\u001b[0;32m    512\u001b[0m         cancellation_manager\u001b[38;5;241m=\u001b[39mcancellation_manager)\n",
      "File \u001b[1;32m~\\AppData\\Local\\Programs\\Python\\Python310\\lib\\site-packages\\tensorflow\\python\\eager\\execute.py:54\u001b[0m, in \u001b[0;36mquick_execute\u001b[1;34m(op_name, num_outputs, inputs, attrs, ctx, name)\u001b[0m\n\u001b[0;32m     52\u001b[0m \u001b[38;5;28;01mtry\u001b[39;00m:\n\u001b[0;32m     53\u001b[0m   ctx\u001b[38;5;241m.\u001b[39mensure_initialized()\n\u001b[1;32m---> 54\u001b[0m   tensors \u001b[38;5;241m=\u001b[39m \u001b[43mpywrap_tfe\u001b[49m\u001b[38;5;241;43m.\u001b[39;49m\u001b[43mTFE_Py_Execute\u001b[49m\u001b[43m(\u001b[49m\u001b[43mctx\u001b[49m\u001b[38;5;241;43m.\u001b[39;49m\u001b[43m_handle\u001b[49m\u001b[43m,\u001b[49m\u001b[43m \u001b[49m\u001b[43mdevice_name\u001b[49m\u001b[43m,\u001b[49m\u001b[43m \u001b[49m\u001b[43mop_name\u001b[49m\u001b[43m,\u001b[49m\n\u001b[0;32m     55\u001b[0m \u001b[43m                                      \u001b[49m\u001b[43minputs\u001b[49m\u001b[43m,\u001b[49m\u001b[43m \u001b[49m\u001b[43mattrs\u001b[49m\u001b[43m,\u001b[49m\u001b[43m \u001b[49m\u001b[43mnum_outputs\u001b[49m\u001b[43m)\u001b[49m\n\u001b[0;32m     56\u001b[0m \u001b[38;5;28;01mexcept\u001b[39;00m core\u001b[38;5;241m.\u001b[39m_NotOkStatusException \u001b[38;5;28;01mas\u001b[39;00m e:\n\u001b[0;32m     57\u001b[0m   \u001b[38;5;28;01mif\u001b[39;00m name \u001b[38;5;129;01mis\u001b[39;00m \u001b[38;5;129;01mnot\u001b[39;00m \u001b[38;5;28;01mNone\u001b[39;00m:\n",
      "\u001b[1;31mKeyboardInterrupt\u001b[0m: "
     ]
    }
   ],
   "source": [
    "model.fit(xtrain_pad, y=ytrain_enc, batch_size=512, epochs=100, verbose=1, validation_data=(xvalid_pad, yvalid_enc))"
   ]
  },
  {
   "cell_type": "code",
   "execution_count": 104,
   "id": "508db2ef",
   "metadata": {},
   "outputs": [
    {
     "name": "stdout",
     "output_type": "stream",
     "text": [
      "168/168 [==============================] - 4s 22ms/step\n"
     ]
    }
   ],
   "source": [
    "y_pred=model.predict(xtrain_pad)"
   ]
  },
  {
   "cell_type": "code",
   "execution_count": 106,
   "id": "a79ed704",
   "metadata": {},
   "outputs": [],
   "source": [
    "y_pred = [np.argmax(y_) for y_ in y_pred]"
   ]
  },
  {
   "cell_type": "code",
   "execution_count": 115,
   "id": "34af9268",
   "metadata": {},
   "outputs": [
    {
     "data": {
      "text/plain": [
       "[0,\n",
       " 0,\n",
       " 0,\n",
       " 0,\n",
       " 4,\n",
       " 0,\n",
       " 0,\n",
       " 0,\n",
       " 4,\n",
       " 0,\n",
       " 0,\n",
       " 0,\n",
       " 4,\n",
       " 0,\n",
       " 0,\n",
       " 0,\n",
       " 0,\n",
       " 0,\n",
       " 0,\n",
       " 0,\n",
       " 0,\n",
       " 4,\n",
       " 0,\n",
       " 0,\n",
       " 4,\n",
       " 0,\n",
       " 0,\n",
       " 4,\n",
       " 4,\n",
       " 4,\n",
       " 0,\n",
       " 0,\n",
       " 0,\n",
       " 0,\n",
       " 0,\n",
       " 4,\n",
       " 4,\n",
       " 0,\n",
       " 4,\n",
       " 0,\n",
       " 0,\n",
       " 0,\n",
       " 0,\n",
       " 0,\n",
       " 0,\n",
       " 0,\n",
       " 0,\n",
       " 0,\n",
       " 0,\n",
       " 0,\n",
       " 4,\n",
       " 0,\n",
       " 0,\n",
       " 0,\n",
       " 4,\n",
       " 0,\n",
       " 0,\n",
       " 0,\n",
       " 0,\n",
       " 0,\n",
       " 0,\n",
       " 0,\n",
       " 0,\n",
       " 0,\n",
       " 4,\n",
       " 0,\n",
       " 0,\n",
       " 0,\n",
       " 0,\n",
       " 0,\n",
       " 4,\n",
       " 0,\n",
       " 0,\n",
       " 0,\n",
       " 4,\n",
       " 0,\n",
       " 4,\n",
       " 0,\n",
       " 4,\n",
       " 0,\n",
       " 0,\n",
       " 0,\n",
       " 4,\n",
       " 4,\n",
       " 4,\n",
       " 0,\n",
       " 0,\n",
       " 0,\n",
       " 0,\n",
       " 0,\n",
       " 0,\n",
       " 4,\n",
       " 0,\n",
       " 4,\n",
       " 4,\n",
       " 0,\n",
       " 0,\n",
       " 4,\n",
       " 4,\n",
       " 4,\n",
       " 0,\n",
       " 4,\n",
       " 0,\n",
       " 4,\n",
       " 0,\n",
       " 0,\n",
       " 0,\n",
       " 0,\n",
       " 4,\n",
       " 4,\n",
       " 4,\n",
       " 0,\n",
       " 4,\n",
       " 0,\n",
       " 0,\n",
       " 0,\n",
       " 0,\n",
       " 0,\n",
       " 0,\n",
       " 0,\n",
       " 4,\n",
       " 4,\n",
       " 4,\n",
       " 0,\n",
       " 0,\n",
       " 0,\n",
       " 0,\n",
       " 0,\n",
       " 0,\n",
       " 0,\n",
       " 0,\n",
       " 0,\n",
       " 0,\n",
       " 4,\n",
       " 0,\n",
       " 4,\n",
       " 0,\n",
       " 0,\n",
       " 0,\n",
       " 0,\n",
       " 0,\n",
       " 0,\n",
       " 4,\n",
       " 0,\n",
       " 0,\n",
       " 0,\n",
       " 0,\n",
       " 0,\n",
       " 0,\n",
       " 0,\n",
       " 4,\n",
       " 0,\n",
       " 0,\n",
       " 0,\n",
       " 0,\n",
       " 4,\n",
       " 0,\n",
       " 0,\n",
       " 0,\n",
       " 4,\n",
       " 4,\n",
       " 0,\n",
       " 0,\n",
       " 0,\n",
       " 4,\n",
       " 0,\n",
       " 0,\n",
       " 0,\n",
       " 0,\n",
       " 0,\n",
       " 0,\n",
       " 0,\n",
       " 4,\n",
       " 0,\n",
       " 4,\n",
       " 0,\n",
       " 0,\n",
       " 0,\n",
       " 4,\n",
       " 4,\n",
       " 0,\n",
       " 4,\n",
       " 0,\n",
       " 0,\n",
       " 0,\n",
       " 0,\n",
       " 4,\n",
       " 0,\n",
       " 0,\n",
       " 0,\n",
       " 0,\n",
       " 4,\n",
       " 0,\n",
       " 0,\n",
       " 4,\n",
       " 4,\n",
       " 0,\n",
       " 0,\n",
       " 4,\n",
       " 0,\n",
       " 0,\n",
       " 0,\n",
       " 0,\n",
       " 4,\n",
       " 0,\n",
       " 0,\n",
       " 0,\n",
       " 0,\n",
       " 0,\n",
       " 4,\n",
       " 0,\n",
       " 4,\n",
       " 0,\n",
       " 0,\n",
       " 4,\n",
       " 0,\n",
       " 0,\n",
       " 0,\n",
       " 0,\n",
       " 4,\n",
       " 0,\n",
       " 4,\n",
       " 0,\n",
       " 0,\n",
       " 0,\n",
       " 0,\n",
       " 0,\n",
       " 4,\n",
       " 0,\n",
       " 4,\n",
       " 4,\n",
       " 4,\n",
       " 4,\n",
       " 4,\n",
       " 0,\n",
       " 0,\n",
       " 0,\n",
       " 0,\n",
       " 0,\n",
       " 0,\n",
       " 0,\n",
       " 4,\n",
       " 4,\n",
       " 0,\n",
       " 4,\n",
       " 0,\n",
       " 0,\n",
       " 0,\n",
       " 0,\n",
       " 4,\n",
       " 0,\n",
       " 0,\n",
       " 0,\n",
       " 0,\n",
       " 0,\n",
       " 0,\n",
       " 4,\n",
       " 0,\n",
       " 4,\n",
       " 0,\n",
       " 0,\n",
       " 4,\n",
       " 0,\n",
       " 0,\n",
       " 4,\n",
       " 0,\n",
       " 0,\n",
       " 0,\n",
       " 0,\n",
       " 4,\n",
       " 0,\n",
       " 4,\n",
       " 0,\n",
       " 0,\n",
       " 0,\n",
       " 0,\n",
       " 0,\n",
       " 0,\n",
       " 4,\n",
       " 4,\n",
       " 0,\n",
       " 0,\n",
       " 4,\n",
       " 0,\n",
       " 0,\n",
       " 4,\n",
       " 0,\n",
       " 0,\n",
       " 4,\n",
       " 4,\n",
       " 0,\n",
       " 4,\n",
       " 0,\n",
       " 0,\n",
       " 0,\n",
       " 0,\n",
       " 0,\n",
       " 0,\n",
       " 0,\n",
       " 0,\n",
       " 4,\n",
       " 0,\n",
       " 0,\n",
       " 0,\n",
       " 0,\n",
       " 0,\n",
       " 0,\n",
       " 4,\n",
       " 4,\n",
       " 4,\n",
       " 4,\n",
       " 0,\n",
       " 0,\n",
       " 0,\n",
       " 0,\n",
       " 4,\n",
       " 4,\n",
       " 0,\n",
       " 0,\n",
       " 4,\n",
       " 4,\n",
       " 0,\n",
       " 0,\n",
       " 0,\n",
       " 4,\n",
       " 4,\n",
       " 4,\n",
       " 0,\n",
       " 4,\n",
       " 4,\n",
       " 0,\n",
       " 4,\n",
       " 0,\n",
       " 0,\n",
       " 0,\n",
       " 4,\n",
       " 0,\n",
       " 4,\n",
       " 4,\n",
       " 4,\n",
       " 4,\n",
       " 4,\n",
       " 0,\n",
       " 0,\n",
       " 4,\n",
       " 0,\n",
       " 0,\n",
       " 0,\n",
       " 4,\n",
       " 0,\n",
       " 4,\n",
       " 0,\n",
       " 0,\n",
       " 0,\n",
       " 4,\n",
       " 0,\n",
       " 0,\n",
       " 0,\n",
       " 0,\n",
       " 0,\n",
       " 4,\n",
       " 0,\n",
       " 0,\n",
       " 0,\n",
       " 4,\n",
       " 4,\n",
       " 0,\n",
       " 4,\n",
       " 0,\n",
       " 0,\n",
       " 0,\n",
       " 4,\n",
       " 4,\n",
       " 0,\n",
       " 0,\n",
       " 0,\n",
       " 4,\n",
       " 4,\n",
       " 4,\n",
       " 0,\n",
       " 4,\n",
       " 0,\n",
       " 0,\n",
       " 0,\n",
       " 0,\n",
       " 4,\n",
       " 4,\n",
       " 4,\n",
       " 4,\n",
       " 4,\n",
       " 0,\n",
       " 0,\n",
       " 4,\n",
       " 4,\n",
       " 4,\n",
       " 0,\n",
       " 0,\n",
       " 0,\n",
       " 4,\n",
       " 0,\n",
       " 0,\n",
       " 0,\n",
       " 0,\n",
       " 0,\n",
       " 0,\n",
       " 0,\n",
       " 0,\n",
       " 4,\n",
       " 0,\n",
       " 0,\n",
       " 4,\n",
       " 0,\n",
       " 0,\n",
       " 0,\n",
       " 0,\n",
       " 0,\n",
       " 0,\n",
       " 4,\n",
       " 0,\n",
       " 4,\n",
       " 0,\n",
       " 0,\n",
       " 0,\n",
       " 4,\n",
       " 0,\n",
       " 0,\n",
       " 0,\n",
       " 0,\n",
       " 0,\n",
       " 4,\n",
       " 0,\n",
       " 0,\n",
       " 0,\n",
       " 0,\n",
       " 0,\n",
       " 0,\n",
       " 0,\n",
       " 0,\n",
       " 4,\n",
       " 4,\n",
       " 0,\n",
       " 4,\n",
       " 0,\n",
       " 4,\n",
       " 4,\n",
       " 0,\n",
       " 0,\n",
       " 0,\n",
       " 0,\n",
       " 0,\n",
       " 0,\n",
       " 4,\n",
       " 0,\n",
       " 4,\n",
       " 4,\n",
       " 0,\n",
       " 0,\n",
       " 4,\n",
       " 4,\n",
       " 0,\n",
       " 4,\n",
       " 4,\n",
       " 0,\n",
       " 4,\n",
       " 4,\n",
       " 4,\n",
       " 0,\n",
       " 0,\n",
       " 0,\n",
       " 0,\n",
       " 4,\n",
       " 0,\n",
       " 0,\n",
       " 4,\n",
       " 4,\n",
       " 0,\n",
       " 0,\n",
       " 4,\n",
       " 4,\n",
       " 0,\n",
       " 0,\n",
       " 0,\n",
       " 0,\n",
       " 0,\n",
       " 0,\n",
       " 0,\n",
       " 0,\n",
       " 0,\n",
       " 4,\n",
       " 0,\n",
       " 4,\n",
       " 0,\n",
       " 0,\n",
       " 0,\n",
       " 0,\n",
       " 0,\n",
       " 0,\n",
       " 0,\n",
       " 0,\n",
       " 4,\n",
       " 4,\n",
       " 0,\n",
       " 0,\n",
       " 0,\n",
       " 4,\n",
       " 0,\n",
       " 0,\n",
       " 0,\n",
       " 4,\n",
       " 0,\n",
       " 0,\n",
       " 0,\n",
       " 0,\n",
       " 0,\n",
       " 4,\n",
       " 0,\n",
       " 4,\n",
       " 4,\n",
       " 4,\n",
       " 0,\n",
       " 4,\n",
       " 0,\n",
       " 0,\n",
       " 0,\n",
       " 0,\n",
       " 0,\n",
       " 4,\n",
       " 0,\n",
       " 0,\n",
       " 0,\n",
       " 0,\n",
       " 0,\n",
       " 4,\n",
       " 0,\n",
       " 4,\n",
       " 0,\n",
       " 0,\n",
       " 0,\n",
       " 4,\n",
       " 0,\n",
       " 4,\n",
       " 0,\n",
       " 0,\n",
       " 4,\n",
       " 4,\n",
       " 0,\n",
       " 0,\n",
       " 0,\n",
       " 0,\n",
       " 4,\n",
       " 0,\n",
       " 4,\n",
       " 0,\n",
       " 0,\n",
       " 0,\n",
       " 0,\n",
       " 4,\n",
       " 4,\n",
       " 4,\n",
       " 0,\n",
       " 4,\n",
       " 4,\n",
       " 4,\n",
       " 4,\n",
       " 4,\n",
       " 0,\n",
       " 4,\n",
       " 4,\n",
       " 0,\n",
       " 0,\n",
       " 4,\n",
       " 0,\n",
       " 4,\n",
       " 0,\n",
       " 0,\n",
       " 0,\n",
       " 0,\n",
       " 0,\n",
       " 0,\n",
       " 4,\n",
       " 4,\n",
       " 0,\n",
       " 0,\n",
       " 0,\n",
       " 4,\n",
       " 0,\n",
       " 4,\n",
       " 0,\n",
       " 0,\n",
       " 0,\n",
       " 0,\n",
       " 0,\n",
       " 0,\n",
       " 0,\n",
       " 4,\n",
       " 4,\n",
       " 0,\n",
       " 0,\n",
       " 0,\n",
       " 0,\n",
       " 0,\n",
       " 0,\n",
       " 0,\n",
       " 0,\n",
       " 0,\n",
       " 4,\n",
       " 4,\n",
       " 0,\n",
       " 0,\n",
       " 4,\n",
       " 0,\n",
       " 0,\n",
       " 0,\n",
       " 0,\n",
       " 0,\n",
       " 0,\n",
       " 4,\n",
       " 0,\n",
       " 0,\n",
       " 0,\n",
       " 0,\n",
       " 0,\n",
       " 4,\n",
       " 0,\n",
       " 4,\n",
       " 0,\n",
       " 0,\n",
       " 4,\n",
       " 0,\n",
       " 0,\n",
       " 0,\n",
       " 0,\n",
       " 0,\n",
       " 0,\n",
       " 4,\n",
       " 4,\n",
       " 0,\n",
       " 4,\n",
       " 4,\n",
       " 4,\n",
       " 0,\n",
       " 0,\n",
       " 4,\n",
       " 0,\n",
       " 4,\n",
       " 0,\n",
       " 4,\n",
       " 4,\n",
       " 0,\n",
       " 4,\n",
       " 4,\n",
       " 0,\n",
       " 0,\n",
       " 0,\n",
       " 0,\n",
       " 4,\n",
       " 0,\n",
       " 4,\n",
       " 0,\n",
       " 0,\n",
       " 4,\n",
       " 0,\n",
       " 4,\n",
       " 0,\n",
       " 0,\n",
       " 0,\n",
       " 4,\n",
       " 4,\n",
       " 0,\n",
       " 4,\n",
       " 0,\n",
       " 0,\n",
       " 4,\n",
       " 4,\n",
       " 0,\n",
       " 0,\n",
       " 4,\n",
       " 0,\n",
       " 0,\n",
       " 4,\n",
       " 0,\n",
       " 0,\n",
       " 0,\n",
       " 4,\n",
       " 0,\n",
       " 4,\n",
       " 4,\n",
       " 0,\n",
       " 0,\n",
       " 4,\n",
       " 0,\n",
       " 4,\n",
       " 0,\n",
       " 4,\n",
       " 0,\n",
       " 4,\n",
       " 4,\n",
       " 0,\n",
       " 0,\n",
       " 0,\n",
       " 0,\n",
       " 4,\n",
       " 0,\n",
       " 0,\n",
       " 4,\n",
       " 0,\n",
       " 0,\n",
       " 0,\n",
       " 0,\n",
       " 0,\n",
       " 4,\n",
       " 4,\n",
       " 0,\n",
       " 0,\n",
       " 0,\n",
       " 0,\n",
       " 4,\n",
       " 4,\n",
       " 0,\n",
       " 0,\n",
       " 0,\n",
       " 0,\n",
       " 0,\n",
       " 0,\n",
       " 0,\n",
       " 0,\n",
       " 0,\n",
       " 0,\n",
       " 4,\n",
       " 4,\n",
       " 0,\n",
       " 0,\n",
       " 0,\n",
       " 4,\n",
       " 0,\n",
       " 0,\n",
       " 4,\n",
       " 4,\n",
       " 0,\n",
       " 4,\n",
       " 0,\n",
       " 0,\n",
       " 0,\n",
       " 0,\n",
       " 0,\n",
       " 0,\n",
       " 0,\n",
       " 0,\n",
       " 0,\n",
       " 0,\n",
       " 0,\n",
       " 0,\n",
       " 4,\n",
       " 0,\n",
       " 4,\n",
       " 4,\n",
       " 0,\n",
       " 4,\n",
       " 0,\n",
       " 0,\n",
       " 0,\n",
       " 0,\n",
       " 0,\n",
       " 4,\n",
       " 0,\n",
       " 0,\n",
       " 4,\n",
       " 0,\n",
       " 0,\n",
       " 0,\n",
       " 4,\n",
       " 0,\n",
       " 4,\n",
       " 4,\n",
       " 0,\n",
       " 4,\n",
       " 4,\n",
       " 0,\n",
       " 0,\n",
       " 0,\n",
       " 4,\n",
       " 4,\n",
       " 4,\n",
       " 4,\n",
       " 4,\n",
       " 0,\n",
       " 0,\n",
       " 0,\n",
       " 4,\n",
       " 0,\n",
       " 0,\n",
       " 0,\n",
       " 0,\n",
       " 0,\n",
       " 4,\n",
       " 0,\n",
       " 0,\n",
       " 0,\n",
       " 0,\n",
       " 4,\n",
       " 0,\n",
       " 4,\n",
       " 4,\n",
       " 0,\n",
       " 4,\n",
       " 4,\n",
       " 4,\n",
       " 0,\n",
       " 0,\n",
       " 4,\n",
       " 4,\n",
       " 4,\n",
       " 0,\n",
       " 0,\n",
       " 0,\n",
       " 4,\n",
       " 0,\n",
       " 0,\n",
       " 0,\n",
       " 0,\n",
       " 0,\n",
       " 0,\n",
       " 4,\n",
       " 4,\n",
       " 0,\n",
       " 4,\n",
       " 4,\n",
       " 0,\n",
       " 4,\n",
       " 4,\n",
       " 4,\n",
       " 4,\n",
       " 0,\n",
       " 0,\n",
       " 4,\n",
       " 0,\n",
       " 0,\n",
       " 4,\n",
       " 0,\n",
       " 0,\n",
       " 0,\n",
       " 4,\n",
       " 0,\n",
       " 4,\n",
       " 0,\n",
       " 4,\n",
       " 0,\n",
       " 0,\n",
       " 4,\n",
       " 0,\n",
       " 0,\n",
       " 0,\n",
       " 0,\n",
       " 0,\n",
       " 0,\n",
       " 4,\n",
       " 0,\n",
       " 4,\n",
       " 4,\n",
       " 0,\n",
       " 4,\n",
       " 0,\n",
       " 0,\n",
       " 0,\n",
       " 4,\n",
       " 0,\n",
       " 0,\n",
       " 0,\n",
       " 4,\n",
       " 0,\n",
       " 4,\n",
       " 0,\n",
       " 0,\n",
       " 4,\n",
       " 4,\n",
       " 0,\n",
       " 0,\n",
       " 0,\n",
       " 4,\n",
       " 4,\n",
       " 0,\n",
       " 4,\n",
       " 0,\n",
       " 4,\n",
       " 0,\n",
       " 4,\n",
       " 0,\n",
       " 4,\n",
       " 0,\n",
       " 0,\n",
       " 0,\n",
       " 0,\n",
       " 0,\n",
       " 0,\n",
       " 0,\n",
       " 0,\n",
       " 0,\n",
       " 0,\n",
       " 0,\n",
       " 4,\n",
       " 0,\n",
       " 4,\n",
       " 0,\n",
       " 0,\n",
       " 0,\n",
       " 0,\n",
       " 0,\n",
       " 0,\n",
       " 0,\n",
       " 4,\n",
       " 4,\n",
       " 0,\n",
       " 0,\n",
       " 0,\n",
       " 4,\n",
       " 0,\n",
       " 4,\n",
       " 0,\n",
       " 0,\n",
       " 0,\n",
       " 4,\n",
       " 4,\n",
       " 0,\n",
       " 4,\n",
       " 0,\n",
       " 0,\n",
       " 0,\n",
       " 4,\n",
       " 4,\n",
       " 4,\n",
       " 0,\n",
       " 0,\n",
       " 4,\n",
       " 0,\n",
       " 4,\n",
       " 4,\n",
       " 0,\n",
       " 0,\n",
       " 4,\n",
       " 4,\n",
       " 4,\n",
       " 4,\n",
       " 4,\n",
       " 0,\n",
       " 4,\n",
       " 4,\n",
       " 0,\n",
       " 4,\n",
       " 0,\n",
       " 0,\n",
       " 0,\n",
       " 0,\n",
       " 4,\n",
       " 4,\n",
       " 0,\n",
       " 0,\n",
       " 4,\n",
       " 0,\n",
       " 0,\n",
       " 0,\n",
       " 4,\n",
       " 0,\n",
       " 0,\n",
       " 0,\n",
       " 0,\n",
       " 0,\n",
       " 0,\n",
       " 0,\n",
       " 4,\n",
       " 0,\n",
       " 4,\n",
       " 0,\n",
       " 0,\n",
       " 0,\n",
       " 0,\n",
       " 0,\n",
       " 0,\n",
       " 4,\n",
       " 0,\n",
       " 4,\n",
       " 4,\n",
       " 0,\n",
       " 0,\n",
       " 0,\n",
       " 0,\n",
       " 0,\n",
       " 0,\n",
       " 0,\n",
       " 0,\n",
       " 0,\n",
       " 0,\n",
       " 4,\n",
       " 4,\n",
       " 0,\n",
       " 0,\n",
       " 0,\n",
       " 0,\n",
       " 4,\n",
       " 0,\n",
       " 0,\n",
       " ...]"
      ]
     },
     "execution_count": 115,
     "metadata": {},
     "output_type": "execute_result"
    }
   ],
   "source": [
    "y_pred"
   ]
  },
  {
   "cell_type": "code",
   "execution_count": 125,
   "id": "d167a78a",
   "metadata": {},
   "outputs": [
    {
     "data": {
      "text/plain": [
       "(\"it's very simple app and helpful on finding good and bad about various food items. described in very simple English and makes it more reliable.\",\n",
       " 4)"
      ]
     },
     "execution_count": 125,
     "metadata": {},
     "output_type": "execute_result"
    }
   ],
   "source": [
    "train_X[1331],train_y[1331]"
   ]
  },
  {
   "cell_type": "code",
   "execution_count": 130,
   "id": "93b9f485",
   "metadata": {},
   "outputs": [],
   "source": [
    "seq=token.texts_to_sequences([\"app is great\"])\n",
    "pad_seq=pad_sequences(seq, maxlen=max_len)"
   ]
  },
  {
   "cell_type": "code",
   "execution_count": 131,
   "id": "9cc00a85",
   "metadata": {},
   "outputs": [
    {
     "name": "stdout",
     "output_type": "stream",
     "text": [
      "1/1 [==============================] - 0s 43ms/step\n"
     ]
    },
    {
     "data": {
      "text/plain": [
       "array([[0.12518701, 0.04386723, 0.0860995 , 0.22739294, 0.5174534 ]],\n",
       "      dtype=float32)"
      ]
     },
     "execution_count": 131,
     "metadata": {},
     "output_type": "execute_result"
    }
   ],
   "source": [
    "model.predict(pad_seq)"
   ]
  },
  {
   "cell_type": "code",
   "execution_count": null,
   "id": "b8093bf0",
   "metadata": {},
   "outputs": [],
   "source": []
  }
 ],
 "metadata": {
  "kernelspec": {
   "display_name": "Python 3 (ipykernel)",
   "language": "python",
   "name": "python3"
  },
  "language_info": {
   "codemirror_mode": {
    "name": "ipython",
    "version": 3
   },
   "file_extension": ".py",
   "mimetype": "text/x-python",
   "name": "python",
   "nbconvert_exporter": "python",
   "pygments_lexer": "ipython3",
   "version": "3.10.8"
  }
 },
 "nbformat": 4,
 "nbformat_minor": 5
}
