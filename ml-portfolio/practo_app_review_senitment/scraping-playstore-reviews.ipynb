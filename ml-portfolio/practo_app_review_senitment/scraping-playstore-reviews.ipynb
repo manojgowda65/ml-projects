{
 "cells": [
  {
   "cell_type": "markdown",
   "id": "6e4f3a38-87a7-4205-9be6-bfdf815d12ec",
   "metadata": {
    "tags": []
   },
   "source": [
    "### Imports"
   ]
  },
  {
   "cell_type": "code",
   "execution_count": 1,
   "id": "9ec22741-06c6-498c-b731-5e23874fdece",
   "metadata": {},
   "outputs": [
    {
     "ename": "ModuleNotFoundError",
     "evalue": "No module named 'selenium'",
     "output_type": "error",
     "traceback": [
      "\u001b[1;31m---------------------------------------------------------------------------\u001b[0m",
      "\u001b[1;31mModuleNotFoundError\u001b[0m                       Traceback (most recent call last)",
      "Cell \u001b[1;32mIn [1], line 1\u001b[0m\n\u001b[1;32m----> 1\u001b[0m \u001b[38;5;28;01mfrom\u001b[39;00m \u001b[38;5;21;01mselenium\u001b[39;00m \u001b[38;5;28;01mimport\u001b[39;00m webdriver           \n\u001b[0;32m      2\u001b[0m \u001b[38;5;28;01mfrom\u001b[39;00m \u001b[38;5;21;01mselenium\u001b[39;00m\u001b[38;5;21;01m.\u001b[39;00m\u001b[38;5;21;01mwebdriver\u001b[39;00m\u001b[38;5;21;01m.\u001b[39;00m\u001b[38;5;21;01msupport\u001b[39;00m \u001b[38;5;28;01mimport\u001b[39;00m expected_conditions\n\u001b[0;32m      3\u001b[0m \u001b[38;5;28;01mfrom\u001b[39;00m \u001b[38;5;21;01mselenium\u001b[39;00m\u001b[38;5;21;01m.\u001b[39;00m\u001b[38;5;21;01mwebdriver\u001b[39;00m\u001b[38;5;21;01m.\u001b[39;00m\u001b[38;5;21;01mcommon\u001b[39;00m\u001b[38;5;21;01m.\u001b[39;00m\u001b[38;5;21;01mby\u001b[39;00m \u001b[38;5;28;01mimport\u001b[39;00m By\n",
      "\u001b[1;31mModuleNotFoundError\u001b[0m: No module named 'selenium'"
     ]
    }
   ],
   "source": [
    "from selenium import webdriver           \n",
    "from selenium.webdriver.support import expected_conditions\n",
    "from selenium.webdriver.common.by import By\n",
    "from selenium.webdriver.support.ui import WebDriverWait#import webDriver\n",
    "from bs4 import BeautifulSoup\n",
    "sys.path.insert(0,'E:/Manoj/downloads')"
   ]
  },
  {
   "cell_type": "code",
   "execution_count": 44,
   "id": "b34833d5",
   "metadata": {},
   "outputs": [],
   "source": [
    "import pandas as pd\n",
    "import numpy as np\n",
    "import sys\n",
    "import re\n",
    "import matplotlib.pyplot as plt\n",
    "import time"
   ]
  },
  {
   "cell_type": "markdown",
   "id": "e95677e9-3658-4fbf-a4c4-6ad35d8f7789",
   "metadata": {},
   "source": [
    "### Search for see all reviews button and click to load the reviews"
   ]
  },
  {
   "cell_type": "code",
   "execution_count": 49,
   "id": "244d3103-839a-40a9-abb3-01d742659a31",
   "metadata": {},
   "outputs": [
    {
     "name": "stderr",
     "output_type": "stream",
     "text": [
      "C:\\Users\\info\\AppData\\Local\\Temp\\ipykernel_8940\\1866220883.py:4: DeprecationWarning: use options instead of chrome_options\n",
      "  selenium = webdriver.Chrome('chromedriver',chrome_options=chrome_options)\n"
     ]
    }
   ],
   "source": [
    "\n",
    "chrome_options = webdriver.ChromeOptions()\n",
    "chrome_options.add_argument('--no-sandbox')                             \n",
    "chrome_options.add_argument('--disable-dev-shm-usage')\n",
    "selenium = webdriver.Chrome('chromedriver',chrome_options=chrome_options)\n",
    "selenium.get(\"https://play.google.com/store/apps/details?id=com.practo.fabric&utm_source=appgrooves&utm_medium=agp_81acc8a18b054eadad002f4c3e318133_com.practo.fabric_us_others_16676570314812\")\n",
    "\n",
    "##wait for the dom to load element and the target button/span is clickable\n",
    "WebDriverWait(selenium,120).until(expected_conditions.element_to_be_clickable((By.XPATH,'.//span[contains(., \"See all reviews\") and @class=\"VfPpkd-vQzf8d\"]'))).click()\n",
    "\n",
    "#wait.until(expected_conditions.element_to_be_clickable((By.CSS_SELECTOR, '.VfPpkd-LgbsSe button'))).click()\n",
    "#python_button = selenium.find_elements(By.CLASS_NAME,\"VfPpkd-LgbsSe\")[0]\n",
    "#print(python_button)\n",
    "#python_button.click()\n",
    "#url = \"https://www.amazon.in/\"            #url \n",
    "#wd.get(url)        "
   ]
  },
  {
   "cell_type": "markdown",
   "id": "b894dcd1-e4f9-4b7a-9b1f-a019389e85e5",
   "metadata": {},
   "source": [
    "### Scroll until the last review"
   ]
  },
  {
   "cell_type": "code",
   "execution_count": 70,
   "id": "1009963f-0c73-4d1f-969f-bce148e50d1a",
   "metadata": {},
   "outputs": [],
   "source": [
    "reviews=[]\n",
    "ratings=[]"
   ]
  },
  {
   "cell_type": "markdown",
   "id": "c83489d8-f61e-48ff-8b49-ada646984c88",
   "metadata": {},
   "source": [
    "### Once scroll is complete, find all the review divs and get the review comments plus the label (rating)"
   ]
  },
  {
   "cell_type": "code",
   "execution_count": 72,
   "id": "b1f174c9-11b8-48e3-906e-b158932859ca",
   "metadata": {},
   "outputs": [],
   "source": [
    "def get_reviews():\n",
    "    html = selenium.page_source\n",
    "\n",
    "    soup = BeautifulSoup(selenium.page_source,\"html.parser\")\n",
    "    for review in soup.find_all(class_=\"RHo1pe\"):\n",
    "        ratings.append(review.find(\"div\",class_=\"iXRFPc\").attrs['aria-label'])\n",
    "        reviews.append(review.find(\"div\",class_=\"h3YV2d\").text)"
   ]
  },
  {
   "cell_type": "code",
   "execution_count": 69,
   "id": "235ad706-28a1-4181-9086-bd4d3b3da7ee",
   "metadata": {},
   "outputs": [
    {
     "name": "stderr",
     "output_type": "stream",
     "text": [
      "\n",
      "KeyboardInterrupt\n",
      "\n"
     ]
    }
   ],
   "source": [
    "last_elem=\"\"\n",
    "while True:\n",
    "    current_last_elem=\"div.RHo1pe:last-child\"\n",
    "    scroll = \"document.querySelector(\\'\"+current_last_elem+\"\\').scrollIntoView();\"\n",
    "    selenium.execute_script(scroll)\n",
    "    time.sleep(1)\n",
    "    current_last_elem=selenium.find_elements(By.CLASS_NAME,\"RHo1pe\")[-1]\n",
    "    if(last_elem==current_last_elem):\n",
    "        break\n",
    "    else:\n",
    "        last_element = current_last_elem\n"
   ]
  },
  {
   "cell_type": "code",
   "execution_count": 73,
   "id": "51eebe6b-0d44-42ad-a4ca-9a0e9af680ae",
   "metadata": {},
   "outputs": [],
   "source": [
    "get_reviews()"
   ]
  },
  {
   "cell_type": "code",
   "execution_count": 74,
   "id": "f102196d-08c9-4eec-9f70-37ca5c244cf2",
   "metadata": {},
   "outputs": [],
   "source": [
    "df = pd.DataFrame({\"Review\":reviews,\"ratings\":ratings})"
   ]
  },
  {
   "cell_type": "code",
   "execution_count": 75,
   "id": "23df0cf2-91d8-484c-96f1-593324fe91ae",
   "metadata": {},
   "outputs": [
    {
     "data": {
      "text/plain": [
       "(7160, 2)"
      ]
     },
     "execution_count": 75,
     "metadata": {},
     "output_type": "execute_result"
    }
   ],
   "source": [
    "df.shape"
   ]
  },
  {
   "cell_type": "code",
   "execution_count": 77,
   "id": "c93fae11-eb49-4287-b678-96854622411f",
   "metadata": {},
   "outputs": [],
   "source": [
    "df.to_csv(\"practo_app_reviews_raw_data.csv\")"
   ]
  },
  {
   "cell_type": "markdown",
   "id": "a6d7357d-0fd1-453e-a3bd-a7a38e3c635d",
   "metadata": {},
   "source": [
    "### Extract the rating number from raw label"
   ]
  },
  {
   "cell_type": "code",
   "execution_count": 3,
   "id": "e899af03-520d-49af-adf2-74c54ece298c",
   "metadata": {},
   "outputs": [],
   "source": [
    "data = pd.read_csv('practo_app_reviews_raw_data.csv')"
   ]
  },
  {
   "cell_type": "code",
   "execution_count": 4,
   "id": "38a59803-a240-413a-9764-573f1d0ab5ab",
   "metadata": {},
   "outputs": [
    {
     "data": {
      "text/html": [
       "<div>\n",
       "<style scoped>\n",
       "    .dataframe tbody tr th:only-of-type {\n",
       "        vertical-align: middle;\n",
       "    }\n",
       "\n",
       "    .dataframe tbody tr th {\n",
       "        vertical-align: top;\n",
       "    }\n",
       "\n",
       "    .dataframe thead th {\n",
       "        text-align: right;\n",
       "    }\n",
       "</style>\n",
       "<table border=\"1\" class=\"dataframe\">\n",
       "  <thead>\n",
       "    <tr style=\"text-align: right;\">\n",
       "      <th></th>\n",
       "      <th>Unnamed: 0</th>\n",
       "      <th>Review</th>\n",
       "      <th>ratings</th>\n",
       "    </tr>\n",
       "  </thead>\n",
       "  <tbody>\n",
       "    <tr>\n",
       "      <th>0</th>\n",
       "      <td>0</td>\n",
       "      <td>Difficult to navigate but somewhat useful app....</td>\n",
       "      <td>Rated 1 stars out of five stars</td>\n",
       "    </tr>\n",
       "    <tr>\n",
       "      <th>1</th>\n",
       "      <td>1</td>\n",
       "      <td>I find the medical records section frustrating...</td>\n",
       "      <td>Rated 2 stars out of five stars</td>\n",
       "    </tr>\n",
       "    <tr>\n",
       "      <th>2</th>\n",
       "      <td>2</td>\n",
       "      <td>Really buggy software. And has this even been ...</td>\n",
       "      <td>Rated 1 stars out of five stars</td>\n",
       "    </tr>\n",
       "    <tr>\n",
       "      <th>3</th>\n",
       "      <td>3</td>\n",
       "      <td>The app keeps getting unresponsive. During con...</td>\n",
       "      <td>Rated 1 stars out of five stars</td>\n",
       "    </tr>\n",
       "    <tr>\n",
       "      <th>4</th>\n",
       "      <td>4</td>\n",
       "      <td>Everything is good but connecting to a differe...</td>\n",
       "      <td>Rated 3 stars out of five stars</td>\n",
       "    </tr>\n",
       "  </tbody>\n",
       "</table>\n",
       "</div>"
      ],
      "text/plain": [
       "   Unnamed: 0                                             Review  \\\n",
       "0           0  Difficult to navigate but somewhat useful app....   \n",
       "1           1  I find the medical records section frustrating...   \n",
       "2           2  Really buggy software. And has this even been ...   \n",
       "3           3  The app keeps getting unresponsive. During con...   \n",
       "4           4  Everything is good but connecting to a differe...   \n",
       "\n",
       "                           ratings  \n",
       "0  Rated 1 stars out of five stars  \n",
       "1  Rated 2 stars out of five stars  \n",
       "2  Rated 1 stars out of five stars  \n",
       "3  Rated 1 stars out of five stars  \n",
       "4  Rated 3 stars out of five stars  "
      ]
     },
     "execution_count": 4,
     "metadata": {},
     "output_type": "execute_result"
    }
   ],
   "source": [
    "data.head()"
   ]
  },
  {
   "cell_type": "code",
   "execution_count": 5,
   "id": "f7496f7b-ffff-48f7-9471-09406093b994",
   "metadata": {},
   "outputs": [
    {
     "data": {
      "text/plain": [
       "0       Rated 1 stars out of five stars\n",
       "1       Rated 2 stars out of five stars\n",
       "2       Rated 1 stars out of five stars\n",
       "3       Rated 1 stars out of five stars\n",
       "4       Rated 3 stars out of five stars\n",
       "                     ...               \n",
       "7155    Rated 1 stars out of five stars\n",
       "7156    Rated 5 stars out of five stars\n",
       "7157    Rated 5 stars out of five stars\n",
       "7158    Rated 5 stars out of five stars\n",
       "7159    Rated 1 stars out of five stars\n",
       "Name: ratings, Length: 7160, dtype: object"
      ]
     },
     "execution_count": 5,
     "metadata": {},
     "output_type": "execute_result"
    }
   ],
   "source": [
    "data[\"ratings\"]"
   ]
  },
  {
   "cell_type": "code",
   "execution_count": 6,
   "id": "032d52c3-af13-4ed4-aa82-236882f9e0ca",
   "metadata": {},
   "outputs": [],
   "source": [
    "data[\"ratings\"]=[rating[6] for rating in data[\"ratings\"]]"
   ]
  },
  {
   "cell_type": "code",
   "execution_count": 7,
   "id": "ca9b7c15-9ea7-448e-aa5b-c65d2efb4fa5",
   "metadata": {},
   "outputs": [],
   "source": [
    "data = data[[\"Review\",\"ratings\"]]"
   ]
  },
  {
   "cell_type": "code",
   "execution_count": 8,
   "id": "ff73eca2-073c-43a4-bfd1-a38492d837d5",
   "metadata": {},
   "outputs": [
    {
     "data": {
      "text/html": [
       "<div>\n",
       "<style scoped>\n",
       "    .dataframe tbody tr th:only-of-type {\n",
       "        vertical-align: middle;\n",
       "    }\n",
       "\n",
       "    .dataframe tbody tr th {\n",
       "        vertical-align: top;\n",
       "    }\n",
       "\n",
       "    .dataframe thead th {\n",
       "        text-align: right;\n",
       "    }\n",
       "</style>\n",
       "<table border=\"1\" class=\"dataframe\">\n",
       "  <thead>\n",
       "    <tr style=\"text-align: right;\">\n",
       "      <th></th>\n",
       "      <th>Review</th>\n",
       "      <th>ratings</th>\n",
       "    </tr>\n",
       "  </thead>\n",
       "  <tbody>\n",
       "    <tr>\n",
       "      <th>0</th>\n",
       "      <td>Difficult to navigate but somewhat useful app....</td>\n",
       "      <td>1</td>\n",
       "    </tr>\n",
       "    <tr>\n",
       "      <th>1</th>\n",
       "      <td>I find the medical records section frustrating...</td>\n",
       "      <td>2</td>\n",
       "    </tr>\n",
       "    <tr>\n",
       "      <th>2</th>\n",
       "      <td>Really buggy software. And has this even been ...</td>\n",
       "      <td>1</td>\n",
       "    </tr>\n",
       "    <tr>\n",
       "      <th>3</th>\n",
       "      <td>The app keeps getting unresponsive. During con...</td>\n",
       "      <td>1</td>\n",
       "    </tr>\n",
       "    <tr>\n",
       "      <th>4</th>\n",
       "      <td>Everything is good but connecting to a differe...</td>\n",
       "      <td>3</td>\n",
       "    </tr>\n",
       "  </tbody>\n",
       "</table>\n",
       "</div>"
      ],
      "text/plain": [
       "                                              Review ratings\n",
       "0  Difficult to navigate but somewhat useful app....       1\n",
       "1  I find the medical records section frustrating...       2\n",
       "2  Really buggy software. And has this even been ...       1\n",
       "3  The app keeps getting unresponsive. During con...       1\n",
       "4  Everything is good but connecting to a differe...       3"
      ]
     },
     "execution_count": 8,
     "metadata": {},
     "output_type": "execute_result"
    }
   ],
   "source": [
    "data.head()"
   ]
  },
  {
   "cell_type": "code",
   "execution_count": 40,
   "id": "da9e44fc-880d-4ab2-bf43-cd55138efa26",
   "metadata": {},
   "outputs": [
    {
     "data": {
      "text/plain": [
       "0    3873\n",
       "4    2124\n",
       "3     464\n",
       "1     386\n",
       "2     313\n",
       "Name: ratings, dtype: int64"
      ]
     },
     "execution_count": 40,
     "metadata": {},
     "output_type": "execute_result"
    },
    {
     "data": {
      "image/png": "[encoded data removed]",
      "text/plain": [
       "<Figure size 640x480 with 1 Axes>"
      ]
     },
     "metadata": {},
     "output_type": "display_data"
    }
   ],
   "source": [
    "plt.hist(data[\"ratings\"])\n",
    "data.ratings.value_counts()"
   ]
  },
  {
   "cell_type": "markdown",
   "id": "24723e90-39e6-4b9e-b629-728fc293621e",
   "metadata": {},
   "source": [
    "> there is not much data scraped for reviews 2,3 & 4"
   ]
  },
  {
   "cell_type": "code",
   "execution_count": 10,
   "id": "48e85568-e7f7-48e4-9be1-c3f76c4864f6",
   "metadata": {},
   "outputs": [
    {
     "data": {
      "text/plain": [
       "\"Difficult to navigate but somewhat useful app. With rapid changes to the app's UI it becomes really difficult to navigate through the various features. I don't see my appointments under the 'Appointments' menu, but rather they show up under 'Consultation' from where I cannot reschedule. It has also become confusing to search for a doctor. Update: video calling no longer works. Doctor tried calling but I did not get any notification even when app was open. Same problem with my friends.\""
      ]
     },
     "execution_count": 10,
     "metadata": {},
     "output_type": "execute_result"
    }
   ],
   "source": [
    "data[data[\"ratings\"]==\"1\"].iloc[0].Review"
   ]
  },
  {
   "cell_type": "code",
   "execution_count": 11,
   "id": "11a6893b-bffd-4c0c-a3f2-b89036a89992",
   "metadata": {},
   "outputs": [
    {
     "data": {
      "text/plain": [
       "\"Nice app easy to use authentic and reliable. doctors are available 24*7 and also good. they listen their patient very calmly and their prescribed treatment goes very well. must use this app. if you live in rural areas or hotspitals are far from your place or your want to avoid unnecessary queue or you want treatment asap this app is for you. I used this app many times for different age person's treatment, all the times doctor's were well versed and proficient. kindly go through this app.\""
      ]
     },
     "execution_count": 11,
     "metadata": {},
     "output_type": "execute_result"
    }
   ],
   "source": [
    "data[data[\"ratings\"]==\"5\"].iloc[0].Review"
   ]
  },
  {
   "cell_type": "markdown",
   "id": "494bc578-6896-4e53-84b4-094510205546",
   "metadata": {},
   "source": [
    "#### sklearn,tensorflow and model imports"
   ]
  },
  {
   "cell_type": "code",
   "execution_count": 45,
   "id": "b638a128-6087-4810-b432-6619ef4f4563",
   "metadata": {},
   "outputs": [],
   "source": [
    "import tensorflow as tf\n",
    "from sklearn import preprocessing\n",
    "from sklearn.model_selection import train_test_split\n",
    "from sklearn.feature_extraction.text import TfidfVectorizer\n",
    "from sklearn.linear_model import LogisticRegression\n",
    "from sklearn.metrics  import plot_confusion_matrix,precision_score,recall_score,f1_score,classification_report"
   ]
  },
  {
   "cell_type": "code",
   "execution_count": 46,
   "id": "67bac903",
   "metadata": {},
   "outputs": [],
   "source": [
    "##lables until this point are in string type, encode them as classes \n",
    "lbl_enc = preprocessing.LabelEncoder()\n",
    "data[\"ratings\"] = lbl_enc.fit_transform(data[\"ratings\"])"
   ]
  },
  {
   "cell_type": "code",
   "execution_count": 47,
   "id": "6f87130f",
   "metadata": {},
   "outputs": [],
   "source": [
    "train_X,test_X,train_y,test_y=train_test_split(data[\"Review\"],data[\"ratings\"],test_size=0.25)"
   ]
  },
  {
   "cell_type": "code",
   "execution_count": 48,
   "id": "177acefb",
   "metadata": {},
   "outputs": [
    {
     "data": {
      "text/plain": [
       "1288    Worst customer care. The response time is more...\n",
       "2901    This practo is a GREEDY APP.THE POLICIES OF TH...\n",
       "4903    Online consultation is pathetic. Please be min...\n",
       "1081    A wide collection of highly unprofessional doc...\n",
       "239     Don't use Practo app it's Fraud, they charge m...\n",
       "                              ...                        \n",
       "3287                         very good app quick response\n",
       "68      Terrible experience. Their PRODUCT and SUPPORT...\n",
       "6145                Always getting \"something went wrong\"\n",
       "3069    need to expand in tier 2 and 3 cities...medici...\n",
       "1812    There are a lot of fake doctors. Two days back...\n",
       "Name: Review, Length: 1790, dtype: object"
      ]
     },
     "execution_count": 48,
     "metadata": {},
     "output_type": "execute_result"
    }
   ],
   "source": [
    "test_X"
   ]
  },
  {
   "cell_type": "markdown",
   "id": "cc917186",
   "metadata": {},
   "source": [
    " ### TFID - represention of words on term frequency and with the whole data"
   ]
  },
  {
   "cell_type": "code",
   "execution_count": 49,
   "id": "1925ce64",
   "metadata": {},
   "outputs": [],
   "source": [
    "tfv = TfidfVectorizer(stop_words=\"english\")\n",
    "tfv.fit(list(train_X)+list(test_X))\n",
    "train_X_tfv = tfv.transform(train_X)\n",
    "test_X_tfv = tfv.transform(test_X)"
   ]
  },
  {
   "cell_type": "code",
   "execution_count": 67,
   "id": "191ba8d7",
   "metadata": {},
   "outputs": [],
   "source": [
    "def run_classification_model(model,X,y,X_test,y_test):\n",
    "    model.fit(X,y)\n",
    "    pred = model.predict(X_test)\n",
    "    y_pred = [np.argmax(y) for y in pred]\n",
    "    print(classification_report(y_test, y_pred,zero_division=1))\n",
    "    plot_confusion_matrix(model,X_test,y_test)\n",
    "    plt.show()\n",
    "    return y_pred\n",
    "    #print(f\"precision: {precision_score(y_test,y_pred,average='weighted')}\")\n",
    "    #print(f\"recall: {recall_score(y_test,y_pred,average='weighted')}\")    \n",
    "    #print(f\"f1: {f1_score(y_test,y_pred,average='weighted')}\")    "
   ]
  },
  {
   "cell_type": "code",
   "execution_count": 68,
   "id": "d5606f9d",
   "metadata": {},
   "outputs": [
    {
     "name": "stdout",
     "output_type": "stream",
     "text": [
      "              precision    recall  f1-score   support\n",
      "\n",
      "           0       0.54      1.00      0.70       968\n",
      "           1       1.00      0.00      0.00        98\n",
      "           2       1.00      0.00      0.00        88\n",
      "           3       1.00      0.00      0.00       103\n",
      "           4       1.00      0.00      0.00       533\n",
      "\n",
      "    accuracy                           0.54      1790\n",
      "   macro avg       0.91      0.20      0.14      1790\n",
      "weighted avg       0.75      0.54      0.38      1790\n",
      "\n"
     ]
    },
    {
     "name": "stderr",
     "output_type": "stream",
     "text": [
      "C:\\Users\\manoj\\AppData\\Local\\Programs\\Python\\Python310\\lib\\site-packages\\sklearn\\utils\\deprecation.py:87: FutureWarning: Function plot_confusion_matrix is deprecated; Function `plot_confusion_matrix` is deprecated in 1.0 and will be removed in 1.2. Use one of the class methods: ConfusionMatrixDisplay.from_predictions or ConfusionMatrixDisplay.from_estimator.\n",
      "  warnings.warn(msg, category=FutureWarning)\n"
     ]
    },
    {
     "data": {
      "image/png": "[encoded data removed]",
      "text/plain": [
       "<Figure size 640x480 with 2 Axes>"
      ]
     },
     "metadata": {},
     "output_type": "display_data"
    }
   ],
   "source": [
    "model =LogisticRegression()\n",
    "y_pred =run_classification_model(model,train_X_tfv,train_y,test_X_tfv,test_y)"
   ]
  },
  {
   "cell_type": "markdown",
   "id": "5cb87ae5",
   "metadata": {},
   "source": [
    "> Above metrices looks really bad, so using Logistic regression will not help here"
   ]
  },
  {
   "cell_type": "code",
   "execution_count": 71,
   "id": "47c26005",
   "metadata": {},
   "outputs": [
    {
     "data": {
      "text/plain": [
       "0"
      ]
     },
     "execution_count": 71,
     "metadata": {},
     "output_type": "execute_result"
    }
   ],
   "source": [
    "y_pred[0]"
   ]
  },
  {
   "cell_type": "code",
   "execution_count": 72,
   "id": "7673da28",
   "metadata": {},
   "outputs": [
    {
     "data": {
      "text/plain": [
       "('Treatment is good satisfied iam diagnosed as a cervical disc bulg radiant pain and swelling on left hand ,I took medicines also but no use, but I thank to Dr Ananda Jothi now iam very much good thanks to Sri sugam physiotherapy clinic.',\n",
       " 4)"
      ]
     },
     "execution_count": 72,
     "metadata": {},
     "output_type": "execute_result"
    }
   ],
   "source": [
    "test_X[6381],test_y[6381]"
   ]
  },
  {
   "cell_type": "code",
   "execution_count": 73,
   "id": "0bb469e3",
   "metadata": {},
   "outputs": [
    {
     "data": {
      "text/plain": [
       "4"
      ]
     },
     "execution_count": 73,
     "metadata": {},
     "output_type": "execute_result"
    }
   ],
   "source": [
    "np.argmax(model.predict_proba(tfv.transform([test_X[6381]])))"
   ]
  },
  {
   "cell_type": "markdown",
   "id": "7ea948ca",
   "metadata": {},
   "source": [
    "#### below sentiments are not great\n",
    "> as TFID is just about considering the occurrance of a token within the sentence and the whole document, does'nt care much about the order of tokens. so below reviews have been given less rating even though they are positive reviews"
   ]
  },
  {
   "cell_type": "code",
   "execution_count": 74,
   "id": "fdbf68f4",
   "metadata": {},
   "outputs": [
    {
     "data": {
      "text/plain": [
       "0"
      ]
     },
     "execution_count": 74,
     "metadata": {},
     "output_type": "execute_result"
    }
   ],
   "source": [
    "np.argmax(model.predict_proba(tfv.transform([\"not bad\"])))"
   ]
  },
  {
   "cell_type": "code",
   "execution_count": 75,
   "id": "fd5945b0",
   "metadata": {},
   "outputs": [
    {
     "data": {
      "text/plain": [
       "0"
      ]
     },
     "execution_count": 75,
     "metadata": {},
     "output_type": "execute_result"
    }
   ],
   "source": [
    "np.argmax(model.predict_proba(tfv.transform([\"app did not crash anytime\"])))"
   ]
  },
  {
   "cell_type": "code",
   "execution_count": 76,
   "id": "241be0be",
   "metadata": {},
   "outputs": [
    {
     "data": {
      "text/plain": [
       "0"
      ]
     },
     "execution_count": 76,
     "metadata": {},
     "output_type": "execute_result"
    }
   ],
   "source": [
    "np.argmax(model.predict_proba(tfv.transform([\"No issues with the app\"])))"
   ]
  },
  {
   "cell_type": "code",
   "execution_count": null,
   "id": "69fa60ff",
   "metadata": {},
   "outputs": [],
   "source": []
  }
 ],
 "metadata": {
  "kernelspec": {
   "display_name": "Python 3 (ipykernel)",
   "language": "python",
   "name": "python3"
  },
  "language_info": {
   "codemirror_mode": {
    "name": "ipython",
    "version": 3
   },
   "file_extension": ".py",
   "mimetype": "text/x-python",
   "name": "python",
   "nbconvert_exporter": "python",
   "pygments_lexer": "ipython3",
   "version": "3.10.8"
  }
 },
 "nbformat": 4,
 "nbformat_minor": 5
}
