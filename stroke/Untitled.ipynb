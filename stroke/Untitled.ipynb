{
 "cells": [
  {
   "cell_type": "code",
   "execution_count": 1,
   "id": "31495da9",
   "metadata": {},
   "outputs": [],
   "source": [
    "import numpy as np"
   ]
  },
  {
   "cell_type": "code",
   "execution_count": 2,
   "id": "c1ae9602",
   "metadata": {},
   "outputs": [
    {
     "data": {
      "text/plain": [
       "array([0, 0, 1, 2, 3, 4, 0, 0])"
      ]
     },
     "execution_count": 2,
     "metadata": {},
     "output_type": "execute_result"
    }
   ],
   "source": [
    "a = [1,2,3,4]\n",
    "np.pad(a,(2,2),mode=\"constant\",constant_values=(0,0))"
   ]
  },
  {
   "cell_type": "code",
   "execution_count": 5,
   "id": "d49f56a5",
   "metadata": {},
   "outputs": [
    {
     "data": {
      "text/plain": [
       "array([[0, 0, 0, 0, 0, 0, 0, 0],\n",
       "       [0, 0, 0, 0, 0, 0, 0, 0],\n",
       "       [0, 0, 1, 2, 3, 4, 0, 0],\n",
       "       [0, 0, 5, 6, 7, 8, 0, 0],\n",
       "       [0, 0, 0, 0, 0, 0, 0, 0],\n",
       "       [0, 0, 0, 0, 0, 0, 0, 0]])"
      ]
     },
     "execution_count": 5,
     "metadata": {},
     "output_type": "execute_result"
    }
   ],
   "source": [
    "a = [[1,2,3,4],\n",
    "    [5,6,7,8]]\n",
    "np.pad(a,((2,2),(2,2)),mode=\"constant\",constant_values=(0,0))"
   ]
  },
  {
   "cell_type": "code",
   "execution_count": 6,
   "id": "39a71680",
   "metadata": {},
   "outputs": [
    {
     "data": {
      "text/plain": [
       "array([[0, 0, 0, 0, 0, 0, 0, 0],\n",
       "       [0, 0, 0, 0, 0, 0, 0, 0],\n",
       "       [0, 0, 1, 2, 3, 4, 0, 0],\n",
       "       [0, 0, 5, 6, 7, 8, 0, 0],\n",
       "       [0, 0, 1, 2, 3, 4, 0, 0],\n",
       "       [0, 0, 0, 0, 0, 0, 0, 0],\n",
       "       [0, 0, 0, 0, 0, 0, 0, 0]])"
      ]
     },
     "execution_count": 6,
     "metadata": {},
     "output_type": "execute_result"
    }
   ],
   "source": [
    "a = [[1,2,3,4],\n",
    "    [5,6,7,8],\n",
    "    [1,2,3,4]]\n",
    "np.pad(a,((2,2),(2,2)),mode=\"constant\",constant_values=(0,0))"
   ]
  },
  {
   "cell_type": "code",
   "execution_count": 10,
   "id": "8b58e852",
   "metadata": {},
   "outputs": [
    {
     "data": {
      "text/plain": [
       "array([[[0, 0, 0, 0, 0, 0, 0],\n",
       "        [0, 0, 0, 0, 0, 0, 0],\n",
       "        [0, 0, 1, 2, 3, 0, 0],\n",
       "        [0, 0, 5, 6, 7, 0, 0],\n",
       "        [0, 0, 1, 2, 3, 0, 0],\n",
       "        [0, 0, 0, 0, 0, 0, 0],\n",
       "        [0, 0, 0, 0, 0, 0, 0]],\n",
       "\n",
       "       [[0, 0, 0, 0, 0, 0, 0],\n",
       "        [0, 0, 0, 0, 0, 0, 0],\n",
       "        [0, 0, 1, 2, 3, 0, 0],\n",
       "        [0, 0, 5, 6, 7, 0, 0],\n",
       "        [0, 0, 1, 2, 3, 0, 0],\n",
       "        [0, 0, 0, 0, 0, 0, 0],\n",
       "        [0, 0, 0, 0, 0, 0, 0]],\n",
       "\n",
       "       [[0, 0, 0, 0, 0, 0, 0],\n",
       "        [0, 0, 0, 0, 0, 0, 0],\n",
       "        [0, 0, 1, 2, 3, 0, 0],\n",
       "        [0, 0, 5, 6, 7, 0, 0],\n",
       "        [0, 0, 1, 2, 3, 0, 0],\n",
       "        [0, 0, 0, 0, 0, 0, 0],\n",
       "        [0, 0, 0, 0, 0, 0, 0]]])"
      ]
     },
     "execution_count": 10,
     "metadata": {},
     "output_type": "execute_result"
    }
   ],
   "source": [
    "a = [\n",
    "    [[1,2,3],\n",
    "    [5,6,7],\n",
    "    [1,2,3]],\n",
    "     [[1,2,3],\n",
    "    [5,6,7],\n",
    "    [1,2,3]],\n",
    "     [[1,2,3],\n",
    "    [5,6,7],\n",
    "    [1,2,3]]\n",
    "]\n",
    "np.pad(a,((0,0),(2,2),(2,2)),mode=\"constant\",constant_values=(0,0))"
   ]
  },
  {
   "cell_type": "code",
   "execution_count": 11,
   "id": "5e730f37",
   "metadata": {},
   "outputs": [],
   "source": [
    "A_prev = np.random.randn(2, 5, 7, 4)\n",
    "W = np.random.randn(3, 3, 4, 8)"
   ]
  },
  {
   "cell_type": "code",
   "execution_count": 12,
   "id": "0317f725",
   "metadata": {},
   "outputs": [
    {
     "data": {
      "text/plain": [
       "((2, 5, 7, 4), (3, 3, 4, 8))"
      ]
     },
     "execution_count": 12,
     "metadata": {},
     "output_type": "execute_result"
    }
   ],
   "source": [
    "A_prev.shape,W.shape"
   ]
  },
  {
   "cell_type": "code",
   "execution_count": null,
   "id": "486e05cb",
   "metadata": {},
   "outputs": [],
   "source": []
  }
 ],
 "metadata": {
  "kernelspec": {
   "display_name": "Python 3 (ipykernel)",
   "language": "python",
   "name": "python3"
  },
  "language_info": {
   "codemirror_mode": {
    "name": "ipython",
    "version": 3
   },
   "file_extension": ".py",
   "mimetype": "text/x-python",
   "name": "python",
   "nbconvert_exporter": "python",
   "pygments_lexer": "ipython3",
   "version": "3.9.12"
  }
 },
 "nbformat": 4,
 "nbformat_minor": 5
}
