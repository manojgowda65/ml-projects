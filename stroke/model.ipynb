{
 "cells": [
  {
   "cell_type": "code",
   "execution_count": 1,
   "id": "e2d96a81",
   "metadata": {},
   "outputs": [],
   "source": [
    "import sys\n",
    "sys.path.insert(0,'../')"
   ]
  },
  {
   "cell_type": "code",
   "execution_count": 2,
   "id": "8c1e9050",
   "metadata": {},
   "outputs": [],
   "source": [
    "import pandas as pd\n",
    "import numpy as np\n",
    "import seaborn as sns\n",
    "import matplotlib.pyplot as plt\n",
    "import helper"
   ]
  },
  {
   "cell_type": "code",
   "execution_count": 3,
   "id": "cd616f1f",
   "metadata": {},
   "outputs": [],
   "source": [
    "data = pd.read_csv('stroke-data.csv')"
   ]
  },
  {
   "cell_type": "code",
   "execution_count": 4,
   "id": "66f8925a",
   "metadata": {},
   "outputs": [
    {
     "data": {
      "text/plain": [
       "(5110, 12)"
      ]
     },
     "execution_count": 4,
     "metadata": {},
     "output_type": "execute_result"
    }
   ],
   "source": [
    "data.shape"
   ]
  },
  {
   "cell_type": "code",
   "execution_count": 5,
   "id": "dfc0e386",
   "metadata": {},
   "outputs": [
    {
     "data": {
      "text/html": [
       "<div>\n",
       "<style scoped>\n",
       "    .dataframe tbody tr th:only-of-type {\n",
       "        vertical-align: middle;\n",
       "    }\n",
       "\n",
       "    .dataframe tbody tr th {\n",
       "        vertical-align: top;\n",
       "    }\n",
       "\n",
       "    .dataframe thead th {\n",
       "        text-align: right;\n",
       "    }\n",
       "</style>\n",
       "<table border=\"1\" class=\"dataframe\">\n",
       "  <thead>\n",
       "    <tr style=\"text-align: right;\">\n",
       "      <th></th>\n",
       "      <th>id</th>\n",
       "      <th>gender</th>\n",
       "      <th>age</th>\n",
       "      <th>hypertension</th>\n",
       "      <th>heart_disease</th>\n",
       "      <th>ever_married</th>\n",
       "      <th>work_type</th>\n",
       "      <th>Residence_type</th>\n",
       "      <th>avg_glucose_level</th>\n",
       "      <th>bmi</th>\n",
       "      <th>smoking_status</th>\n",
       "      <th>stroke</th>\n",
       "    </tr>\n",
       "  </thead>\n",
       "  <tbody>\n",
       "    <tr>\n",
       "      <th>5105</th>\n",
       "      <td>18234</td>\n",
       "      <td>Female</td>\n",
       "      <td>80.0</td>\n",
       "      <td>1</td>\n",
       "      <td>0</td>\n",
       "      <td>Yes</td>\n",
       "      <td>Private</td>\n",
       "      <td>Urban</td>\n",
       "      <td>83.75</td>\n",
       "      <td>NaN</td>\n",
       "      <td>never smoked</td>\n",
       "      <td>0</td>\n",
       "    </tr>\n",
       "    <tr>\n",
       "      <th>5106</th>\n",
       "      <td>44873</td>\n",
       "      <td>Female</td>\n",
       "      <td>81.0</td>\n",
       "      <td>0</td>\n",
       "      <td>0</td>\n",
       "      <td>Yes</td>\n",
       "      <td>Self-employed</td>\n",
       "      <td>Urban</td>\n",
       "      <td>125.20</td>\n",
       "      <td>40.0</td>\n",
       "      <td>never smoked</td>\n",
       "      <td>0</td>\n",
       "    </tr>\n",
       "    <tr>\n",
       "      <th>5107</th>\n",
       "      <td>19723</td>\n",
       "      <td>Female</td>\n",
       "      <td>35.0</td>\n",
       "      <td>0</td>\n",
       "      <td>0</td>\n",
       "      <td>Yes</td>\n",
       "      <td>Self-employed</td>\n",
       "      <td>Rural</td>\n",
       "      <td>82.99</td>\n",
       "      <td>30.6</td>\n",
       "      <td>never smoked</td>\n",
       "      <td>0</td>\n",
       "    </tr>\n",
       "    <tr>\n",
       "      <th>5108</th>\n",
       "      <td>37544</td>\n",
       "      <td>Male</td>\n",
       "      <td>51.0</td>\n",
       "      <td>0</td>\n",
       "      <td>0</td>\n",
       "      <td>Yes</td>\n",
       "      <td>Private</td>\n",
       "      <td>Rural</td>\n",
       "      <td>166.29</td>\n",
       "      <td>25.6</td>\n",
       "      <td>formerly smoked</td>\n",
       "      <td>0</td>\n",
       "    </tr>\n",
       "    <tr>\n",
       "      <th>5109</th>\n",
       "      <td>44679</td>\n",
       "      <td>Female</td>\n",
       "      <td>44.0</td>\n",
       "      <td>0</td>\n",
       "      <td>0</td>\n",
       "      <td>Yes</td>\n",
       "      <td>Govt_job</td>\n",
       "      <td>Urban</td>\n",
       "      <td>85.28</td>\n",
       "      <td>26.2</td>\n",
       "      <td>Unknown</td>\n",
       "      <td>0</td>\n",
       "    </tr>\n",
       "  </tbody>\n",
       "</table>\n",
       "</div>"
      ],
      "text/plain": [
       "         id  gender   age  hypertension  heart_disease ever_married  \\\n",
       "5105  18234  Female  80.0             1              0          Yes   \n",
       "5106  44873  Female  81.0             0              0          Yes   \n",
       "5107  19723  Female  35.0             0              0          Yes   \n",
       "5108  37544    Male  51.0             0              0          Yes   \n",
       "5109  44679  Female  44.0             0              0          Yes   \n",
       "\n",
       "          work_type Residence_type  avg_glucose_level   bmi   smoking_status  \\\n",
       "5105        Private          Urban              83.75   NaN     never smoked   \n",
       "5106  Self-employed          Urban             125.20  40.0     never smoked   \n",
       "5107  Self-employed          Rural              82.99  30.6     never smoked   \n",
       "5108        Private          Rural             166.29  25.6  formerly smoked   \n",
       "5109       Govt_job          Urban              85.28  26.2          Unknown   \n",
       "\n",
       "      stroke  \n",
       "5105       0  \n",
       "5106       0  \n",
       "5107       0  \n",
       "5108       0  \n",
       "5109       0  "
      ]
     },
     "execution_count": 5,
     "metadata": {},
     "output_type": "execute_result"
    }
   ],
   "source": [
    "data.tail()"
   ]
  },
  {
   "cell_type": "code",
   "execution_count": 6,
   "id": "70e2d7df",
   "metadata": {},
   "outputs": [],
   "source": [
    "log_glu = np.sqrt(data.avg_glucose_level)"
   ]
  },
  {
   "cell_type": "code",
   "execution_count": 7,
   "id": "a8232747",
   "metadata": {},
   "outputs": [
    {
     "data": {
      "text/plain": [
       "<seaborn.axisgrid.FacetGrid at 0x29d7de80730>"
      ]
     },
     "execution_count": 7,
     "metadata": {},
     "output_type": "execute_result"
    },
    {
     "data": {
      "image/png": "[encoded data removed]",
      "text/plain": [
       "<Figure size 360x360 with 1 Axes>"
      ]
     },
     "metadata": {
      "needs_background": "light"
     },
     "output_type": "display_data"
    }
   ],
   "source": [
    "sns.displot(data.avg_glucose_level)"
   ]
  },
  {
   "cell_type": "code",
   "execution_count": 8,
   "id": "78cd7c3d",
   "metadata": {},
   "outputs": [
    {
     "data": {
      "text/html": [
       "<div>\n",
       "<style scoped>\n",
       "    .dataframe tbody tr th:only-of-type {\n",
       "        vertical-align: middle;\n",
       "    }\n",
       "\n",
       "    .dataframe tbody tr th {\n",
       "        vertical-align: top;\n",
       "    }\n",
       "\n",
       "    .dataframe thead th {\n",
       "        text-align: right;\n",
       "    }\n",
       "</style>\n",
       "<table border=\"1\" class=\"dataframe\">\n",
       "  <thead>\n",
       "    <tr style=\"text-align: right;\">\n",
       "      <th></th>\n",
       "      <th>id</th>\n",
       "      <th>age</th>\n",
       "      <th>hypertension</th>\n",
       "      <th>heart_disease</th>\n",
       "      <th>avg_glucose_level</th>\n",
       "      <th>bmi</th>\n",
       "      <th>stroke</th>\n",
       "    </tr>\n",
       "  </thead>\n",
       "  <tbody>\n",
       "    <tr>\n",
       "      <th>count</th>\n",
       "      <td>5110.000000</td>\n",
       "      <td>5110.000000</td>\n",
       "      <td>5110.000000</td>\n",
       "      <td>5110.000000</td>\n",
       "      <td>5110.000000</td>\n",
       "      <td>4909.000000</td>\n",
       "      <td>5110.000000</td>\n",
       "    </tr>\n",
       "    <tr>\n",
       "      <th>mean</th>\n",
       "      <td>36517.829354</td>\n",
       "      <td>43.226614</td>\n",
       "      <td>0.097456</td>\n",
       "      <td>0.054012</td>\n",
       "      <td>106.147677</td>\n",
       "      <td>28.893237</td>\n",
       "      <td>0.048728</td>\n",
       "    </tr>\n",
       "    <tr>\n",
       "      <th>std</th>\n",
       "      <td>21161.721625</td>\n",
       "      <td>22.612647</td>\n",
       "      <td>0.296607</td>\n",
       "      <td>0.226063</td>\n",
       "      <td>45.283560</td>\n",
       "      <td>7.854067</td>\n",
       "      <td>0.215320</td>\n",
       "    </tr>\n",
       "    <tr>\n",
       "      <th>min</th>\n",
       "      <td>67.000000</td>\n",
       "      <td>0.080000</td>\n",
       "      <td>0.000000</td>\n",
       "      <td>0.000000</td>\n",
       "      <td>55.120000</td>\n",
       "      <td>10.300000</td>\n",
       "      <td>0.000000</td>\n",
       "    </tr>\n",
       "    <tr>\n",
       "      <th>25%</th>\n",
       "      <td>17741.250000</td>\n",
       "      <td>25.000000</td>\n",
       "      <td>0.000000</td>\n",
       "      <td>0.000000</td>\n",
       "      <td>77.245000</td>\n",
       "      <td>23.500000</td>\n",
       "      <td>0.000000</td>\n",
       "    </tr>\n",
       "    <tr>\n",
       "      <th>50%</th>\n",
       "      <td>36932.000000</td>\n",
       "      <td>45.000000</td>\n",
       "      <td>0.000000</td>\n",
       "      <td>0.000000</td>\n",
       "      <td>91.885000</td>\n",
       "      <td>28.100000</td>\n",
       "      <td>0.000000</td>\n",
       "    </tr>\n",
       "    <tr>\n",
       "      <th>75%</th>\n",
       "      <td>54682.000000</td>\n",
       "      <td>61.000000</td>\n",
       "      <td>0.000000</td>\n",
       "      <td>0.000000</td>\n",
       "      <td>114.090000</td>\n",
       "      <td>33.100000</td>\n",
       "      <td>0.000000</td>\n",
       "    </tr>\n",
       "    <tr>\n",
       "      <th>max</th>\n",
       "      <td>72940.000000</td>\n",
       "      <td>82.000000</td>\n",
       "      <td>1.000000</td>\n",
       "      <td>1.000000</td>\n",
       "      <td>271.740000</td>\n",
       "      <td>97.600000</td>\n",
       "      <td>1.000000</td>\n",
       "    </tr>\n",
       "  </tbody>\n",
       "</table>\n",
       "</div>"
      ],
      "text/plain": [
       "                 id          age  hypertension  heart_disease  \\\n",
       "count   5110.000000  5110.000000   5110.000000    5110.000000   \n",
       "mean   36517.829354    43.226614      0.097456       0.054012   \n",
       "std    21161.721625    22.612647      0.296607       0.226063   \n",
       "min       67.000000     0.080000      0.000000       0.000000   \n",
       "25%    17741.250000    25.000000      0.000000       0.000000   \n",
       "50%    36932.000000    45.000000      0.000000       0.000000   \n",
       "75%    54682.000000    61.000000      0.000000       0.000000   \n",
       "max    72940.000000    82.000000      1.000000       1.000000   \n",
       "\n",
       "       avg_glucose_level          bmi       stroke  \n",
       "count        5110.000000  4909.000000  5110.000000  \n",
       "mean          106.147677    28.893237     0.048728  \n",
       "std            45.283560     7.854067     0.215320  \n",
       "min            55.120000    10.300000     0.000000  \n",
       "25%            77.245000    23.500000     0.000000  \n",
       "50%            91.885000    28.100000     0.000000  \n",
       "75%           114.090000    33.100000     0.000000  \n",
       "max           271.740000    97.600000     1.000000  "
      ]
     },
     "execution_count": 8,
     "metadata": {},
     "output_type": "execute_result"
    }
   ],
   "source": [
    "data.describe()\n",
    "###\n",
    "# average age of man who had stroke=43\n",
    "# 25th percentile age is 25, 50th is 45, 75th is 61 \n",
    "\n",
    "#target class where stroke=1 is just 4.87% out of total population - very skewed"
   ]
  },
  {
   "cell_type": "code",
   "execution_count": 9,
   "id": "ede41762",
   "metadata": {},
   "outputs": [
    {
     "data": {
      "text/plain": [
       "Int64Index([], dtype='int64')"
      ]
     },
     "execution_count": 9,
     "metadata": {},
     "output_type": "execute_result"
    }
   ],
   "source": [
    "data.drop(data[data.bmi>50].index,inplace=True,axis=0)\n",
    "data[data.bmi>50].index"
   ]
  },
  {
   "cell_type": "code",
   "execution_count": 10,
   "id": "d58bcd78",
   "metadata": {},
   "outputs": [
    {
     "data": {
      "text/plain": [
       "(5031, 12)"
      ]
     },
     "execution_count": 10,
     "metadata": {},
     "output_type": "execute_result"
    }
   ],
   "source": [
    "data.shape"
   ]
  },
  {
   "cell_type": "code",
   "execution_count": 11,
   "id": "c45a4f83",
   "metadata": {},
   "outputs": [
    {
     "data": {
      "text/plain": [
       "id                     0\n",
       "gender                 0\n",
       "age                    0\n",
       "hypertension           0\n",
       "heart_disease          0\n",
       "ever_married           0\n",
       "work_type              0\n",
       "Residence_type         0\n",
       "avg_glucose_level      0\n",
       "bmi                  201\n",
       "smoking_status         0\n",
       "stroke                 0\n",
       "dtype: int64"
      ]
     },
     "execution_count": 11,
     "metadata": {},
     "output_type": "execute_result"
    }
   ],
   "source": [
    "data.isna().sum()"
   ]
  },
  {
   "cell_type": "code",
   "execution_count": 12,
   "id": "362c23d5",
   "metadata": {},
   "outputs": [
    {
     "data": {
      "text/html": [
       "<div>\n",
       "<style scoped>\n",
       "    .dataframe tbody tr th:only-of-type {\n",
       "        vertical-align: middle;\n",
       "    }\n",
       "\n",
       "    .dataframe tbody tr th {\n",
       "        vertical-align: top;\n",
       "    }\n",
       "\n",
       "    .dataframe thead th {\n",
       "        text-align: right;\n",
       "    }\n",
       "</style>\n",
       "<table border=\"1\" class=\"dataframe\">\n",
       "  <thead>\n",
       "    <tr style=\"text-align: right;\">\n",
       "      <th></th>\n",
       "      <th>id</th>\n",
       "      <th>gender</th>\n",
       "      <th>age</th>\n",
       "      <th>hypertension</th>\n",
       "      <th>heart_disease</th>\n",
       "      <th>ever_married</th>\n",
       "      <th>work_type</th>\n",
       "      <th>Residence_type</th>\n",
       "      <th>avg_glucose_level</th>\n",
       "      <th>bmi</th>\n",
       "      <th>smoking_status</th>\n",
       "      <th>stroke</th>\n",
       "    </tr>\n",
       "  </thead>\n",
       "  <tbody>\n",
       "    <tr>\n",
       "      <th>0</th>\n",
       "      <td>9046</td>\n",
       "      <td>Male</td>\n",
       "      <td>67.0</td>\n",
       "      <td>0</td>\n",
       "      <td>1</td>\n",
       "      <td>Yes</td>\n",
       "      <td>Private</td>\n",
       "      <td>Urban</td>\n",
       "      <td>228.69</td>\n",
       "      <td>36.6</td>\n",
       "      <td>formerly smoked</td>\n",
       "      <td>1</td>\n",
       "    </tr>\n",
       "    <tr>\n",
       "      <th>1</th>\n",
       "      <td>51676</td>\n",
       "      <td>Female</td>\n",
       "      <td>61.0</td>\n",
       "      <td>0</td>\n",
       "      <td>0</td>\n",
       "      <td>Yes</td>\n",
       "      <td>Self-employed</td>\n",
       "      <td>Rural</td>\n",
       "      <td>202.21</td>\n",
       "      <td>NaN</td>\n",
       "      <td>never smoked</td>\n",
       "      <td>1</td>\n",
       "    </tr>\n",
       "    <tr>\n",
       "      <th>2</th>\n",
       "      <td>31112</td>\n",
       "      <td>Male</td>\n",
       "      <td>80.0</td>\n",
       "      <td>0</td>\n",
       "      <td>1</td>\n",
       "      <td>Yes</td>\n",
       "      <td>Private</td>\n",
       "      <td>Rural</td>\n",
       "      <td>105.92</td>\n",
       "      <td>32.5</td>\n",
       "      <td>never smoked</td>\n",
       "      <td>1</td>\n",
       "    </tr>\n",
       "    <tr>\n",
       "      <th>3</th>\n",
       "      <td>60182</td>\n",
       "      <td>Female</td>\n",
       "      <td>49.0</td>\n",
       "      <td>0</td>\n",
       "      <td>0</td>\n",
       "      <td>Yes</td>\n",
       "      <td>Private</td>\n",
       "      <td>Urban</td>\n",
       "      <td>171.23</td>\n",
       "      <td>34.4</td>\n",
       "      <td>smokes</td>\n",
       "      <td>1</td>\n",
       "    </tr>\n",
       "    <tr>\n",
       "      <th>4</th>\n",
       "      <td>1665</td>\n",
       "      <td>Female</td>\n",
       "      <td>79.0</td>\n",
       "      <td>1</td>\n",
       "      <td>0</td>\n",
       "      <td>Yes</td>\n",
       "      <td>Self-employed</td>\n",
       "      <td>Rural</td>\n",
       "      <td>174.12</td>\n",
       "      <td>24.0</td>\n",
       "      <td>never smoked</td>\n",
       "      <td>1</td>\n",
       "    </tr>\n",
       "  </tbody>\n",
       "</table>\n",
       "</div>"
      ],
      "text/plain": [
       "      id  gender   age  hypertension  heart_disease ever_married  \\\n",
       "0   9046    Male  67.0             0              1          Yes   \n",
       "1  51676  Female  61.0             0              0          Yes   \n",
       "2  31112    Male  80.0             0              1          Yes   \n",
       "3  60182  Female  49.0             0              0          Yes   \n",
       "4   1665  Female  79.0             1              0          Yes   \n",
       "\n",
       "       work_type Residence_type  avg_glucose_level   bmi   smoking_status  \\\n",
       "0        Private          Urban             228.69  36.6  formerly smoked   \n",
       "1  Self-employed          Rural             202.21   NaN     never smoked   \n",
       "2        Private          Rural             105.92  32.5     never smoked   \n",
       "3        Private          Urban             171.23  34.4           smokes   \n",
       "4  Self-employed          Rural             174.12  24.0     never smoked   \n",
       "\n",
       "   stroke  \n",
       "0       1  \n",
       "1       1  \n",
       "2       1  \n",
       "3       1  \n",
       "4       1  "
      ]
     },
     "execution_count": 12,
     "metadata": {},
     "output_type": "execute_result"
    }
   ],
   "source": [
    "data.head()"
   ]
  },
  {
   "cell_type": "code",
   "execution_count": 13,
   "id": "e41c2abc",
   "metadata": {},
   "outputs": [
    {
     "data": {
      "text/plain": [
       "<seaborn.axisgrid.FacetGrid at 0x29d03713b50>"
      ]
     },
     "execution_count": 13,
     "metadata": {},
     "output_type": "execute_result"
    },
    {
     "data": {
      "image/png": "[encoded data removed]",
      "text/plain": [
       "<Figure size 360x360 with 1 Axes>"
      ]
     },
     "metadata": {
      "needs_background": "light"
     },
     "output_type": "display_data"
    }
   ],
   "source": [
    "sns.displot(data.stroke)\n",
    "#data is skewed, i.e \n",
    "#since there is minority data of target variable class=1 in the population, instead of dropping missing data for bmi. need to \n",
    "#find missing values\n",
    "#when data is skewed and the target class is in minority level, we shall use precision and recall to evaluate model"
   ]
  },
  {
   "cell_type": "code",
   "execution_count": 14,
   "id": "9b6f2781",
   "metadata": {},
   "outputs": [],
   "source": [
    "data.drop(['id'],inplace=True,axis=1)"
   ]
  },
  {
   "cell_type": "code",
   "execution_count": 15,
   "id": "ac9b2dbb",
   "metadata": {},
   "outputs": [
    {
     "data": {
      "text/plain": [
       "gender                 0\n",
       "age                    0\n",
       "hypertension           0\n",
       "heart_disease          0\n",
       "ever_married           0\n",
       "work_type              0\n",
       "Residence_type         0\n",
       "avg_glucose_level      0\n",
       "bmi                  201\n",
       "smoking_status         0\n",
       "stroke                 0\n",
       "dtype: int64"
      ]
     },
     "execution_count": 15,
     "metadata": {},
     "output_type": "execute_result"
    }
   ],
   "source": [
    "data.isna().sum()\n",
    "##only bmi is missing"
   ]
  },
  {
   "cell_type": "code",
   "execution_count": 16,
   "id": "164635eb",
   "metadata": {},
   "outputs": [
    {
     "data": {
      "text/plain": [
       "<seaborn.axisgrid.FacetGrid at 0x29d0386bbe0>"
      ]
     },
     "execution_count": 16,
     "metadata": {},
     "output_type": "execute_result"
    },
    {
     "data": {
      "image/png": "[encoded data removed]",
      "text/plain": [
       "<Figure size 360x360 with 1 Axes>"
      ]
     },
     "metadata": {
      "needs_background": "light"
     },
     "output_type": "display_data"
    }
   ],
   "source": [
    "sns.displot(data.bmi,kde=True) ##looks normal distribution - verified with below mean & median calculations=> similar values"
   ]
  },
  {
   "cell_type": "code",
   "execution_count": 17,
   "id": "1aeddaec",
   "metadata": {},
   "outputs": [
    {
     "data": {
      "text/plain": [
       "(28.444575569358193, 27.9, 7.011581592614139)"
      ]
     },
     "execution_count": 17,
     "metadata": {},
     "output_type": "execute_result"
    }
   ],
   "source": [
    "data.bmi.mean(),data.bmi.median(),data.bmi.std()"
   ]
  },
  {
   "cell_type": "code",
   "execution_count": 18,
   "id": "31c0a5cc",
   "metadata": {},
   "outputs": [
    {
     "data": {
      "text/plain": [
       "<AxesSubplot:xlabel='age', ylabel='bmi'>"
      ]
     },
     "execution_count": 18,
     "metadata": {},
     "output_type": "execute_result"
    },
    {
     "data": {
      "image/png": "[encoded data removed]",
      "text/plain": [
       "<Figure size 432x288 with 1 Axes>"
      ]
     },
     "metadata": {
      "needs_background": "light"
     },
     "output_type": "display_data"
    }
   ],
   "source": [
    "sns.lineplot(x='age',y='bmi',data=data)\n",
    "#as the age goes up, bmi goes up - in a linear fashion"
   ]
  },
  {
   "cell_type": "code",
   "execution_count": 19,
   "id": "0872506b",
   "metadata": {},
   "outputs": [
    {
     "data": {
      "text/plain": [
       "<seaborn.axisgrid.FacetGrid at 0x29d037138e0>"
      ]
     },
     "execution_count": 19,
     "metadata": {},
     "output_type": "execute_result"
    },
    {
     "data": {
      "image/png": "[encoded data removed]",
      "text/plain": [
       "<Figure size 360x360 with 1 Axes>"
      ]
     },
     "metadata": {
      "needs_background": "light"
     },
     "output_type": "display_data"
    }
   ],
   "source": [
    "sns.displot(data.loc[data.bmi.isna()].age,kde=\"True\")\n",
    "#to fill in na bmi data\n",
    "#fillna with mean/median value as the data is distributed on a normal distribution\n",
    "#option2: find mean bmi by age_groups like 0-10,10-20,20-30,30-45,46-55,55-75,75-100\n",
    "#option3: use linear regression to find as there is linear relation between age and bmi\n",
    "#option4: drop na for bmi samples"
   ]
  },
  {
   "cell_type": "code",
   "execution_count": 20,
   "id": "6f433852",
   "metadata": {},
   "outputs": [],
   "source": [
    "#data.dropna(inplace=True,axis=0)"
   ]
  },
  {
   "cell_type": "code",
   "execution_count": 21,
   "id": "be728495",
   "metadata": {},
   "outputs": [
    {
     "data": {
      "text/plain": [
       "<seaborn.axisgrid.FacetGrid at 0x29d03e7fc10>"
      ]
     },
     "execution_count": 21,
     "metadata": {},
     "output_type": "execute_result"
    },
    {
     "data": {
      "image/png": "[encoded data removed]",
      "text/plain": [
       "<Figure size 360x360 with 1 Axes>"
      ]
     },
     "metadata": {
      "needs_background": "light"
     },
     "output_type": "display_data"
    }
   ],
   "source": [
    "sns.displot(data.loc[data.bmi.isna()==True].stroke)"
   ]
  },
  {
   "cell_type": "code",
   "execution_count": 22,
   "id": "0198d1a2",
   "metadata": {},
   "outputs": [
    {
     "data": {
      "text/html": [
       "<div>\n",
       "<style scoped>\n",
       "    .dataframe tbody tr th:only-of-type {\n",
       "        vertical-align: middle;\n",
       "    }\n",
       "\n",
       "    .dataframe tbody tr th {\n",
       "        vertical-align: top;\n",
       "    }\n",
       "\n",
       "    .dataframe thead th {\n",
       "        text-align: right;\n",
       "    }\n",
       "</style>\n",
       "<table border=\"1\" class=\"dataframe\">\n",
       "  <thead>\n",
       "    <tr style=\"text-align: right;\">\n",
       "      <th></th>\n",
       "      <th>age</th>\n",
       "      <th>hypertension</th>\n",
       "      <th>heart_disease</th>\n",
       "      <th>avg_glucose_level</th>\n",
       "      <th>bmi</th>\n",
       "      <th>stroke</th>\n",
       "    </tr>\n",
       "  </thead>\n",
       "  <tbody>\n",
       "    <tr>\n",
       "      <th>count</th>\n",
       "      <td>5031.000000</td>\n",
       "      <td>5031.000000</td>\n",
       "      <td>5031.000000</td>\n",
       "      <td>5031.000000</td>\n",
       "      <td>4830.000000</td>\n",
       "      <td>5031.000000</td>\n",
       "    </tr>\n",
       "    <tr>\n",
       "      <th>mean</th>\n",
       "      <td>43.187637</td>\n",
       "      <td>0.095607</td>\n",
       "      <td>0.054661</td>\n",
       "      <td>105.895828</td>\n",
       "      <td>28.444576</td>\n",
       "      <td>0.049294</td>\n",
       "    </tr>\n",
       "    <tr>\n",
       "      <th>std</th>\n",
       "      <td>22.729324</td>\n",
       "      <td>0.294081</td>\n",
       "      <td>0.227340</td>\n",
       "      <td>44.986836</td>\n",
       "      <td>7.011582</td>\n",
       "      <td>0.216503</td>\n",
       "    </tr>\n",
       "    <tr>\n",
       "      <th>min</th>\n",
       "      <td>0.080000</td>\n",
       "      <td>0.000000</td>\n",
       "      <td>0.000000</td>\n",
       "      <td>55.120000</td>\n",
       "      <td>10.300000</td>\n",
       "      <td>0.000000</td>\n",
       "    </tr>\n",
       "    <tr>\n",
       "      <th>25%</th>\n",
       "      <td>25.000000</td>\n",
       "      <td>0.000000</td>\n",
       "      <td>0.000000</td>\n",
       "      <td>77.250000</td>\n",
       "      <td>23.500000</td>\n",
       "      <td>0.000000</td>\n",
       "    </tr>\n",
       "    <tr>\n",
       "      <th>50%</th>\n",
       "      <td>45.000000</td>\n",
       "      <td>0.000000</td>\n",
       "      <td>0.000000</td>\n",
       "      <td>91.850000</td>\n",
       "      <td>27.900000</td>\n",
       "      <td>0.000000</td>\n",
       "    </tr>\n",
       "    <tr>\n",
       "      <th>75%</th>\n",
       "      <td>61.000000</td>\n",
       "      <td>0.000000</td>\n",
       "      <td>0.000000</td>\n",
       "      <td>113.910000</td>\n",
       "      <td>32.800000</td>\n",
       "      <td>0.000000</td>\n",
       "    </tr>\n",
       "    <tr>\n",
       "      <th>max</th>\n",
       "      <td>82.000000</td>\n",
       "      <td>1.000000</td>\n",
       "      <td>1.000000</td>\n",
       "      <td>271.740000</td>\n",
       "      <td>49.900000</td>\n",
       "      <td>1.000000</td>\n",
       "    </tr>\n",
       "  </tbody>\n",
       "</table>\n",
       "</div>"
      ],
      "text/plain": [
       "               age  hypertension  heart_disease  avg_glucose_level  \\\n",
       "count  5031.000000   5031.000000    5031.000000        5031.000000   \n",
       "mean     43.187637      0.095607       0.054661         105.895828   \n",
       "std      22.729324      0.294081       0.227340          44.986836   \n",
       "min       0.080000      0.000000       0.000000          55.120000   \n",
       "25%      25.000000      0.000000       0.000000          77.250000   \n",
       "50%      45.000000      0.000000       0.000000          91.850000   \n",
       "75%      61.000000      0.000000       0.000000         113.910000   \n",
       "max      82.000000      1.000000       1.000000         271.740000   \n",
       "\n",
       "               bmi       stroke  \n",
       "count  4830.000000  5031.000000  \n",
       "mean     28.444576     0.049294  \n",
       "std       7.011582     0.216503  \n",
       "min      10.300000     0.000000  \n",
       "25%      23.500000     0.000000  \n",
       "50%      27.900000     0.000000  \n",
       "75%      32.800000     0.000000  \n",
       "max      49.900000     1.000000  "
      ]
     },
     "execution_count": 22,
     "metadata": {},
     "output_type": "execute_result"
    }
   ],
   "source": [
    "data.describe()"
   ]
  },
  {
   "cell_type": "code",
   "execution_count": 23,
   "id": "4e53da6d",
   "metadata": {},
   "outputs": [
    {
     "data": {
      "text/plain": [
       "array(['Urban', 'Rural'], dtype=object)"
      ]
     },
     "execution_count": 23,
     "metadata": {},
     "output_type": "execute_result"
    }
   ],
   "source": [
    "data.Residence_type.unique()"
   ]
  },
  {
   "cell_type": "code",
   "execution_count": 24,
   "id": "7b19b895",
   "metadata": {
    "scrolled": true
   },
   "outputs": [
    {
     "data": {
      "text/html": [
       "<div>\n",
       "<style scoped>\n",
       "    .dataframe tbody tr th:only-of-type {\n",
       "        vertical-align: middle;\n",
       "    }\n",
       "\n",
       "    .dataframe tbody tr th {\n",
       "        vertical-align: top;\n",
       "    }\n",
       "\n",
       "    .dataframe thead th {\n",
       "        text-align: right;\n",
       "    }\n",
       "</style>\n",
       "<table border=\"1\" class=\"dataframe\">\n",
       "  <thead>\n",
       "    <tr style=\"text-align: right;\">\n",
       "      <th></th>\n",
       "      <th>gender</th>\n",
       "      <th>age</th>\n",
       "      <th>hypertension</th>\n",
       "      <th>heart_disease</th>\n",
       "      <th>ever_married</th>\n",
       "      <th>work_type</th>\n",
       "      <th>Residence_type</th>\n",
       "      <th>avg_glucose_level</th>\n",
       "      <th>bmi</th>\n",
       "      <th>smoking_status</th>\n",
       "      <th>stroke</th>\n",
       "    </tr>\n",
       "  </thead>\n",
       "  <tbody>\n",
       "    <tr>\n",
       "      <th>0</th>\n",
       "      <td>1</td>\n",
       "      <td>67.0</td>\n",
       "      <td>0</td>\n",
       "      <td>1</td>\n",
       "      <td>1</td>\n",
       "      <td>0</td>\n",
       "      <td>0</td>\n",
       "      <td>228.69</td>\n",
       "      <td>36.6</td>\n",
       "      <td>0</td>\n",
       "      <td>1</td>\n",
       "    </tr>\n",
       "    <tr>\n",
       "      <th>1</th>\n",
       "      <td>0</td>\n",
       "      <td>61.0</td>\n",
       "      <td>0</td>\n",
       "      <td>0</td>\n",
       "      <td>1</td>\n",
       "      <td>1</td>\n",
       "      <td>1</td>\n",
       "      <td>202.21</td>\n",
       "      <td>NaN</td>\n",
       "      <td>1</td>\n",
       "      <td>1</td>\n",
       "    </tr>\n",
       "    <tr>\n",
       "      <th>2</th>\n",
       "      <td>1</td>\n",
       "      <td>80.0</td>\n",
       "      <td>0</td>\n",
       "      <td>1</td>\n",
       "      <td>1</td>\n",
       "      <td>0</td>\n",
       "      <td>1</td>\n",
       "      <td>105.92</td>\n",
       "      <td>32.5</td>\n",
       "      <td>1</td>\n",
       "      <td>1</td>\n",
       "    </tr>\n",
       "    <tr>\n",
       "      <th>3</th>\n",
       "      <td>0</td>\n",
       "      <td>49.0</td>\n",
       "      <td>0</td>\n",
       "      <td>0</td>\n",
       "      <td>1</td>\n",
       "      <td>0</td>\n",
       "      <td>0</td>\n",
       "      <td>171.23</td>\n",
       "      <td>34.4</td>\n",
       "      <td>2</td>\n",
       "      <td>1</td>\n",
       "    </tr>\n",
       "    <tr>\n",
       "      <th>4</th>\n",
       "      <td>0</td>\n",
       "      <td>79.0</td>\n",
       "      <td>1</td>\n",
       "      <td>0</td>\n",
       "      <td>1</td>\n",
       "      <td>1</td>\n",
       "      <td>1</td>\n",
       "      <td>174.12</td>\n",
       "      <td>24.0</td>\n",
       "      <td>1</td>\n",
       "      <td>1</td>\n",
       "    </tr>\n",
       "    <tr>\n",
       "      <th>...</th>\n",
       "      <td>...</td>\n",
       "      <td>...</td>\n",
       "      <td>...</td>\n",
       "      <td>...</td>\n",
       "      <td>...</td>\n",
       "      <td>...</td>\n",
       "      <td>...</td>\n",
       "      <td>...</td>\n",
       "      <td>...</td>\n",
       "      <td>...</td>\n",
       "      <td>...</td>\n",
       "    </tr>\n",
       "    <tr>\n",
       "      <th>5105</th>\n",
       "      <td>0</td>\n",
       "      <td>80.0</td>\n",
       "      <td>1</td>\n",
       "      <td>0</td>\n",
       "      <td>1</td>\n",
       "      <td>0</td>\n",
       "      <td>0</td>\n",
       "      <td>83.75</td>\n",
       "      <td>NaN</td>\n",
       "      <td>1</td>\n",
       "      <td>0</td>\n",
       "    </tr>\n",
       "    <tr>\n",
       "      <th>5106</th>\n",
       "      <td>0</td>\n",
       "      <td>81.0</td>\n",
       "      <td>0</td>\n",
       "      <td>0</td>\n",
       "      <td>1</td>\n",
       "      <td>1</td>\n",
       "      <td>0</td>\n",
       "      <td>125.20</td>\n",
       "      <td>40.0</td>\n",
       "      <td>1</td>\n",
       "      <td>0</td>\n",
       "    </tr>\n",
       "    <tr>\n",
       "      <th>5107</th>\n",
       "      <td>0</td>\n",
       "      <td>35.0</td>\n",
       "      <td>0</td>\n",
       "      <td>0</td>\n",
       "      <td>1</td>\n",
       "      <td>1</td>\n",
       "      <td>1</td>\n",
       "      <td>82.99</td>\n",
       "      <td>30.6</td>\n",
       "      <td>1</td>\n",
       "      <td>0</td>\n",
       "    </tr>\n",
       "    <tr>\n",
       "      <th>5108</th>\n",
       "      <td>1</td>\n",
       "      <td>51.0</td>\n",
       "      <td>0</td>\n",
       "      <td>0</td>\n",
       "      <td>1</td>\n",
       "      <td>0</td>\n",
       "      <td>1</td>\n",
       "      <td>166.29</td>\n",
       "      <td>25.6</td>\n",
       "      <td>0</td>\n",
       "      <td>0</td>\n",
       "    </tr>\n",
       "    <tr>\n",
       "      <th>5109</th>\n",
       "      <td>0</td>\n",
       "      <td>44.0</td>\n",
       "      <td>0</td>\n",
       "      <td>0</td>\n",
       "      <td>1</td>\n",
       "      <td>2</td>\n",
       "      <td>0</td>\n",
       "      <td>85.28</td>\n",
       "      <td>26.2</td>\n",
       "      <td>4</td>\n",
       "      <td>0</td>\n",
       "    </tr>\n",
       "  </tbody>\n",
       "</table>\n",
       "<p>5031 rows × 11 columns</p>\n",
       "</div>"
      ],
      "text/plain": [
       "      gender   age  hypertension  heart_disease  ever_married  work_type  \\\n",
       "0          1  67.0             0              1             1          0   \n",
       "1          0  61.0             0              0             1          1   \n",
       "2          1  80.0             0              1             1          0   \n",
       "3          0  49.0             0              0             1          0   \n",
       "4          0  79.0             1              0             1          1   \n",
       "...      ...   ...           ...            ...           ...        ...   \n",
       "5105       0  80.0             1              0             1          0   \n",
       "5106       0  81.0             0              0             1          1   \n",
       "5107       0  35.0             0              0             1          1   \n",
       "5108       1  51.0             0              0             1          0   \n",
       "5109       0  44.0             0              0             1          2   \n",
       "\n",
       "      Residence_type  avg_glucose_level   bmi  smoking_status  stroke  \n",
       "0                  0             228.69  36.6               0       1  \n",
       "1                  1             202.21   NaN               1       1  \n",
       "2                  1             105.92  32.5               1       1  \n",
       "3                  0             171.23  34.4               2       1  \n",
       "4                  1             174.12  24.0               1       1  \n",
       "...              ...                ...   ...             ...     ...  \n",
       "5105               0              83.75   NaN               1       0  \n",
       "5106               0             125.20  40.0               1       0  \n",
       "5107               1              82.99  30.6               1       0  \n",
       "5108               1             166.29  25.6               0       0  \n",
       "5109               0              85.28  26.2               4       0  \n",
       "\n",
       "[5031 rows x 11 columns]"
      ]
     },
     "execution_count": 24,
     "metadata": {},
     "output_type": "execute_result"
    }
   ],
   "source": [
    "helper.replace_classes(data,[\"gender\",\"ever_married\",\"work_type\",\"Residence_type\",\"smoking_status\"],[\n",
    "    {\"Female\":0,\"Male\":1,\"Other\":2},\n",
    "    {\"No\":0,\"Yes\":1},\n",
    "    {\"Private\":0,\"Self-employed\":1,\"Govt_job\":2,\"children\":3,\"Never_worked\":4},\n",
    "    {\"Urban\":0,\"Rural\":1},\n",
    "    {\"formerly smoked\":0,\"never smoked\":1,\"smokes\":2,\"children\":3,\"Unknown\":4}\n",
    "])"
   ]
  },
  {
   "cell_type": "code",
   "execution_count": 25,
   "id": "01dc380f",
   "metadata": {
    "scrolled": true
   },
   "outputs": [
    {
     "data": {
      "text/plain": [
       "<AxesSubplot:xlabel='gender', ylabel='age'>"
      ]
     },
     "execution_count": 25,
     "metadata": {},
     "output_type": "execute_result"
    },
    {
     "data": {
      "image/png": "[encoded data removed]",
      "text/plain": [
       "<Figure size 432x288 with 1 Axes>"
      ]
     },
     "metadata": {
      "needs_background": "light"
     },
     "output_type": "display_data"
    }
   ],
   "source": [
    "sns.boxplot(x=\"gender\",y=\"age\",data=data)"
   ]
  },
  {
   "cell_type": "code",
   "execution_count": 26,
   "id": "8d490a93",
   "metadata": {},
   "outputs": [
    {
     "data": {
      "text/plain": [
       "<AxesSubplot:ylabel='avg_glucose_level'>"
      ]
     },
     "execution_count": 26,
     "metadata": {},
     "output_type": "execute_result"
    },
    {
     "data": {
      "image/png": "[encoded data removed]",
      "text/plain": [
       "<Figure size 432x288 with 1 Axes>"
      ]
     },
     "metadata": {
      "needs_background": "light"
     },
     "output_type": "display_data"
    }
   ],
   "source": [
    "sns.boxplot(y=\"avg_glucose_level\",data=data)"
   ]
  },
  {
   "cell_type": "code",
   "execution_count": 27,
   "id": "825a51d2",
   "metadata": {},
   "outputs": [
    {
     "data": {
      "text/plain": [
       "0    172\n",
       "1     27\n",
       "Name: stroke, dtype: int64"
      ]
     },
     "execution_count": 27,
     "metadata": {},
     "output_type": "execute_result"
    }
   ],
   "source": [
    "data.loc[data.avg_glucose_level>220].stroke.value_counts()"
   ]
  },
  {
   "cell_type": "code",
   "execution_count": 28,
   "id": "b62df2ab",
   "metadata": {},
   "outputs": [
    {
     "data": {
      "text/plain": [
       "<AxesSubplot:ylabel='bmi'>"
      ]
     },
     "execution_count": 28,
     "metadata": {},
     "output_type": "execute_result"
    },
    {
     "data": {
      "image/png": "[encoded data removed]",
      "text/plain": [
       "<Figure size 432x288 with 1 Axes>"
      ]
     },
     "metadata": {
      "needs_background": "light"
     },
     "output_type": "display_data"
    }
   ],
   "source": [
    "sns.boxplot(y=\"bmi\",data=data)\n",
    "#lot of outliers in bmi & glucoselevel features\n",
    "#real life scenario-bmi to have more than the Q3+1.5*IQR is highly unlikely(rare)\n",
    "#as with the above linear trend on age vs bmi, we can use age as a factor to identify missing bmi\n",
    "#trail 1: use linear regression where the target feature would be bmi(to find missing bmi)"
   ]
  },
  {
   "cell_type": "markdown",
   "id": "cff32dee",
   "metadata": {},
   "source": [
    "#trail#1 - bmi outliers treatment - handle outliers by replacing with the respective quartile \n",
    "#end values with added limit = Q +or- 1.5*IQR\n",
    "#75th quartile -> 33.10 \n",
    "#25th quartile -> 23.50\n",
    "#upper limit \n",
    "upper_limit = 33.10 + 1.5*(33.10-23.50)\n",
    "lower_limit = 23.50 - 1.5*(33.10-23.50)\n",
    "\n",
    "data.loc[data.bmi>upper_limit,'bmi']=upper_limit\n",
    "data.loc[data.bmi<lower_limit,'bmi']=lower_limit\n",
    "#with this data imputation mse ~= 47 and bmi were predicted with less accuracy\n"
   ]
  },
  {
   "cell_type": "code",
   "execution_count": 29,
   "id": "b9e56a91",
   "metadata": {},
   "outputs": [],
   "source": [
    "#trail#2 - bmi outliers treatment - handle outliers by replacing with mean\n",
    "#data.loc[(data.bmi>upper_limit) | (data.bmi<lower_limit) ,'bmi']=data.bmi.mean()"
   ]
  },
  {
   "cell_type": "code",
   "execution_count": 30,
   "id": "61c861c8",
   "metadata": {},
   "outputs": [
    {
     "data": {
      "text/plain": [
       "<seaborn.axisgrid.FacetGrid at 0x29d03e45d60>"
      ]
     },
     "execution_count": 30,
     "metadata": {},
     "output_type": "execute_result"
    },
    {
     "data": {
      "image/png": "[encoded data removed]",
      "text/plain": [
       "<Figure size 360x360 with 1 Axes>"
      ]
     },
     "metadata": {
      "needs_background": "light"
     },
     "output_type": "display_data"
    }
   ],
   "source": [
    "sns.displot(data.bmi,kde=True)"
   ]
  },
  {
   "cell_type": "code",
   "execution_count": 31,
   "id": "7f82996b",
   "metadata": {},
   "outputs": [
    {
     "data": {
      "text/plain": [
       "<AxesSubplot:ylabel='bmi'>"
      ]
     },
     "execution_count": 31,
     "metadata": {},
     "output_type": "execute_result"
    },
    {
     "data": {
      "image/png": "[encoded data removed]",
      "text/plain": [
       "<Figure size 432x288 with 1 Axes>"
      ]
     },
     "metadata": {
      "needs_background": "light"
     },
     "output_type": "display_data"
    }
   ],
   "source": [
    "sns.boxplot(y=\"bmi\",data=data)"
   ]
  },
  {
   "cell_type": "code",
   "execution_count": 32,
   "id": "4e520201",
   "metadata": {},
   "outputs": [
    {
     "data": {
      "text/plain": [
       "<seaborn.axisgrid.FacetGrid at 0x29d051461f0>"
      ]
     },
     "execution_count": 32,
     "metadata": {},
     "output_type": "execute_result"
    },
    {
     "data": {
      "image/png": "[encoded data removed]",
      "text/plain": [
       "<Figure size 360x360 with 1 Axes>"
      ]
     },
     "metadata": {
      "needs_background": "light"
     },
     "output_type": "display_data"
    }
   ],
   "source": [
    "sns.displot(data.loc[data.bmi>=55].stroke)"
   ]
  },
  {
   "cell_type": "code",
   "execution_count": 33,
   "id": "fbc20243",
   "metadata": {},
   "outputs": [
    {
     "data": {
      "text/plain": [
       "gender                 0\n",
       "age                    0\n",
       "hypertension           0\n",
       "heart_disease          0\n",
       "ever_married           0\n",
       "work_type              0\n",
       "Residence_type         0\n",
       "avg_glucose_level      0\n",
       "bmi                  201\n",
       "smoking_status         0\n",
       "stroke                 0\n",
       "dtype: int64"
      ]
     },
     "execution_count": 33,
     "metadata": {},
     "output_type": "execute_result"
    }
   ],
   "source": [
    "data.isna().sum()"
   ]
  },
  {
   "cell_type": "code",
   "execution_count": 34,
   "id": "11cf6517",
   "metadata": {},
   "outputs": [],
   "source": [
    "groups = data.groupby(['gender','stroke']).groups\n",
    "lst=[]\n",
    "for gender,stroke in groups:\n",
    "    lst.append({'gender':gender,'stroke':stroke,'count':len(groups[(gender,stroke)])})\n",
    "grp_df=pd.DataFrame(lst)"
   ]
  },
  {
   "cell_type": "code",
   "execution_count": 35,
   "id": "afa06b57",
   "metadata": {},
   "outputs": [
    {
     "data": {
      "text/plain": [
       "<AxesSubplot:xlabel='stroke', ylabel='count'>"
      ]
     },
     "execution_count": 35,
     "metadata": {},
     "output_type": "execute_result"
    },
    {
     "data": {
      "image/png": "[encoded data removed]",
      "text/plain": [
       "<Figure size 432x288 with 1 Axes>"
      ]
     },
     "metadata": {
      "needs_background": "light"
     },
     "output_type": "display_data"
    }
   ],
   "source": [
    "#stroke by gender\n",
    "sns.barplot(x=\"stroke\",y=\"count\",data=grp_df,hue=\"gender\")"
   ]
  },
  {
   "cell_type": "code",
   "execution_count": 36,
   "id": "fa3a5192",
   "metadata": {},
   "outputs": [
    {
     "data": {
      "text/plain": [
       "<seaborn.axisgrid.FacetGrid at 0x29d0505f2b0>"
      ]
     },
     "execution_count": 36,
     "metadata": {},
     "output_type": "execute_result"
    },
    {
     "data": {
      "image/png": "[encoded data removed]",
      "text/plain": [
       "<Figure size 402.375x360 with 1 Axes>"
      ]
     },
     "metadata": {
      "needs_background": "light"
     },
     "output_type": "display_data"
    }
   ],
   "source": [
    "sns.displot(x=\"gender\",hue=\"stroke\",data=data)\n",
    "#population has more of gender 0(female) samples compared to other\n",
    "#but the outcome with stroke=1 is similar(or looks almost equal) among both male and female genders. and just 1 stroke whos gender=2"
   ]
  },
  {
   "cell_type": "code",
   "execution_count": 37,
   "id": "9aa7128b",
   "metadata": {},
   "outputs": [
    {
     "data": {
      "text/html": [
       "<div>\n",
       "<style scoped>\n",
       "    .dataframe tbody tr th:only-of-type {\n",
       "        vertical-align: middle;\n",
       "    }\n",
       "\n",
       "    .dataframe tbody tr th {\n",
       "        vertical-align: top;\n",
       "    }\n",
       "\n",
       "    .dataframe thead th {\n",
       "        text-align: right;\n",
       "    }\n",
       "</style>\n",
       "<table border=\"1\" class=\"dataframe\">\n",
       "  <thead>\n",
       "    <tr style=\"text-align: right;\">\n",
       "      <th></th>\n",
       "      <th>gender</th>\n",
       "      <th>age</th>\n",
       "      <th>hypertension</th>\n",
       "      <th>heart_disease</th>\n",
       "      <th>ever_married</th>\n",
       "      <th>work_type</th>\n",
       "      <th>Residence_type</th>\n",
       "      <th>avg_glucose_level</th>\n",
       "      <th>bmi</th>\n",
       "      <th>smoking_status</th>\n",
       "      <th>stroke</th>\n",
       "    </tr>\n",
       "  </thead>\n",
       "  <tbody>\n",
       "    <tr>\n",
       "      <th>0</th>\n",
       "      <td>1</td>\n",
       "      <td>67.0</td>\n",
       "      <td>0</td>\n",
       "      <td>1</td>\n",
       "      <td>1</td>\n",
       "      <td>0</td>\n",
       "      <td>0</td>\n",
       "      <td>228.69</td>\n",
       "      <td>36.6</td>\n",
       "      <td>0</td>\n",
       "      <td>1</td>\n",
       "    </tr>\n",
       "    <tr>\n",
       "      <th>1</th>\n",
       "      <td>0</td>\n",
       "      <td>61.0</td>\n",
       "      <td>0</td>\n",
       "      <td>0</td>\n",
       "      <td>1</td>\n",
       "      <td>1</td>\n",
       "      <td>1</td>\n",
       "      <td>202.21</td>\n",
       "      <td>NaN</td>\n",
       "      <td>1</td>\n",
       "      <td>1</td>\n",
       "    </tr>\n",
       "    <tr>\n",
       "      <th>2</th>\n",
       "      <td>1</td>\n",
       "      <td>80.0</td>\n",
       "      <td>0</td>\n",
       "      <td>1</td>\n",
       "      <td>1</td>\n",
       "      <td>0</td>\n",
       "      <td>1</td>\n",
       "      <td>105.92</td>\n",
       "      <td>32.5</td>\n",
       "      <td>1</td>\n",
       "      <td>1</td>\n",
       "    </tr>\n",
       "    <tr>\n",
       "      <th>3</th>\n",
       "      <td>0</td>\n",
       "      <td>49.0</td>\n",
       "      <td>0</td>\n",
       "      <td>0</td>\n",
       "      <td>1</td>\n",
       "      <td>0</td>\n",
       "      <td>0</td>\n",
       "      <td>171.23</td>\n",
       "      <td>34.4</td>\n",
       "      <td>2</td>\n",
       "      <td>1</td>\n",
       "    </tr>\n",
       "    <tr>\n",
       "      <th>4</th>\n",
       "      <td>0</td>\n",
       "      <td>79.0</td>\n",
       "      <td>1</td>\n",
       "      <td>0</td>\n",
       "      <td>1</td>\n",
       "      <td>1</td>\n",
       "      <td>1</td>\n",
       "      <td>174.12</td>\n",
       "      <td>24.0</td>\n",
       "      <td>1</td>\n",
       "      <td>1</td>\n",
       "    </tr>\n",
       "  </tbody>\n",
       "</table>\n",
       "</div>"
      ],
      "text/plain": [
       "   gender   age  hypertension  heart_disease  ever_married  work_type  \\\n",
       "0       1  67.0             0              1             1          0   \n",
       "1       0  61.0             0              0             1          1   \n",
       "2       1  80.0             0              1             1          0   \n",
       "3       0  49.0             0              0             1          0   \n",
       "4       0  79.0             1              0             1          1   \n",
       "\n",
       "   Residence_type  avg_glucose_level   bmi  smoking_status  stroke  \n",
       "0               0             228.69  36.6               0       1  \n",
       "1               1             202.21   NaN               1       1  \n",
       "2               1             105.92  32.5               1       1  \n",
       "3               0             171.23  34.4               2       1  \n",
       "4               1             174.12  24.0               1       1  "
      ]
     },
     "execution_count": 37,
     "metadata": {},
     "output_type": "execute_result"
    }
   ],
   "source": [
    "data.head()"
   ]
  },
  {
   "cell_type": "code",
   "execution_count": 38,
   "id": "22f649ef",
   "metadata": {},
   "outputs": [
    {
     "data": {
      "text/plain": [
       "<AxesSubplot:xlabel='stroke', ylabel='age'>"
      ]
     },
     "execution_count": 38,
     "metadata": {},
     "output_type": "execute_result"
    },
    {
     "data": {
      "image/png": "[encoded data removed]",
      "text/plain": [
       "<Figure size 432x288 with 1 Axes>"
      ]
     },
     "metadata": {
      "needs_background": "light"
     },
     "output_type": "display_data"
    }
   ],
   "source": [
    "sns.boxplot(y=\"age\",x=\"stroke\",hue=\"ever_married\",data=data)\n",
    "##inference: if married, the average person age that is likely tohave stroke is around 70"
   ]
  },
  {
   "cell_type": "code",
   "execution_count": 39,
   "id": "19db0e8b",
   "metadata": {},
   "outputs": [
    {
     "data": {
      "image/png": "[encoded data removed]",
      "text/plain": [
       "<Figure size 720x504 with 2 Axes>"
      ]
     },
     "metadata": {
      "needs_background": "light"
     },
     "output_type": "display_data"
    }
   ],
   "source": [
    "corr = data.corr().round(2)\n",
    "plt.figure(figsize=(10,7))\n",
    "sns.heatmap(corr, annot = True, cmap = 'RdYlGn');\n",
    "## age & ever_married have high +ve correlation and looks like age correlates more with stroke comparing the ever_married\n",
    "#correlation (age is carrying more information) - so drop ever_married feature"
   ]
  },
  {
   "cell_type": "code",
   "execution_count": 40,
   "id": "9b2595b6",
   "metadata": {},
   "outputs": [],
   "source": [
    "data.drop([\"ever_married\"],inplace=True,axis=1)"
   ]
  },
  {
   "cell_type": "code",
   "execution_count": 41,
   "id": "daf42a8a",
   "metadata": {},
   "outputs": [
    {
     "data": {
      "text/plain": [
       "gender                 0\n",
       "age                    0\n",
       "hypertension           0\n",
       "heart_disease          0\n",
       "work_type              0\n",
       "Residence_type         0\n",
       "avg_glucose_level      0\n",
       "bmi                  201\n",
       "smoking_status         0\n",
       "stroke                 0\n",
       "dtype: int64"
      ]
     },
     "execution_count": 41,
     "metadata": {},
     "output_type": "execute_result"
    }
   ],
   "source": [
    "data.isna().sum()"
   ]
  },
  {
   "cell_type": "code",
   "execution_count": 42,
   "id": "25ff05d2",
   "metadata": {},
   "outputs": [],
   "source": [
    "#trail #1 - to find missing bmi using linear regression and just use the age as input feature\n",
    "#train#2 - include gender as addition input feature and compare the results\n",
    "#from sklearn.linear_model import LinearRegression\n",
    "#reg = LinearRegression()\n",
    "#bmi_features=['age']\n",
    "#d_bmi = data.loc[data.bmi.isna()==False]\n",
    "#d_no_bmi= data.loc[data.bmi.isna()==True]\n",
    "#data_X=d_bmi[bmi_features]\n",
    "#data_y=d_bmi.bmi\n",
    "fltr=data.bmi.isna()\n",
    "###this trail didn't add any addition value in accuracy\n",
    "#train2, just fillna with mean of bmi\n",
    "#data.loc[fltr==True,\"bmi\"]=data.loc[fltr==False].bmi.mean()"
   ]
  },
  {
   "cell_type": "code",
   "execution_count": 43,
   "id": "de71c72e",
   "metadata": {},
   "outputs": [],
   "source": [
    "#data_X.age.mean(),data_X.age.median()"
   ]
  },
  {
   "cell_type": "code",
   "execution_count": 44,
   "id": "3dd284b7",
   "metadata": {},
   "outputs": [],
   "source": [
    "#data_X.head(),data_y.head()"
   ]
  },
  {
   "cell_type": "code",
   "execution_count": 45,
   "id": "eeb92da8",
   "metadata": {},
   "outputs": [],
   "source": [
    "from sklearn.model_selection import train_test_split,cross_val_score\n",
    "from sklearn.metrics import mean_squared_error,confusion_matrix,classification_report"
   ]
  },
  {
   "cell_type": "code",
   "execution_count": 46,
   "id": "bf622a89",
   "metadata": {},
   "outputs": [],
   "source": [
    "#x_train,x_cv,y_train,y_cv=train_test_split(data_X,data_y,test_size=0.25)"
   ]
  },
  {
   "cell_type": "code",
   "execution_count": 47,
   "id": "524c53ba",
   "metadata": {},
   "outputs": [],
   "source": [
    "#reg =reg.fit(x_train,y_train)\n",
    "#y_pred=reg.predict(x_train)\n",
    "#print(f\"error - {mean_squared_error(y_pred,y_train)}\")"
   ]
  },
  {
   "cell_type": "code",
   "execution_count": 48,
   "id": "bbe225a5",
   "metadata": {},
   "outputs": [],
   "source": [
    "#reg.predict([[79]])"
   ]
  },
  {
   "cell_type": "code",
   "execution_count": 49,
   "id": "9cdcce03",
   "metadata": {},
   "outputs": [],
   "source": [
    "#if len(data.loc[fltr][bmi_features])>0:\n",
    "    #data.loc[fltr,\"bmi\"]=reg.predict(data.loc[fltr][bmi_features])\n",
    "data.bmi.fillna(data.bmi.mean(),inplace=True)"
   ]
  },
  {
   "cell_type": "code",
   "execution_count": 50,
   "id": "2f178eae",
   "metadata": {},
   "outputs": [
    {
     "data": {
      "text/plain": [
       "(5031, 10)"
      ]
     },
     "execution_count": 50,
     "metadata": {},
     "output_type": "execute_result"
    }
   ],
   "source": [
    "#data.isna().sum()\n",
    "data.shape"
   ]
  },
  {
   "cell_type": "code",
   "execution_count": 51,
   "id": "c489f998",
   "metadata": {},
   "outputs": [
    {
     "data": {
      "text/html": [
       "<div>\n",
       "<style scoped>\n",
       "    .dataframe tbody tr th:only-of-type {\n",
       "        vertical-align: middle;\n",
       "    }\n",
       "\n",
       "    .dataframe tbody tr th {\n",
       "        vertical-align: top;\n",
       "    }\n",
       "\n",
       "    .dataframe thead th {\n",
       "        text-align: right;\n",
       "    }\n",
       "</style>\n",
       "<table border=\"1\" class=\"dataframe\">\n",
       "  <thead>\n",
       "    <tr style=\"text-align: right;\">\n",
       "      <th></th>\n",
       "      <th>bmi</th>\n",
       "      <th>stroke</th>\n",
       "    </tr>\n",
       "  </thead>\n",
       "  <tbody>\n",
       "    <tr>\n",
       "      <th>bmi</th>\n",
       "      <td>1.000000</td>\n",
       "      <td>0.052854</td>\n",
       "    </tr>\n",
       "    <tr>\n",
       "      <th>stroke</th>\n",
       "      <td>0.052854</td>\n",
       "      <td>1.000000</td>\n",
       "    </tr>\n",
       "  </tbody>\n",
       "</table>\n",
       "</div>"
      ],
      "text/plain": [
       "             bmi    stroke\n",
       "bmi     1.000000  0.052854\n",
       "stroke  0.052854  1.000000"
      ]
     },
     "execution_count": 51,
     "metadata": {},
     "output_type": "execute_result"
    }
   ],
   "source": [
    "data[[\"bmi\",\"stroke\"]].corr()"
   ]
  },
  {
   "cell_type": "code",
   "execution_count": 52,
   "id": "db230a50",
   "metadata": {},
   "outputs": [
    {
     "data": {
      "text/html": [
       "<div>\n",
       "<style scoped>\n",
       "    .dataframe tbody tr th:only-of-type {\n",
       "        vertical-align: middle;\n",
       "    }\n",
       "\n",
       "    .dataframe tbody tr th {\n",
       "        vertical-align: top;\n",
       "    }\n",
       "\n",
       "    .dataframe thead th {\n",
       "        text-align: right;\n",
       "    }\n",
       "</style>\n",
       "<table border=\"1\" class=\"dataframe\">\n",
       "  <thead>\n",
       "    <tr style=\"text-align: right;\">\n",
       "      <th></th>\n",
       "      <th>age</th>\n",
       "      <th>avg_glucose_level</th>\n",
       "      <th>bmi</th>\n",
       "    </tr>\n",
       "  </thead>\n",
       "  <tbody>\n",
       "    <tr>\n",
       "      <th>0</th>\n",
       "      <td>1.047754</td>\n",
       "      <td>2.729829</td>\n",
       "      <td>1.187214e+00</td>\n",
       "    </tr>\n",
       "    <tr>\n",
       "      <th>1</th>\n",
       "      <td>0.783751</td>\n",
       "      <td>2.141154</td>\n",
       "      <td>2.585906e-15</td>\n",
       "    </tr>\n",
       "    <tr>\n",
       "      <th>2</th>\n",
       "      <td>1.619759</td>\n",
       "      <td>0.000537</td>\n",
       "      <td>5.903627e-01</td>\n",
       "    </tr>\n",
       "    <tr>\n",
       "      <th>3</th>\n",
       "      <td>0.255746</td>\n",
       "      <td>1.452440</td>\n",
       "      <td>8.669525e-01</td>\n",
       "    </tr>\n",
       "    <tr>\n",
       "      <th>4</th>\n",
       "      <td>1.575758</td>\n",
       "      <td>1.516687</td>\n",
       "      <td>-6.470128e-01</td>\n",
       "    </tr>\n",
       "  </tbody>\n",
       "</table>\n",
       "</div>"
      ],
      "text/plain": [
       "        age  avg_glucose_level           bmi\n",
       "0  1.047754           2.729829  1.187214e+00\n",
       "1  0.783751           2.141154  2.585906e-15\n",
       "2  1.619759           0.000537  5.903627e-01\n",
       "3  0.255746           1.452440  8.669525e-01\n",
       "4  1.575758           1.516687 -6.470128e-01"
      ]
     },
     "execution_count": 52,
     "metadata": {},
     "output_type": "execute_result"
    }
   ],
   "source": [
    "from sklearn.preprocessing import StandardScaler\n",
    "scalr = StandardScaler()\n",
    "cols = ['age','avg_glucose_level', 'bmi']\n",
    "scaled_d = scalr.fit_transform(data[['age','avg_glucose_level', 'bmi']])\n",
    "d_f = pd.DataFrame(scaled_d,columns=cols)\n",
    "d_f.head()"
   ]
  },
  {
   "cell_type": "code",
   "execution_count": 53,
   "id": "98dd6aa4",
   "metadata": {},
   "outputs": [],
   "source": [
    "data.drop(cols,axis=1,inplace=True)\n",
    "data = pd.concat([data,d_f],axis=1)\n",
    "data.dropna(axis=0,inplace=True)"
   ]
  },
  {
   "cell_type": "code",
   "execution_count": 54,
   "id": "0ac0fc18",
   "metadata": {},
   "outputs": [
    {
     "data": {
      "text/html": [
       "<div>\n",
       "<style scoped>\n",
       "    .dataframe tbody tr th:only-of-type {\n",
       "        vertical-align: middle;\n",
       "    }\n",
       "\n",
       "    .dataframe tbody tr th {\n",
       "        vertical-align: top;\n",
       "    }\n",
       "\n",
       "    .dataframe thead th {\n",
       "        text-align: right;\n",
       "    }\n",
       "</style>\n",
       "<table border=\"1\" class=\"dataframe\">\n",
       "  <thead>\n",
       "    <tr style=\"text-align: right;\">\n",
       "      <th></th>\n",
       "      <th>gender</th>\n",
       "      <th>hypertension</th>\n",
       "      <th>heart_disease</th>\n",
       "      <th>work_type</th>\n",
       "      <th>Residence_type</th>\n",
       "      <th>smoking_status</th>\n",
       "      <th>stroke</th>\n",
       "      <th>age</th>\n",
       "      <th>avg_glucose_level</th>\n",
       "      <th>bmi</th>\n",
       "    </tr>\n",
       "  </thead>\n",
       "  <tbody>\n",
       "    <tr>\n",
       "      <th>0</th>\n",
       "      <td>1.0</td>\n",
       "      <td>0.0</td>\n",
       "      <td>1.0</td>\n",
       "      <td>0.0</td>\n",
       "      <td>0.0</td>\n",
       "      <td>0.0</td>\n",
       "      <td>1.0</td>\n",
       "      <td>1.047754</td>\n",
       "      <td>2.729829</td>\n",
       "      <td>1.187214e+00</td>\n",
       "    </tr>\n",
       "    <tr>\n",
       "      <th>1</th>\n",
       "      <td>0.0</td>\n",
       "      <td>0.0</td>\n",
       "      <td>0.0</td>\n",
       "      <td>1.0</td>\n",
       "      <td>1.0</td>\n",
       "      <td>1.0</td>\n",
       "      <td>1.0</td>\n",
       "      <td>0.783751</td>\n",
       "      <td>2.141154</td>\n",
       "      <td>2.585906e-15</td>\n",
       "    </tr>\n",
       "    <tr>\n",
       "      <th>2</th>\n",
       "      <td>1.0</td>\n",
       "      <td>0.0</td>\n",
       "      <td>1.0</td>\n",
       "      <td>0.0</td>\n",
       "      <td>1.0</td>\n",
       "      <td>1.0</td>\n",
       "      <td>1.0</td>\n",
       "      <td>1.619759</td>\n",
       "      <td>0.000537</td>\n",
       "      <td>5.903627e-01</td>\n",
       "    </tr>\n",
       "    <tr>\n",
       "      <th>3</th>\n",
       "      <td>0.0</td>\n",
       "      <td>0.0</td>\n",
       "      <td>0.0</td>\n",
       "      <td>0.0</td>\n",
       "      <td>0.0</td>\n",
       "      <td>2.0</td>\n",
       "      <td>1.0</td>\n",
       "      <td>0.255746</td>\n",
       "      <td>1.452440</td>\n",
       "      <td>8.669525e-01</td>\n",
       "    </tr>\n",
       "    <tr>\n",
       "      <th>4</th>\n",
       "      <td>0.0</td>\n",
       "      <td>1.0</td>\n",
       "      <td>0.0</td>\n",
       "      <td>1.0</td>\n",
       "      <td>1.0</td>\n",
       "      <td>1.0</td>\n",
       "      <td>1.0</td>\n",
       "      <td>1.575758</td>\n",
       "      <td>1.516687</td>\n",
       "      <td>-6.470128e-01</td>\n",
       "    </tr>\n",
       "  </tbody>\n",
       "</table>\n",
       "</div>"
      ],
      "text/plain": [
       "   gender  hypertension  heart_disease  work_type  Residence_type  \\\n",
       "0     1.0           0.0            1.0        0.0             0.0   \n",
       "1     0.0           0.0            0.0        1.0             1.0   \n",
       "2     1.0           0.0            1.0        0.0             1.0   \n",
       "3     0.0           0.0            0.0        0.0             0.0   \n",
       "4     0.0           1.0            0.0        1.0             1.0   \n",
       "\n",
       "   smoking_status  stroke       age  avg_glucose_level           bmi  \n",
       "0             0.0     1.0  1.047754           2.729829  1.187214e+00  \n",
       "1             1.0     1.0  0.783751           2.141154  2.585906e-15  \n",
       "2             1.0     1.0  1.619759           0.000537  5.903627e-01  \n",
       "3             2.0     1.0  0.255746           1.452440  8.669525e-01  \n",
       "4             1.0     1.0  1.575758           1.516687 -6.470128e-01  "
      ]
     },
     "execution_count": 54,
     "metadata": {},
     "output_type": "execute_result"
    }
   ],
   "source": [
    "data.head()"
   ]
  },
  {
   "cell_type": "code",
   "execution_count": 55,
   "id": "ebcab9dc",
   "metadata": {},
   "outputs": [
    {
     "data": {
      "text/plain": [
       "<seaborn.axisgrid.FacetGrid at 0x29d05af1f10>"
      ]
     },
     "execution_count": 55,
     "metadata": {},
     "output_type": "execute_result"
    },
    {
     "data": {
      "image/png": "[encoded data removed]",
      "text/plain": [
       "<Figure size 360x360 with 1 Axes>"
      ]
     },
     "metadata": {
      "needs_background": "light"
     },
     "output_type": "display_data"
    }
   ],
   "source": [
    "sns.displot(data.age)"
   ]
  },
  {
   "cell_type": "code",
   "execution_count": 56,
   "id": "dd2b58dc",
   "metadata": {},
   "outputs": [
    {
     "data": {
      "text/plain": [
       "<AxesSubplot:xlabel='stroke', ylabel='avg_glucose_level'>"
      ]
     },
     "execution_count": 56,
     "metadata": {},
     "output_type": "execute_result"
    },
    {
     "data": {
      "image/png": "[encoded data removed]",
      "text/plain": [
       "<Figure size 432x288 with 1 Axes>"
      ]
     },
     "metadata": {
      "needs_background": "light"
     },
     "output_type": "display_data"
    }
   ],
   "source": [
    "sns.boxplot(y=\"avg_glucose_level\",x=\"stroke\",data=data)"
   ]
  },
  {
   "cell_type": "code",
   "execution_count": 57,
   "id": "a48b181f",
   "metadata": {},
   "outputs": [
    {
     "data": {
      "text/html": [
       "<div>\n",
       "<style scoped>\n",
       "    .dataframe tbody tr th:only-of-type {\n",
       "        vertical-align: middle;\n",
       "    }\n",
       "\n",
       "    .dataframe tbody tr th {\n",
       "        vertical-align: top;\n",
       "    }\n",
       "\n",
       "    .dataframe thead th {\n",
       "        text-align: right;\n",
       "    }\n",
       "</style>\n",
       "<table border=\"1\" class=\"dataframe\">\n",
       "  <thead>\n",
       "    <tr style=\"text-align: right;\">\n",
       "      <th></th>\n",
       "      <th>gender</th>\n",
       "      <th>hypertension</th>\n",
       "      <th>heart_disease</th>\n",
       "      <th>work_type</th>\n",
       "      <th>Residence_type</th>\n",
       "      <th>smoking_status</th>\n",
       "      <th>stroke</th>\n",
       "      <th>age</th>\n",
       "      <th>avg_glucose_level</th>\n",
       "      <th>bmi</th>\n",
       "    </tr>\n",
       "  </thead>\n",
       "  <tbody>\n",
       "    <tr>\n",
       "      <th>count</th>\n",
       "      <td>4704.000000</td>\n",
       "      <td>4704.000000</td>\n",
       "      <td>4704.000000</td>\n",
       "      <td>4704.000000</td>\n",
       "      <td>4704.000000</td>\n",
       "      <td>4704.000000</td>\n",
       "      <td>4704.0</td>\n",
       "      <td>4704.000000</td>\n",
       "      <td>4704.000000</td>\n",
       "      <td>4704.000000</td>\n",
       "    </tr>\n",
       "    <tr>\n",
       "      <th>mean</th>\n",
       "      <td>0.415391</td>\n",
       "      <td>0.087160</td>\n",
       "      <td>0.048469</td>\n",
       "      <td>0.859269</td>\n",
       "      <td>0.493622</td>\n",
       "      <td>1.909864</td>\n",
       "      <td>0.0</td>\n",
       "      <td>-0.053734</td>\n",
       "      <td>-0.031277</td>\n",
       "      <td>-0.010829</td>\n",
       "    </tr>\n",
       "    <tr>\n",
       "      <th>std</th>\n",
       "      <td>0.493273</td>\n",
       "      <td>0.282099</td>\n",
       "      <td>0.214779</td>\n",
       "      <td>1.136714</td>\n",
       "      <td>0.500012</td>\n",
       "      <td>1.504955</td>\n",
       "      <td>0.0</td>\n",
       "      <td>0.986916</td>\n",
       "      <td>0.967690</td>\n",
       "      <td>1.007790</td>\n",
       "    </tr>\n",
       "    <tr>\n",
       "      <th>min</th>\n",
       "      <td>0.000000</td>\n",
       "      <td>0.000000</td>\n",
       "      <td>0.000000</td>\n",
       "      <td>0.000000</td>\n",
       "      <td>0.000000</td>\n",
       "      <td>0.000000</td>\n",
       "      <td>0.0</td>\n",
       "      <td>-1.896753</td>\n",
       "      <td>-1.128794</td>\n",
       "      <td>-2.641371</td>\n",
       "    </tr>\n",
       "    <tr>\n",
       "      <th>25%</th>\n",
       "      <td>0.000000</td>\n",
       "      <td>0.000000</td>\n",
       "      <td>0.000000</td>\n",
       "      <td>0.000000</td>\n",
       "      <td>0.000000</td>\n",
       "      <td>1.000000</td>\n",
       "      <td>0.0</td>\n",
       "      <td>-0.844264</td>\n",
       "      <td>-0.640603</td>\n",
       "      <td>-0.719800</td>\n",
       "    </tr>\n",
       "    <tr>\n",
       "      <th>50%</th>\n",
       "      <td>0.000000</td>\n",
       "      <td>0.000000</td>\n",
       "      <td>0.000000</td>\n",
       "      <td>0.000000</td>\n",
       "      <td>0.000000</td>\n",
       "      <td>1.000000</td>\n",
       "      <td>0.0</td>\n",
       "      <td>-0.008256</td>\n",
       "      <td>-0.324257</td>\n",
       "      <td>-0.050161</td>\n",
       "    </tr>\n",
       "    <tr>\n",
       "      <th>75%</th>\n",
       "      <td>1.000000</td>\n",
       "      <td>0.000000</td>\n",
       "      <td>0.000000</td>\n",
       "      <td>2.000000</td>\n",
       "      <td>1.000000</td>\n",
       "      <td>4.000000</td>\n",
       "      <td>0.0</td>\n",
       "      <td>0.695750</td>\n",
       "      <td>0.151874</td>\n",
       "      <td>0.590363</td>\n",
       "    </tr>\n",
       "    <tr>\n",
       "      <th>max</th>\n",
       "      <td>2.000000</td>\n",
       "      <td>1.000000</td>\n",
       "      <td>1.000000</td>\n",
       "      <td>4.000000</td>\n",
       "      <td>1.000000</td>\n",
       "      <td>4.000000</td>\n",
       "      <td>0.0</td>\n",
       "      <td>1.707760</td>\n",
       "      <td>3.598392</td>\n",
       "      <td>3.123343</td>\n",
       "    </tr>\n",
       "  </tbody>\n",
       "</table>\n",
       "</div>"
      ],
      "text/plain": [
       "            gender  hypertension  heart_disease    work_type  Residence_type  \\\n",
       "count  4704.000000   4704.000000    4704.000000  4704.000000     4704.000000   \n",
       "mean      0.415391      0.087160       0.048469     0.859269        0.493622   \n",
       "std       0.493273      0.282099       0.214779     1.136714        0.500012   \n",
       "min       0.000000      0.000000       0.000000     0.000000        0.000000   \n",
       "25%       0.000000      0.000000       0.000000     0.000000        0.000000   \n",
       "50%       0.000000      0.000000       0.000000     0.000000        0.000000   \n",
       "75%       1.000000      0.000000       0.000000     2.000000        1.000000   \n",
       "max       2.000000      1.000000       1.000000     4.000000        1.000000   \n",
       "\n",
       "       smoking_status  stroke          age  avg_glucose_level          bmi  \n",
       "count     4704.000000  4704.0  4704.000000        4704.000000  4704.000000  \n",
       "mean         1.909864     0.0    -0.053734          -0.031277    -0.010829  \n",
       "std          1.504955     0.0     0.986916           0.967690     1.007790  \n",
       "min          0.000000     0.0    -1.896753          -1.128794    -2.641371  \n",
       "25%          1.000000     0.0    -0.844264          -0.640603    -0.719800  \n",
       "50%          1.000000     0.0    -0.008256          -0.324257    -0.050161  \n",
       "75%          4.000000     0.0     0.695750           0.151874     0.590363  \n",
       "max          4.000000     0.0     1.707760           3.598392     3.123343  "
      ]
     },
     "execution_count": 57,
     "metadata": {},
     "output_type": "execute_result"
    }
   ],
   "source": [
    "data.loc[data.stroke==0].describe()"
   ]
  },
  {
   "cell_type": "code",
   "execution_count": 58,
   "id": "35b6de3e",
   "metadata": {},
   "outputs": [],
   "source": [
    "data.avg_glucose_level = [112.69 if x>112 else x for x in data.avg_glucose_level]"
   ]
  },
  {
   "cell_type": "code",
   "execution_count": 59,
   "id": "faada6cd",
   "metadata": {},
   "outputs": [
    {
     "data": {
      "text/plain": [
       "<AxesSubplot:ylabel='avg_glucose_level'>"
      ]
     },
     "execution_count": 59,
     "metadata": {},
     "output_type": "execute_result"
    },
    {
     "data": {
      "image/png": "[encoded data removed]",
      "text/plain": [
       "<Figure size 432x288 with 1 Axes>"
      ]
     },
     "metadata": {
      "needs_background": "light"
     },
     "output_type": "display_data"
    }
   ],
   "source": [
    "sns.boxplot(y=\"avg_glucose_level\",data=data)"
   ]
  },
  {
   "cell_type": "markdown",
   "id": "4bb7fa7f",
   "metadata": {},
   "source": [
    "upper_limit = 33.10 + 1.5*(33.10-23.50)\n",
    "lower_limit = 23.50 - 1.5*(33.10-23.50)\n",
    "\n",
    "data.loc[data.bmi>upper_limit,'bmi']=upper_limit\n",
    "data.loc[data.bmi<lower_limit,'bmi']=lower_limit"
   ]
  },
  {
   "cell_type": "code",
   "execution_count": 60,
   "id": "daa6291e",
   "metadata": {},
   "outputs": [
    {
     "data": {
      "text/plain": [
       "gender               0\n",
       "hypertension         0\n",
       "heart_disease        0\n",
       "work_type            0\n",
       "Residence_type       0\n",
       "smoking_status       0\n",
       "stroke               0\n",
       "age                  0\n",
       "avg_glucose_level    0\n",
       "bmi                  0\n",
       "dtype: int64"
      ]
     },
     "execution_count": 60,
     "metadata": {},
     "output_type": "execute_result"
    }
   ],
   "source": [
    "data.isna().sum()"
   ]
  },
  {
   "cell_type": "code",
   "execution_count": 62,
   "id": "f8612145",
   "metadata": {},
   "outputs": [
    {
     "data": {
      "text/plain": [
       "Index(['gender', 'hypertension', 'heart_disease', 'work_type',\n",
       "       'Residence_type', 'smoking_status', 'stroke', 'age',\n",
       "       'avg_glucose_level', 'bmi'],\n",
       "      dtype='object')"
      ]
     },
     "execution_count": 62,
     "metadata": {},
     "output_type": "execute_result"
    }
   ],
   "source": [
    "features =['gender', 'age', 'hypertension', 'heart_disease', \n",
    "       'work_type', 'Residence_type', 'avg_glucose_level',\n",
    "       'smoking_status']\n",
    "\n",
    "data_X=data[features]\n",
    "data_Y = data[[\"stroke\"]]\n",
    "data.columns"
   ]
  },
  {
   "cell_type": "code",
   "execution_count": 63,
   "id": "45f29c6a",
   "metadata": {},
   "outputs": [
    {
     "data": {
      "text/plain": [
       "gender               0\n",
       "hypertension         0\n",
       "heart_disease        0\n",
       "work_type            0\n",
       "Residence_type       0\n",
       "smoking_status       0\n",
       "stroke               0\n",
       "age                  0\n",
       "avg_glucose_level    0\n",
       "bmi                  0\n",
       "dtype: int64"
      ]
     },
     "execution_count": 63,
     "metadata": {},
     "output_type": "execute_result"
    }
   ],
   "source": [
    "data.isna().sum()"
   ]
  },
  {
   "cell_type": "code",
   "execution_count": null,
   "id": "71690380",
   "metadata": {},
   "outputs": [],
   "source": [
    "### Random over sampling , does sampling with replacement using existing population\n",
    "### this is major factor that helped in this model performing with ~ 97% f1-score using DecisionTreeClassifier"
   ]
  },
  {
   "cell_type": "code",
   "execution_count": 64,
   "id": "7be16ca6",
   "metadata": {},
   "outputs": [],
   "source": [
    "from imblearn.over_sampling import RandomOverSampler"
   ]
  },
  {
   "cell_type": "code",
   "execution_count": 183,
   "id": "1989f72b",
   "metadata": {},
   "outputs": [],
   "source": [
    "ros = RandomOverSampler(sampling_strategy='minority')\n",
    "X_resampled,y_res = ros.fit_resample(data_X,data_Y)"
   ]
  },
  {
   "cell_type": "code",
   "execution_count": 184,
   "id": "35dac267",
   "metadata": {},
   "outputs": [
    {
     "data": {
      "text/plain": [
       "((9408, 8), (9408, 1))"
      ]
     },
     "execution_count": 184,
     "metadata": {},
     "output_type": "execute_result"
    }
   ],
   "source": [
    "X_resampled.shape,y_res.shape"
   ]
  },
  {
   "cell_type": "code",
   "execution_count": 185,
   "id": "1a070631",
   "metadata": {},
   "outputs": [],
   "source": [
    "X_train,X_test,y_train,y_test= train_test_split(X_resampled,y_res,test_size=0.30,random_state=0)\n",
    "y_train=y_train.values.reshape(y_train.shape[0],)\n",
    "y_test=y_test.values.reshape(y_test.shape[0],)"
   ]
  },
  {
   "cell_type": "code",
   "execution_count": 186,
   "id": "f973704a",
   "metadata": {},
   "outputs": [
    {
     "data": {
      "text/plain": [
       "((6585, 8), (2823, 8))"
      ]
     },
     "execution_count": 186,
     "metadata": {},
     "output_type": "execute_result"
    }
   ],
   "source": [
    "X_train.shape,X_test.shape"
   ]
  },
  {
   "cell_type": "code",
   "execution_count": 187,
   "id": "cb1fa040",
   "metadata": {},
   "outputs": [
    {
     "data": {
      "text/plain": [
       "gender               0\n",
       "age                  0\n",
       "hypertension         0\n",
       "heart_disease        0\n",
       "work_type            0\n",
       "Residence_type       0\n",
       "avg_glucose_level    0\n",
       "smoking_status       0\n",
       "dtype: int64"
      ]
     },
     "execution_count": 187,
     "metadata": {},
     "output_type": "execute_result"
    }
   ],
   "source": [
    "X_train.isna().sum()"
   ]
  },
  {
   "cell_type": "code",
   "execution_count": 188,
   "id": "d57b39e7",
   "metadata": {},
   "outputs": [],
   "source": [
    "from sklearn.linear_model import LogisticRegression"
   ]
  },
  {
   "cell_type": "code",
   "execution_count": 189,
   "id": "92cdae0e",
   "metadata": {},
   "outputs": [
    {
     "name": "stdout",
     "output_type": "stream",
     "text": [
      "[0.79954442 0.78208049 0.78663629 0.79878512 0.78208049]\n"
     ]
    }
   ],
   "source": [
    "logis_clf= LogisticRegression(max_iter=1000)\n",
    "scores = cross_val_score(logis_clf,X_train,y_train,cv=5)\n",
    "logis_score = scores.mean()\n",
    "print(scores)"
   ]
  },
  {
   "cell_type": "code",
   "execution_count": 190,
   "id": "412b9061",
   "metadata": {},
   "outputs": [
    {
     "data": {
      "text/plain": [
       "0.7898253606681853"
      ]
     },
     "execution_count": 190,
     "metadata": {},
     "output_type": "execute_result"
    }
   ],
   "source": [
    "logis_score"
   ]
  },
  {
   "cell_type": "code",
   "execution_count": 191,
   "id": "393f8df8",
   "metadata": {},
   "outputs": [],
   "source": [
    "logis_clf=logis_clf.fit(X_train,y_train)"
   ]
  },
  {
   "cell_type": "code",
   "execution_count": 192,
   "id": "16fc4af2",
   "metadata": {},
   "outputs": [
    {
     "data": {
      "text/plain": [
       "0.7729365922777187"
      ]
     },
     "execution_count": 192,
     "metadata": {},
     "output_type": "execute_result"
    }
   ],
   "source": [
    "logis_clf.score(X_test,y_test)"
   ]
  },
  {
   "cell_type": "code",
   "execution_count": 193,
   "id": "29c52bbd",
   "metadata": {},
   "outputs": [],
   "source": [
    "#svm_clf.predict(X_train.iloc[y_train==1])"
   ]
  },
  {
   "cell_type": "code",
   "execution_count": 194,
   "id": "8ceeaa95",
   "metadata": {},
   "outputs": [],
   "source": [
    "from sklearn import svm\n",
    "svm_clf = svm.SVC(kernel='rbf')\n",
    "scores = cross_val_score(svm_clf,X_train,y_train,cv=5)\n",
    "svm_score = scores.mean()"
   ]
  },
  {
   "cell_type": "code",
   "execution_count": 195,
   "id": "f50fa427",
   "metadata": {},
   "outputs": [
    {
     "data": {
      "text/plain": [
       "0.7998481397114655"
      ]
     },
     "execution_count": 195,
     "metadata": {},
     "output_type": "execute_result"
    }
   ],
   "source": [
    "svm_score"
   ]
  },
  {
   "cell_type": "code",
   "execution_count": 196,
   "id": "e4ff60ea",
   "metadata": {},
   "outputs": [],
   "source": [
    "svm_clf=svm_clf.fit(X_train,y_train)"
   ]
  },
  {
   "cell_type": "code",
   "execution_count": 197,
   "id": "90397a3c",
   "metadata": {},
   "outputs": [
    {
     "data": {
      "text/plain": [
       "array([1., 1., 1., ..., 1., 1., 1.])"
      ]
     },
     "execution_count": 197,
     "metadata": {},
     "output_type": "execute_result"
    }
   ],
   "source": [
    "svm_clf.predict(X_train.iloc[y_train==1])"
   ]
  },
  {
   "cell_type": "code",
   "execution_count": 198,
   "id": "fa47e3aa",
   "metadata": {},
   "outputs": [
    {
     "data": {
      "text/plain": [
       "0.798087141339001"
      ]
     },
     "execution_count": 198,
     "metadata": {},
     "output_type": "execute_result"
    }
   ],
   "source": [
    "svm_clf.score(X_test,y_test)"
   ]
  },
  {
   "cell_type": "code",
   "execution_count": 199,
   "id": "8348b206",
   "metadata": {},
   "outputs": [],
   "source": [
    "y_pred=logis_clf.predict(X_test)"
   ]
  },
  {
   "cell_type": "code",
   "execution_count": 200,
   "id": "1f5d0523",
   "metadata": {},
   "outputs": [
    {
     "name": "stdout",
     "output_type": "stream",
     "text": [
      "[[1049  360]\n",
      " [ 281 1133]]\n",
      "              precision    recall  f1-score   support\n",
      "\n",
      "         0.0       0.79      0.74      0.77      1409\n",
      "         1.0       0.76      0.80      0.78      1414\n",
      "\n",
      "    accuracy                           0.77      2823\n",
      "   macro avg       0.77      0.77      0.77      2823\n",
      "weighted avg       0.77      0.77      0.77      2823\n",
      "\n"
     ]
    }
   ],
   "source": [
    "print(confusion_matrix(**{'y_true':y_test,'y_pred':y_pred}))\n",
    "print(classification_report(**{'y_true':y_test,'y_pred':y_pred}))\n",
    "\n",
    "##### confusion metrix shows that, lot of false negatives(~69).which means model would simply report negative(no stroke) \n",
    "##for lot many people who had stroke\n",
    "\n",
    "##looking at precision recall & f1 scores, can see that for class =1 model isn't predicting much of true labels with =1"
   ]
  },
  {
   "cell_type": "code",
   "execution_count": 201,
   "id": "e24f0467",
   "metadata": {},
   "outputs": [],
   "source": [
    "from sklearn.naive_bayes import GaussianNB"
   ]
  },
  {
   "cell_type": "code",
   "execution_count": 202,
   "id": "88a04c04",
   "metadata": {},
   "outputs": [
    {
     "name": "stdout",
     "output_type": "stream",
     "text": [
      "0.7579347000759301\n"
     ]
    }
   ],
   "source": [
    "nb=GaussianNB()\n",
    "scores = cross_val_score(nb,X_train,y_train,cv=5)\n",
    "nb_score = scores.mean()\n",
    "print(nb_score)"
   ]
  },
  {
   "cell_type": "code",
   "execution_count": 203,
   "id": "854beafb",
   "metadata": {},
   "outputs": [],
   "source": [
    "nb=nb.fit(X_train,y_train)"
   ]
  },
  {
   "cell_type": "code",
   "execution_count": 204,
   "id": "f8b2b28f",
   "metadata": {},
   "outputs": [],
   "source": [
    "y_pred=nb.predict(X_test)"
   ]
  },
  {
   "cell_type": "code",
   "execution_count": 205,
   "id": "807351d1",
   "metadata": {
    "scrolled": true
   },
   "outputs": [
    {
     "name": "stdout",
     "output_type": "stream",
     "text": [
      "[[1128  281]\n",
      " [ 391 1023]]\n",
      "              precision    recall  f1-score   support\n",
      "\n",
      "         0.0       0.74      0.80      0.77      1409\n",
      "         1.0       0.78      0.72      0.75      1414\n",
      "\n",
      "    accuracy                           0.76      2823\n",
      "   macro avg       0.76      0.76      0.76      2823\n",
      "weighted avg       0.76      0.76      0.76      2823\n",
      "\n"
     ]
    }
   ],
   "source": [
    "print(confusion_matrix(**{'y_true':y_test,'y_pred':y_pred}))\n",
    "print(classification_report(**{'y_true':y_test,'y_pred':y_pred}))"
   ]
  },
  {
   "cell_type": "code",
   "execution_count": 217,
   "id": "af65c267",
   "metadata": {},
   "outputs": [],
   "source": [
    "from sklearn import tree\n",
    "from sklearn.ensemble import RandomForestClassifier"
   ]
  },
  {
   "cell_type": "code",
   "execution_count": 218,
   "id": "e44068cb",
   "metadata": {},
   "outputs": [],
   "source": [
    "dtree= RandomForestClassifier(random_state=2022)"
   ]
  },
  {
   "cell_type": "code",
   "execution_count": 219,
   "id": "e7fb1887",
   "metadata": {},
   "outputs": [],
   "source": [
    "dtree=dtree.fit(X_train,y_train)"
   ]
  },
  {
   "cell_type": "code",
   "execution_count": 220,
   "id": "182df20b",
   "metadata": {},
   "outputs": [],
   "source": [
    "y_pred = dtree.predict(X_test)"
   ]
  },
  {
   "cell_type": "code",
   "execution_count": 221,
   "id": "d1f3f52b",
   "metadata": {},
   "outputs": [
    {
     "name": "stdout",
     "output_type": "stream",
     "text": [
      "[[1364   45]\n",
      " [   0 1414]]\n",
      "              precision    recall  f1-score   support\n",
      "\n",
      "         0.0       1.00      0.97      0.98      1409\n",
      "         1.0       0.97      1.00      0.98      1414\n",
      "\n",
      "    accuracy                           0.98      2823\n",
      "   macro avg       0.98      0.98      0.98      2823\n",
      "weighted avg       0.98      0.98      0.98      2823\n",
      "\n"
     ]
    }
   ],
   "source": [
    "print(confusion_matrix(**{'y_true':y_test,'y_pred':y_pred}))\n",
    "print(classification_report(**{'y_true':y_test,'y_pred':y_pred}))\n",
    "\n",
    "### 0 false negatives in the confusion metrix, so - all positive cases are predicted correctly\n",
    "###45 - false positives -> predicted stroke=1 for 45 samples when the actual stroke was 0"
   ]
  },
  {
   "cell_type": "code",
   "execution_count": null,
   "id": "8afb0976",
   "metadata": {},
   "outputs": [],
   "source": []
  },
  {
   "cell_type": "code",
   "execution_count": 211,
   "id": "1902fe99",
   "metadata": {},
   "outputs": [],
   "source": [
    "import tensorflow as tf\n",
    "from tensorflow import keras"
   ]
  },
  {
   "cell_type": "code",
   "execution_count": 212,
   "id": "55a3b8f0",
   "metadata": {},
   "outputs": [],
   "source": [
    "net = keras.Sequential([\n",
    "    keras.layers.Dense(units=75,activation='relu'),\n",
    "    keras.layers.Dense(units=50,activation='relu'),\n",
    "    keras.layers.Dense(units=25,activation='relu'),\n",
    "    keras.layers.Dense(units=1,activation='sigmoid')\n",
    "])\n",
    "net.compile(optimizer=tf.keras.optimizers.Adam(learning_rate=0.005),loss=tf.keras.losses.BinaryCrossentropy())"
   ]
  },
  {
   "cell_type": "code",
   "execution_count": 213,
   "id": "d6ab20a3",
   "metadata": {},
   "outputs": [
    {
     "name": "stdout",
     "output_type": "stream",
     "text": [
      "Epoch 1/300\n",
      "206/206 [==============================] - 1s 1ms/step - loss: 0.4621\n",
      "Epoch 2/300\n",
      "206/206 [==============================] - 0s 1ms/step - loss: 0.4235\n",
      "Epoch 3/300\n",
      "206/206 [==============================] - 0s 1ms/step - loss: 0.3955\n",
      "Epoch 4/300\n",
      "206/206 [==============================] - 0s 2ms/step - loss: 0.3738\n",
      "Epoch 5/300\n",
      "206/206 [==============================] - 0s 1ms/step - loss: 0.3525\n",
      "Epoch 6/300\n",
      "206/206 [==============================] - 0s 2ms/step - loss: 0.3367\n",
      "Epoch 7/300\n",
      "206/206 [==============================] - 0s 2ms/step - loss: 0.3226\n",
      "Epoch 8/300\n",
      "206/206 [==============================] - 0s 2ms/step - loss: 0.3047\n",
      "Epoch 9/300\n",
      "206/206 [==============================] - 0s 2ms/step - loss: 0.2942\n",
      "Epoch 10/300\n",
      "206/206 [==============================] - 0s 2ms/step - loss: 0.2841\n",
      "Epoch 11/300\n",
      "206/206 [==============================] - 0s 2ms/step - loss: 0.2679\n",
      "Epoch 12/300\n",
      "206/206 [==============================] - 0s 2ms/step - loss: 0.2581\n",
      "Epoch 13/300\n",
      "206/206 [==============================] - 0s 2ms/step - loss: 0.2589\n",
      "Epoch 14/300\n",
      "206/206 [==============================] - 0s 2ms/step - loss: 0.2412\n",
      "Epoch 15/300\n",
      "206/206 [==============================] - 0s 2ms/step - loss: 0.2470\n",
      "Epoch 16/300\n",
      "206/206 [==============================] - 0s 2ms/step - loss: 0.2299\n",
      "Epoch 17/300\n",
      "206/206 [==============================] - 0s 2ms/step - loss: 0.2114\n",
      "Epoch 18/300\n",
      "206/206 [==============================] - 0s 2ms/step - loss: 0.1941\n",
      "Epoch 19/300\n",
      "206/206 [==============================] - 0s 1ms/step - loss: 0.2030\n",
      "Epoch 20/300\n",
      "206/206 [==============================] - 0s 1ms/step - loss: 0.2018\n",
      "Epoch 21/300\n",
      "206/206 [==============================] - 0s 1ms/step - loss: 0.1891\n",
      "Epoch 22/300\n",
      "206/206 [==============================] - 0s 2ms/step - loss: 0.1821\n",
      "Epoch 23/300\n",
      "206/206 [==============================] - 0s 1ms/step - loss: 0.1830\n",
      "Epoch 24/300\n",
      "206/206 [==============================] - 0s 1ms/step - loss: 0.1655\n",
      "Epoch 25/300\n",
      "206/206 [==============================] - 0s 2ms/step - loss: 0.1731\n",
      "Epoch 26/300\n",
      "206/206 [==============================] - 0s 2ms/step - loss: 0.1615\n",
      "Epoch 27/300\n",
      "206/206 [==============================] - 0s 2ms/step - loss: 0.1552\n",
      "Epoch 28/300\n",
      "206/206 [==============================] - 0s 2ms/step - loss: 0.1468\n",
      "Epoch 29/300\n",
      "206/206 [==============================] - 0s 2ms/step - loss: 0.1547\n",
      "Epoch 30/300\n",
      "206/206 [==============================] - 0s 2ms/step - loss: 0.1497\n",
      "Epoch 31/300\n",
      "206/206 [==============================] - 0s 2ms/step - loss: 0.1478\n",
      "Epoch 32/300\n",
      "206/206 [==============================] - 0s 2ms/step - loss: 0.1259\n",
      "Epoch 33/300\n",
      "206/206 [==============================] - 0s 2ms/step - loss: 0.1276\n",
      "Epoch 34/300\n",
      "206/206 [==============================] - 0s 2ms/step - loss: 0.1246\n",
      "Epoch 35/300\n",
      "206/206 [==============================] - 0s 2ms/step - loss: 0.1311\n",
      "Epoch 36/300\n",
      "206/206 [==============================] - 0s 2ms/step - loss: 0.1251\n",
      "Epoch 37/300\n",
      "206/206 [==============================] - 0s 2ms/step - loss: 0.1087\n",
      "Epoch 38/300\n",
      "206/206 [==============================] - 0s 2ms/step - loss: 0.1326\n",
      "Epoch 39/300\n",
      "206/206 [==============================] - 0s 2ms/step - loss: 0.1134\n",
      "Epoch 40/300\n",
      "206/206 [==============================] - 0s 2ms/step - loss: 0.1167\n",
      "Epoch 41/300\n",
      "206/206 [==============================] - 0s 1ms/step - loss: 0.1116\n",
      "Epoch 42/300\n",
      "206/206 [==============================] - 0s 1ms/step - loss: 0.1431\n",
      "Epoch 43/300\n",
      "206/206 [==============================] - 0s 1ms/step - loss: 0.0943\n",
      "Epoch 44/300\n",
      "206/206 [==============================] - 0s 1ms/step - loss: 0.1027\n",
      "Epoch 45/300\n",
      "206/206 [==============================] - 0s 1ms/step - loss: 0.1226\n",
      "Epoch 46/300\n",
      "206/206 [==============================] - 0s 2ms/step - loss: 0.1096\n",
      "Epoch 47/300\n",
      "206/206 [==============================] - 0s 1ms/step - loss: 0.1336\n",
      "Epoch 48/300\n",
      "206/206 [==============================] - 0s 1ms/step - loss: 0.1124\n",
      "Epoch 49/300\n",
      "206/206 [==============================] - 0s 1ms/step - loss: 0.0994\n",
      "Epoch 50/300\n",
      "206/206 [==============================] - 0s 1ms/step - loss: 0.0911\n",
      "Epoch 51/300\n",
      "206/206 [==============================] - 0s 2ms/step - loss: 0.0916\n",
      "Epoch 52/300\n",
      "206/206 [==============================] - 0s 1ms/step - loss: 0.0948\n",
      "Epoch 53/300\n",
      "206/206 [==============================] - 0s 1ms/step - loss: 0.0891\n",
      "Epoch 54/300\n",
      "206/206 [==============================] - 0s 2ms/step - loss: 0.0969\n",
      "Epoch 55/300\n",
      "206/206 [==============================] - 0s 1ms/step - loss: 0.0883\n",
      "Epoch 56/300\n",
      "206/206 [==============================] - 0s 1ms/step - loss: 0.0912\n",
      "Epoch 57/300\n",
      "206/206 [==============================] - 0s 927us/step - loss: 0.0860\n",
      "Epoch 58/300\n",
      "206/206 [==============================] - 0s 942us/step - loss: 0.0954\n",
      "Epoch 59/300\n",
      "206/206 [==============================] - 0s 880us/step - loss: 0.0971\n",
      "Epoch 60/300\n",
      "206/206 [==============================] - 0s 1ms/step - loss: 0.0971\n",
      "Epoch 61/300\n",
      "206/206 [==============================] - 0s 1ms/step - loss: 0.0786\n",
      "Epoch 62/300\n",
      "206/206 [==============================] - 0s 2ms/step - loss: 0.0882\n",
      "Epoch 63/300\n",
      "206/206 [==============================] - 0s 1ms/step - loss: 0.0821\n",
      "Epoch 64/300\n",
      "206/206 [==============================] - 0s 1ms/step - loss: 0.0822\n",
      "Epoch 65/300\n",
      "206/206 [==============================] - 0s 1ms/step - loss: 0.0951\n",
      "Epoch 66/300\n",
      "206/206 [==============================] - 0s 1ms/step - loss: 0.1003\n",
      "Epoch 67/300\n",
      "206/206 [==============================] - 0s 1ms/step - loss: 0.0794\n",
      "Epoch 68/300\n",
      "206/206 [==============================] - 0s 1ms/step - loss: 0.0798\n",
      "Epoch 69/300\n",
      "206/206 [==============================] - 0s 1ms/step - loss: 0.0730\n",
      "Epoch 70/300\n",
      "206/206 [==============================] - 0s 1ms/step - loss: 0.0659\n",
      "Epoch 71/300\n",
      "206/206 [==============================] - 0s 1ms/step - loss: 0.0881\n",
      "Epoch 72/300\n",
      "206/206 [==============================] - 0s 2ms/step - loss: 0.0817\n",
      "Epoch 73/300\n",
      "206/206 [==============================] - 0s 1ms/step - loss: 0.0992\n",
      "Epoch 74/300\n",
      "206/206 [==============================] - 0s 1ms/step - loss: 0.0791\n",
      "Epoch 75/300\n",
      "206/206 [==============================] - 0s 1ms/step - loss: 0.0829\n",
      "Epoch 76/300\n",
      "206/206 [==============================] - 0s 1ms/step - loss: 0.0718\n",
      "Epoch 77/300\n",
      "206/206 [==============================] - 0s 2ms/step - loss: 0.0689\n",
      "Epoch 78/300\n",
      "206/206 [==============================] - 0s 2ms/step - loss: 0.0693\n",
      "Epoch 79/300\n",
      "206/206 [==============================] - 0s 1ms/step - loss: 0.0717\n",
      "Epoch 80/300\n",
      "206/206 [==============================] - 0s 1ms/step - loss: 0.1004\n",
      "Epoch 81/300\n",
      "206/206 [==============================] - 0s 1ms/step - loss: 0.0703\n",
      "Epoch 82/300\n",
      "206/206 [==============================] - 0s 1ms/step - loss: 0.0661\n",
      "Epoch 83/300\n",
      "206/206 [==============================] - 0s 1ms/step - loss: 0.0803\n",
      "Epoch 84/300\n",
      "206/206 [==============================] - 0s 943us/step - loss: 0.0784\n",
      "Epoch 85/300\n",
      "206/206 [==============================] - 0s 891us/step - loss: 0.0755\n",
      "Epoch 86/300\n",
      "206/206 [==============================] - 0s 1ms/step - loss: 0.0821\n",
      "Epoch 87/300\n",
      "206/206 [==============================] - 0s 1ms/step - loss: 0.0706\n",
      "Epoch 88/300\n",
      "206/206 [==============================] - 0s 2ms/step - loss: 0.0648\n",
      "Epoch 89/300\n",
      "206/206 [==============================] - 0s 2ms/step - loss: 0.0738\n",
      "Epoch 90/300\n",
      "206/206 [==============================] - 0s 1ms/step - loss: 0.0607\n",
      "Epoch 91/300\n",
      "206/206 [==============================] - 0s 860us/step - loss: 0.0609\n",
      "Epoch 92/300\n",
      "206/206 [==============================] - 0s 1ms/step - loss: 0.0727\n",
      "Epoch 93/300\n",
      "206/206 [==============================] - 0s 1ms/step - loss: 0.0696\n",
      "Epoch 94/300\n",
      "206/206 [==============================] - 0s 2ms/step - loss: 0.0624\n",
      "Epoch 95/300\n",
      "206/206 [==============================] - 0s 1ms/step - loss: 0.0670\n",
      "Epoch 96/300\n",
      "206/206 [==============================] - 0s 1ms/step - loss: 0.0852\n",
      "Epoch 97/300\n",
      "206/206 [==============================] - 0s 2ms/step - loss: 0.0782\n",
      "Epoch 98/300\n",
      "206/206 [==============================] - 0s 2ms/step - loss: 0.0689\n",
      "Epoch 99/300\n"
     ]
    },
    {
     "name": "stdout",
     "output_type": "stream",
     "text": [
      "206/206 [==============================] - 0s 2ms/step - loss: 0.0664\n",
      "Epoch 100/300\n",
      "206/206 [==============================] - 0s 2ms/step - loss: 0.0739\n",
      "Epoch 101/300\n",
      "206/206 [==============================] - 0s 2ms/step - loss: 0.0591\n",
      "Epoch 102/300\n",
      "206/206 [==============================] - 0s 1ms/step - loss: 0.0694\n",
      "Epoch 103/300\n",
      "206/206 [==============================] - 0s 1ms/step - loss: 0.0802\n",
      "Epoch 104/300\n",
      "206/206 [==============================] - 0s 1ms/step - loss: 0.0712\n",
      "Epoch 105/300\n",
      "206/206 [==============================] - 0s 1ms/step - loss: 0.0643\n",
      "Epoch 106/300\n",
      "206/206 [==============================] - 0s 2ms/step - loss: 0.0640\n",
      "Epoch 107/300\n",
      "206/206 [==============================] - 0s 2ms/step - loss: 0.0652\n",
      "Epoch 108/300\n",
      "206/206 [==============================] - 0s 1ms/step - loss: 0.0657\n",
      "Epoch 109/300\n",
      "206/206 [==============================] - 0s 1ms/step - loss: 0.0842\n",
      "Epoch 110/300\n",
      "206/206 [==============================] - 0s 1ms/step - loss: 0.0656\n",
      "Epoch 111/300\n",
      "206/206 [==============================] - 0s 1ms/step - loss: 0.0733\n",
      "Epoch 112/300\n",
      "206/206 [==============================] - 0s 2ms/step - loss: 0.0644\n",
      "Epoch 113/300\n",
      "206/206 [==============================] - 0s 1ms/step - loss: 0.0659\n",
      "Epoch 114/300\n",
      "206/206 [==============================] - 0s 1ms/step - loss: 0.0550\n",
      "Epoch 115/300\n",
      "206/206 [==============================] - 0s 1ms/step - loss: 0.0560\n",
      "Epoch 116/300\n",
      "206/206 [==============================] - 0s 1ms/step - loss: 0.0861\n",
      "Epoch 117/300\n",
      "206/206 [==============================] - 0s 1ms/step - loss: 0.0542\n",
      "Epoch 118/300\n",
      "206/206 [==============================] - 0s 2ms/step - loss: 0.0511\n",
      "Epoch 119/300\n",
      "206/206 [==============================] - 0s 2ms/step - loss: 0.0599\n",
      "Epoch 120/300\n",
      "206/206 [==============================] - 0s 1ms/step - loss: 0.0821\n",
      "Epoch 121/300\n",
      "206/206 [==============================] - 0s 2ms/step - loss: 0.0621\n",
      "Epoch 122/300\n",
      "206/206 [==============================] - 0s 2ms/step - loss: 0.0635\n",
      "Epoch 123/300\n",
      "206/206 [==============================] - 0s 1ms/step - loss: 0.0639\n",
      "Epoch 124/300\n",
      "206/206 [==============================] - 0s 2ms/step - loss: 0.0565\n",
      "Epoch 125/300\n",
      "206/206 [==============================] - 0s 1ms/step - loss: 0.0549\n",
      "Epoch 126/300\n",
      "206/206 [==============================] - 0s 1ms/step - loss: 0.0575\n",
      "Epoch 127/300\n",
      "206/206 [==============================] - 0s 1ms/step - loss: 0.0723\n",
      "Epoch 128/300\n",
      "206/206 [==============================] - 0s 1ms/step - loss: 0.0652\n",
      "Epoch 129/300\n",
      "206/206 [==============================] - 0s 1ms/step - loss: 0.0512\n",
      "Epoch 130/300\n",
      "206/206 [==============================] - 0s 1ms/step - loss: 0.0537\n",
      "Epoch 131/300\n",
      "206/206 [==============================] - 0s 1ms/step - loss: 0.0548\n",
      "Epoch 132/300\n",
      "206/206 [==============================] - 0s 1ms/step - loss: 0.0510\n",
      "Epoch 133/300\n",
      "206/206 [==============================] - 0s 1ms/step - loss: 0.0546\n",
      "Epoch 134/300\n",
      "206/206 [==============================] - 0s 1ms/step - loss: 0.0510\n",
      "Epoch 135/300\n",
      "206/206 [==============================] - 0s 1ms/step - loss: 0.0742\n",
      "Epoch 136/300\n",
      "206/206 [==============================] - 0s 1ms/step - loss: 0.0458\n",
      "Epoch 137/300\n",
      "206/206 [==============================] - 0s 1ms/step - loss: 0.0633\n",
      "Epoch 138/300\n",
      "206/206 [==============================] - 0s 1ms/step - loss: 0.0594\n",
      "Epoch 139/300\n",
      "206/206 [==============================] - 0s 1ms/step - loss: 0.0564\n",
      "Epoch 140/300\n",
      "206/206 [==============================] - 0s 1ms/step - loss: 0.0566\n",
      "Epoch 141/300\n",
      "206/206 [==============================] - 0s 1ms/step - loss: 0.0482\n",
      "Epoch 142/300\n",
      "206/206 [==============================] - 0s 1ms/step - loss: 0.0678\n",
      "Epoch 143/300\n",
      "206/206 [==============================] - 0s 2ms/step - loss: 0.0662\n",
      "Epoch 144/300\n",
      "206/206 [==============================] - 0s 1ms/step - loss: 0.0517\n",
      "Epoch 145/300\n",
      "206/206 [==============================] - 0s 1ms/step - loss: 0.0430\n",
      "Epoch 146/300\n",
      "206/206 [==============================] - 0s 1ms/step - loss: 0.0553\n",
      "Epoch 147/300\n",
      "206/206 [==============================] - 0s 2ms/step - loss: 0.0802\n",
      "Epoch 148/300\n",
      "206/206 [==============================] - 0s 1ms/step - loss: 0.0475\n",
      "Epoch 149/300\n",
      "206/206 [==============================] - 0s 1ms/step - loss: 0.0533\n",
      "Epoch 150/300\n",
      "206/206 [==============================] - 0s 1ms/step - loss: 0.0565\n",
      "Epoch 151/300\n",
      "206/206 [==============================] - 0s 1ms/step - loss: 0.0488\n",
      "Epoch 152/300\n",
      "206/206 [==============================] - 0s 2ms/step - loss: 0.0585\n",
      "Epoch 153/300\n",
      "206/206 [==============================] - 0s 1ms/step - loss: 0.0461\n",
      "Epoch 154/300\n",
      "206/206 [==============================] - 0s 2ms/step - loss: 0.0488\n",
      "Epoch 155/300\n",
      "206/206 [==============================] - 0s 2ms/step - loss: 0.0549\n",
      "Epoch 156/300\n",
      "206/206 [==============================] - 0s 2ms/step - loss: 0.0536\n",
      "Epoch 157/300\n",
      "206/206 [==============================] - 0s 1ms/step - loss: 0.0567\n",
      "Epoch 158/300\n",
      "206/206 [==============================] - 0s 1ms/step - loss: 0.0668\n",
      "Epoch 159/300\n",
      "206/206 [==============================] - 0s 2ms/step - loss: 0.0653\n",
      "Epoch 160/300\n",
      "206/206 [==============================] - 0s 2ms/step - loss: 0.0545\n",
      "Epoch 161/300\n",
      "206/206 [==============================] - 0s 2ms/step - loss: 0.0497\n",
      "Epoch 162/300\n",
      "206/206 [==============================] - 0s 2ms/step - loss: 0.0523\n",
      "Epoch 163/300\n",
      "206/206 [==============================] - 0s 1ms/step - loss: 0.0479\n",
      "Epoch 164/300\n",
      "206/206 [==============================] - 0s 1ms/step - loss: 0.0464\n",
      "Epoch 165/300\n",
      "206/206 [==============================] - 0s 1ms/step - loss: 0.0368\n",
      "Epoch 166/300\n",
      "206/206 [==============================] - 0s 1ms/step - loss: 0.0504\n",
      "Epoch 167/300\n",
      "206/206 [==============================] - 0s 2ms/step - loss: 0.0701\n",
      "Epoch 168/300\n",
      "206/206 [==============================] - 0s 2ms/step - loss: 0.0541\n",
      "Epoch 169/300\n",
      "206/206 [==============================] - 0s 2ms/step - loss: 0.0511\n",
      "Epoch 170/300\n",
      "206/206 [==============================] - 0s 1ms/step - loss: 0.0445\n",
      "Epoch 171/300\n",
      "206/206 [==============================] - 0s 2ms/step - loss: 0.0393\n",
      "Epoch 172/300\n",
      "206/206 [==============================] - 0s 2ms/step - loss: 0.0445\n",
      "Epoch 173/300\n",
      "206/206 [==============================] - 0s 2ms/step - loss: 0.0429\n",
      "Epoch 174/300\n",
      "206/206 [==============================] - 0s 2ms/step - loss: 0.0433\n",
      "Epoch 175/300\n",
      "206/206 [==============================] - 0s 2ms/step - loss: 0.0524\n",
      "Epoch 176/300\n",
      "206/206 [==============================] - 0s 2ms/step - loss: 0.0413\n",
      "Epoch 177/300\n",
      "206/206 [==============================] - 0s 2ms/step - loss: 0.0465\n",
      "Epoch 178/300\n",
      "206/206 [==============================] - 0s 1ms/step - loss: 0.0507\n",
      "Epoch 179/300\n",
      "206/206 [==============================] - 0s 1ms/step - loss: 0.0546\n",
      "Epoch 180/300\n",
      "206/206 [==============================] - 0s 1ms/step - loss: 0.0513\n",
      "Epoch 181/300\n",
      "206/206 [==============================] - 0s 2ms/step - loss: 0.0537\n",
      "Epoch 182/300\n",
      "206/206 [==============================] - 0s 2ms/step - loss: 0.0456\n",
      "Epoch 183/300\n",
      "206/206 [==============================] - 0s 1ms/step - loss: 0.0494\n",
      "Epoch 184/300\n",
      "206/206 [==============================] - 0s 1ms/step - loss: 0.0465\n",
      "Epoch 185/300\n",
      "206/206 [==============================] - 0s 1ms/step - loss: 0.0399\n",
      "Epoch 186/300\n",
      "206/206 [==============================] - 0s 1ms/step - loss: 0.0556\n",
      "Epoch 187/300\n",
      "206/206 [==============================] - 0s 1ms/step - loss: 0.0429\n",
      "Epoch 188/300\n",
      "206/206 [==============================] - 0s 2ms/step - loss: 0.0794\n",
      "Epoch 189/300\n",
      "206/206 [==============================] - 0s 2ms/step - loss: 0.0604\n",
      "Epoch 190/300\n",
      "206/206 [==============================] - 0s 2ms/step - loss: 0.0467\n",
      "Epoch 191/300\n",
      "206/206 [==============================] - 0s 2ms/step - loss: 0.0397\n",
      "Epoch 192/300\n",
      "206/206 [==============================] - 0s 1ms/step - loss: 0.0494\n",
      "Epoch 193/300\n",
      "206/206 [==============================] - 0s 2ms/step - loss: 0.0497\n",
      "Epoch 194/300\n",
      "206/206 [==============================] - 0s 2ms/step - loss: 0.0366\n",
      "Epoch 195/300\n",
      "206/206 [==============================] - 0s 1ms/step - loss: 0.0378\n",
      "Epoch 196/300\n"
     ]
    },
    {
     "name": "stdout",
     "output_type": "stream",
     "text": [
      "206/206 [==============================] - 0s 1ms/step - loss: 0.0493\n",
      "Epoch 197/300\n",
      "206/206 [==============================] - 0s 2ms/step - loss: 0.0449\n",
      "Epoch 198/300\n",
      "206/206 [==============================] - 0s 2ms/step - loss: 0.0324\n",
      "Epoch 199/300\n",
      "206/206 [==============================] - 0s 1ms/step - loss: 0.0552\n",
      "Epoch 200/300\n",
      "206/206 [==============================] - 0s 2ms/step - loss: 0.0676\n",
      "Epoch 201/300\n",
      "206/206 [==============================] - 0s 2ms/step - loss: 0.0609\n",
      "Epoch 202/300\n",
      "206/206 [==============================] - 0s 1ms/step - loss: 0.0446\n",
      "Epoch 203/300\n",
      "206/206 [==============================] - 0s 874us/step - loss: 0.0358\n",
      "Epoch 204/300\n",
      "206/206 [==============================] - 0s 1ms/step - loss: 0.0438\n",
      "Epoch 205/300\n",
      "206/206 [==============================] - 0s 2ms/step - loss: 0.0471\n",
      "Epoch 206/300\n",
      "206/206 [==============================] - 0s 2ms/step - loss: 0.0360\n",
      "Epoch 207/300\n",
      "206/206 [==============================] - 0s 2ms/step - loss: 0.0325\n",
      "Epoch 208/300\n",
      "206/206 [==============================] - 0s 2ms/step - loss: 0.0664\n",
      "Epoch 209/300\n",
      "206/206 [==============================] - 0s 2ms/step - loss: 0.0518\n",
      "Epoch 210/300\n",
      "206/206 [==============================] - 0s 2ms/step - loss: 0.0454\n",
      "Epoch 211/300\n",
      "206/206 [==============================] - 0s 2ms/step - loss: 0.0416\n",
      "Epoch 212/300\n",
      "206/206 [==============================] - 0s 2ms/step - loss: 0.0450\n",
      "Epoch 213/300\n",
      "206/206 [==============================] - 0s 1ms/step - loss: 0.0398\n",
      "Epoch 214/300\n",
      "206/206 [==============================] - 0s 2ms/step - loss: 0.0362\n",
      "Epoch 215/300\n",
      "206/206 [==============================] - 0s 2ms/step - loss: 0.0405\n",
      "Epoch 216/300\n",
      "206/206 [==============================] - 0s 2ms/step - loss: 0.0364\n",
      "Epoch 217/300\n",
      "206/206 [==============================] - 0s 2ms/step - loss: 0.0422\n",
      "Epoch 218/300\n",
      "206/206 [==============================] - 0s 2ms/step - loss: 0.0704\n",
      "Epoch 219/300\n",
      "206/206 [==============================] - 0s 2ms/step - loss: 0.0579\n",
      "Epoch 220/300\n",
      "206/206 [==============================] - 0s 2ms/step - loss: 0.0445\n",
      "Epoch 221/300\n",
      "206/206 [==============================] - 0s 2ms/step - loss: 0.0413\n",
      "Epoch 222/300\n",
      "206/206 [==============================] - 0s 2ms/step - loss: 0.0351\n",
      "Epoch 223/300\n",
      "206/206 [==============================] - 0s 2ms/step - loss: 0.0416\n",
      "Epoch 224/300\n",
      "206/206 [==============================] - 0s 2ms/step - loss: 0.0334\n",
      "Epoch 225/300\n",
      "206/206 [==============================] - 0s 2ms/step - loss: 0.0343\n",
      "Epoch 226/300\n",
      "206/206 [==============================] - 0s 2ms/step - loss: 0.0463\n",
      "Epoch 227/300\n",
      "206/206 [==============================] - 0s 2ms/step - loss: 0.0591\n",
      "Epoch 228/300\n",
      "206/206 [==============================] - 0s 2ms/step - loss: 0.0357\n",
      "Epoch 229/300\n",
      "206/206 [==============================] - 0s 1ms/step - loss: 0.0463\n",
      "Epoch 230/300\n",
      "206/206 [==============================] - 0s 1ms/step - loss: 0.0372\n",
      "Epoch 231/300\n",
      "206/206 [==============================] - 0s 2ms/step - loss: 0.0445\n",
      "Epoch 232/300\n",
      "206/206 [==============================] - 0s 2ms/step - loss: 0.0443\n",
      "Epoch 233/300\n",
      "206/206 [==============================] - 0s 2ms/step - loss: 0.0436\n",
      "Epoch 234/300\n",
      "206/206 [==============================] - 0s 1ms/step - loss: 0.0367\n",
      "Epoch 235/300\n",
      "206/206 [==============================] - 0s 2ms/step - loss: 0.0409\n",
      "Epoch 236/300\n",
      "206/206 [==============================] - 0s 2ms/step - loss: 0.0403\n",
      "Epoch 237/300\n",
      "206/206 [==============================] - 0s 1ms/step - loss: 0.0559\n",
      "Epoch 238/300\n",
      "206/206 [==============================] - 0s 2ms/step - loss: 0.0525\n",
      "Epoch 239/300\n",
      "206/206 [==============================] - 0s 2ms/step - loss: 0.0400\n",
      "Epoch 240/300\n",
      "206/206 [==============================] - 0s 2ms/step - loss: 0.0319\n",
      "Epoch 241/300\n",
      "206/206 [==============================] - 0s 2ms/step - loss: 0.0479\n",
      "Epoch 242/300\n",
      "206/206 [==============================] - 0s 1ms/step - loss: 0.0500\n",
      "Epoch 243/300\n",
      "206/206 [==============================] - 0s 2ms/step - loss: 0.0401\n",
      "Epoch 244/300\n",
      "206/206 [==============================] - 0s 1ms/step - loss: 0.0381\n",
      "Epoch 245/300\n",
      "206/206 [==============================] - 0s 2ms/step - loss: 0.0305\n",
      "Epoch 246/300\n",
      "206/206 [==============================] - 0s 2ms/step - loss: 0.0403\n",
      "Epoch 247/300\n",
      "206/206 [==============================] - 0s 2ms/step - loss: 0.0503\n",
      "Epoch 248/300\n",
      "206/206 [==============================] - 0s 2ms/step - loss: 0.0425\n",
      "Epoch 249/300\n",
      "206/206 [==============================] - 0s 2ms/step - loss: 0.0486\n",
      "Epoch 250/300\n",
      "206/206 [==============================] - 0s 2ms/step - loss: 0.0513\n",
      "Epoch 251/300\n",
      "206/206 [==============================] - 0s 2ms/step - loss: 0.0307\n",
      "Epoch 252/300\n",
      "206/206 [==============================] - 0s 2ms/step - loss: 0.0305\n",
      "Epoch 253/300\n",
      "206/206 [==============================] - 0s 2ms/step - loss: 0.0443\n",
      "Epoch 254/300\n",
      "206/206 [==============================] - 0s 1ms/step - loss: 0.0377\n",
      "Epoch 255/300\n",
      "206/206 [==============================] - 0s 2ms/step - loss: 0.0535\n",
      "Epoch 256/300\n",
      "206/206 [==============================] - 0s 1ms/step - loss: 0.0385\n",
      "Epoch 257/300\n",
      "206/206 [==============================] - 0s 1ms/step - loss: 0.0362\n",
      "Epoch 258/300\n",
      "206/206 [==============================] - 0s 1ms/step - loss: 0.0338\n",
      "Epoch 259/300\n",
      "206/206 [==============================] - 0s 932us/step - loss: 0.0601\n",
      "Epoch 260/300\n",
      "206/206 [==============================] - 0s 844us/step - loss: 0.0548\n",
      "Epoch 261/300\n",
      "206/206 [==============================] - 0s 857us/step - loss: 0.0352\n",
      "Epoch 262/300\n",
      "206/206 [==============================] - 0s 1ms/step - loss: 0.0342\n",
      "Epoch 263/300\n",
      "206/206 [==============================] - 0s 2ms/step - loss: 0.0358\n",
      "Epoch 264/300\n",
      "206/206 [==============================] - 0s 1ms/step - loss: 0.0441\n",
      "Epoch 265/300\n",
      "206/206 [==============================] - 0s 923us/step - loss: 0.0435\n",
      "Epoch 266/300\n",
      "206/206 [==============================] - 0s 1ms/step - loss: 0.0311\n",
      "Epoch 267/300\n",
      "206/206 [==============================] - 0s 2ms/step - loss: 0.0417\n",
      "Epoch 268/300\n",
      "206/206 [==============================] - 0s 1ms/step - loss: 0.0425\n",
      "Epoch 269/300\n",
      "206/206 [==============================] - 0s 1ms/step - loss: 0.0375\n",
      "Epoch 270/300\n",
      "206/206 [==============================] - 0s 2ms/step - loss: 0.0454\n",
      "Epoch 271/300\n",
      "206/206 [==============================] - 0s 2ms/step - loss: 0.0336\n",
      "Epoch 272/300\n",
      "206/206 [==============================] - 0s 1ms/step - loss: 0.0771\n",
      "Epoch 273/300\n",
      "206/206 [==============================] - 0s 1ms/step - loss: 0.0473\n",
      "Epoch 274/300\n",
      "206/206 [==============================] - 0s 2ms/step - loss: 0.0316\n",
      "Epoch 275/300\n",
      "206/206 [==============================] - 0s 2ms/step - loss: 0.0241\n",
      "Epoch 276/300\n",
      "206/206 [==============================] - 0s 1ms/step - loss: 0.0270\n",
      "Epoch 277/300\n",
      "206/206 [==============================] - 0s 2ms/step - loss: 0.0386\n",
      "Epoch 278/300\n",
      "206/206 [==============================] - 0s 1ms/step - loss: 0.0433\n",
      "Epoch 279/300\n",
      "206/206 [==============================] - 0s 1ms/step - loss: 0.0421\n",
      "Epoch 280/300\n",
      "206/206 [==============================] - 0s 2ms/step - loss: 0.0579\n",
      "Epoch 281/300\n",
      "206/206 [==============================] - 0s 2ms/step - loss: 0.0411\n",
      "Epoch 282/300\n",
      "206/206 [==============================] - 0s 2ms/step - loss: 0.0369\n",
      "Epoch 283/300\n",
      "206/206 [==============================] - 0s 1ms/step - loss: 0.0322\n",
      "Epoch 284/300\n",
      "206/206 [==============================] - 0s 1ms/step - loss: 0.0278\n",
      "Epoch 285/300\n",
      "206/206 [==============================] - 0s 2ms/step - loss: 0.0353\n",
      "Epoch 286/300\n",
      "206/206 [==============================] - 0s 2ms/step - loss: 0.0421\n",
      "Epoch 287/300\n",
      "206/206 [==============================] - 0s 2ms/step - loss: 0.0492\n",
      "Epoch 288/300\n",
      "206/206 [==============================] - 0s 2ms/step - loss: 0.0384\n",
      "Epoch 289/300\n",
      "206/206 [==============================] - 0s 1ms/step - loss: 0.0420\n",
      "Epoch 290/300\n",
      "206/206 [==============================] - 0s 1ms/step - loss: 0.0443\n",
      "Epoch 291/300\n",
      "206/206 [==============================] - 0s 1ms/step - loss: 0.0540\n",
      "Epoch 292/300\n",
      "206/206 [==============================] - 0s 2ms/step - loss: 0.0390\n",
      "Epoch 293/300\n"
     ]
    },
    {
     "name": "stdout",
     "output_type": "stream",
     "text": [
      "206/206 [==============================] - 0s 2ms/step - loss: 0.0308\n",
      "Epoch 294/300\n",
      "206/206 [==============================] - 0s 2ms/step - loss: 0.0338\n",
      "Epoch 295/300\n",
      "206/206 [==============================] - 0s 2ms/step - loss: 0.0469\n",
      "Epoch 296/300\n",
      "206/206 [==============================] - 0s 2ms/step - loss: 0.0326\n",
      "Epoch 297/300\n",
      "206/206 [==============================] - 0s 1ms/step - loss: 0.0387\n",
      "Epoch 298/300\n",
      "206/206 [==============================] - 0s 2ms/step - loss: 0.0378\n",
      "Epoch 299/300\n",
      "206/206 [==============================] - 0s 2ms/step - loss: 0.0457\n",
      "Epoch 300/300\n",
      "206/206 [==============================] - 0s 2ms/step - loss: 0.0645\n"
     ]
    },
    {
     "data": {
      "text/plain": [
       "<keras.callbacks.History at 0x29d1e1742e0>"
      ]
     },
     "execution_count": 213,
     "metadata": {},
     "output_type": "execute_result"
    }
   ],
   "source": [
    "net.fit(X_train,y_train,epochs=300)"
   ]
  },
  {
   "cell_type": "code",
   "execution_count": 178,
   "id": "32256c29",
   "metadata": {},
   "outputs": [
    {
     "name": "stdout",
     "output_type": "stream",
     "text": [
      "89/89 [==============================] - 0s 1ms/step\n"
     ]
    }
   ],
   "source": [
    "y_pred= np.asarray(net.predict(X_test))"
   ]
  },
  {
   "cell_type": "code",
   "execution_count": 179,
   "id": "c508f299",
   "metadata": {},
   "outputs": [
    {
     "data": {
      "text/plain": [
       "1499"
      ]
     },
     "execution_count": 179,
     "metadata": {},
     "output_type": "execute_result"
    }
   ],
   "source": [
    "len(y_pred[y_pred>0.5])"
   ]
  },
  {
   "cell_type": "code",
   "execution_count": 180,
   "id": "d6a10866",
   "metadata": {},
   "outputs": [],
   "source": [
    "y_pred = np.asarray([0 if v < 0.5 else 1 for v in y_pred])"
   ]
  },
  {
   "cell_type": "code",
   "execution_count": 181,
   "id": "14dc7054",
   "metadata": {},
   "outputs": [
    {
     "data": {
      "text/plain": [
       "1499"
      ]
     },
     "execution_count": 181,
     "metadata": {},
     "output_type": "execute_result"
    }
   ],
   "source": [
    "len(y_pred[y_pred==1])"
   ]
  },
  {
   "cell_type": "code",
   "execution_count": 182,
   "id": "7608adbb",
   "metadata": {},
   "outputs": [
    {
     "name": "stdout",
     "output_type": "stream",
     "text": [
      "[[1315   94]\n",
      " [   9 1405]]\n",
      "              precision    recall  f1-score   support\n",
      "\n",
      "         0.0       0.99      0.93      0.96      1409\n",
      "         1.0       0.94      0.99      0.96      1414\n",
      "\n",
      "    accuracy                           0.96      2823\n",
      "   macro avg       0.97      0.96      0.96      2823\n",
      "weighted avg       0.97      0.96      0.96      2823\n",
      "\n"
     ]
    }
   ],
   "source": [
    "print(confusion_matrix(**{'y_true':y_test,'y_pred':y_pred}))\n",
    "print(classification_report(**{'y_true':y_test,'y_pred':y_pred}))"
   ]
  },
  {
   "cell_type": "code",
   "execution_count": null,
   "id": "8475e69e",
   "metadata": {},
   "outputs": [],
   "source": []
  }
 ],
 "metadata": {
  "kernelspec": {
   "display_name": "Python 3 (ipykernel)",
   "language": "python",
   "name": "python3"
  },
  "language_info": {
   "codemirror_mode": {
    "name": "ipython",
    "version": 3
   },
   "file_extension": ".py",
   "mimetype": "text/x-python",
   "name": "python",
   "nbconvert_exporter": "python",
   "pygments_lexer": "ipython3",
   "version": "3.9.12"
  }
 },
 "nbformat": 4,
 "nbformat_minor": 5
}
