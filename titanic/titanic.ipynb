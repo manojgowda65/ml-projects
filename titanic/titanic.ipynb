{
 "cells": [
  {
   "cell_type": "code",
   "execution_count": 1685,
   "id": "231828d9",
   "metadata": {},
   "outputs": [],
   "source": [
    "import pandas as pd\n",
    "import numpy as np"
   ]
  },
  {
   "cell_type": "code",
   "execution_count": 1686,
   "id": "58a80f6c",
   "metadata": {},
   "outputs": [],
   "source": [
    "df = pd.read_csv('train.csv')\n",
    "df_t = pd.read_csv('test.csv')"
   ]
  },
  {
   "cell_type": "code",
   "execution_count": 1687,
   "id": "20bdbae7",
   "metadata": {},
   "outputs": [],
   "source": [
    "results=pd.DataFrame()\n",
    "results[\"PassengerId\"]=df_t[\"PassengerId\"]"
   ]
  },
  {
   "cell_type": "code",
   "execution_count": 1688,
   "id": "85a8303d",
   "metadata": {},
   "outputs": [
    {
     "data": {
      "text/html": [
       "<div>\n",
       "<style scoped>\n",
       "    .dataframe tbody tr th:only-of-type {\n",
       "        vertical-align: middle;\n",
       "    }\n",
       "\n",
       "    .dataframe tbody tr th {\n",
       "        vertical-align: top;\n",
       "    }\n",
       "\n",
       "    .dataframe thead th {\n",
       "        text-align: right;\n",
       "    }\n",
       "</style>\n",
       "<table border=\"1\" class=\"dataframe\">\n",
       "  <thead>\n",
       "    <tr style=\"text-align: right;\">\n",
       "      <th></th>\n",
       "      <th>PassengerId</th>\n",
       "    </tr>\n",
       "  </thead>\n",
       "  <tbody>\n",
       "    <tr>\n",
       "      <th>0</th>\n",
       "      <td>892</td>\n",
       "    </tr>\n",
       "    <tr>\n",
       "      <th>1</th>\n",
       "      <td>893</td>\n",
       "    </tr>\n",
       "    <tr>\n",
       "      <th>2</th>\n",
       "      <td>894</td>\n",
       "    </tr>\n",
       "    <tr>\n",
       "      <th>3</th>\n",
       "      <td>895</td>\n",
       "    </tr>\n",
       "    <tr>\n",
       "      <th>4</th>\n",
       "      <td>896</td>\n",
       "    </tr>\n",
       "  </tbody>\n",
       "</table>\n",
       "</div>"
      ],
      "text/plain": [
       "   PassengerId\n",
       "0          892\n",
       "1          893\n",
       "2          894\n",
       "3          895\n",
       "4          896"
      ]
     },
     "execution_count": 1688,
     "metadata": {},
     "output_type": "execute_result"
    }
   ],
   "source": [
    "results.head()"
   ]
  },
  {
   "cell_type": "code",
   "execution_count": 1689,
   "id": "04478628",
   "metadata": {},
   "outputs": [
    {
     "data": {
      "text/plain": [
       "((891, 12), (418, 11))"
      ]
     },
     "execution_count": 1689,
     "metadata": {},
     "output_type": "execute_result"
    }
   ],
   "source": [
    "df.shape,df_t.shape"
   ]
  },
  {
   "cell_type": "code",
   "execution_count": 1690,
   "id": "6f0f01a6",
   "metadata": {},
   "outputs": [
    {
     "data": {
      "text/html": [
       "<div>\n",
       "<style scoped>\n",
       "    .dataframe tbody tr th:only-of-type {\n",
       "        vertical-align: middle;\n",
       "    }\n",
       "\n",
       "    .dataframe tbody tr th {\n",
       "        vertical-align: top;\n",
       "    }\n",
       "\n",
       "    .dataframe thead th {\n",
       "        text-align: right;\n",
       "    }\n",
       "</style>\n",
       "<table border=\"1\" class=\"dataframe\">\n",
       "  <thead>\n",
       "    <tr style=\"text-align: right;\">\n",
       "      <th></th>\n",
       "      <th>PassengerId</th>\n",
       "      <th>Survived</th>\n",
       "      <th>Pclass</th>\n",
       "      <th>Name</th>\n",
       "      <th>Sex</th>\n",
       "      <th>Age</th>\n",
       "      <th>SibSp</th>\n",
       "      <th>Parch</th>\n",
       "      <th>Ticket</th>\n",
       "      <th>Fare</th>\n",
       "      <th>Cabin</th>\n",
       "      <th>Embarked</th>\n",
       "    </tr>\n",
       "  </thead>\n",
       "  <tbody>\n",
       "    <tr>\n",
       "      <th>0</th>\n",
       "      <td>1</td>\n",
       "      <td>0</td>\n",
       "      <td>3</td>\n",
       "      <td>Braund, Mr. Owen Harris</td>\n",
       "      <td>male</td>\n",
       "      <td>22.0</td>\n",
       "      <td>1</td>\n",
       "      <td>0</td>\n",
       "      <td>A/5 21171</td>\n",
       "      <td>7.2500</td>\n",
       "      <td>NaN</td>\n",
       "      <td>S</td>\n",
       "    </tr>\n",
       "    <tr>\n",
       "      <th>1</th>\n",
       "      <td>2</td>\n",
       "      <td>1</td>\n",
       "      <td>1</td>\n",
       "      <td>Cumings, Mrs. John Bradley (Florence Briggs Th...</td>\n",
       "      <td>female</td>\n",
       "      <td>38.0</td>\n",
       "      <td>1</td>\n",
       "      <td>0</td>\n",
       "      <td>PC 17599</td>\n",
       "      <td>71.2833</td>\n",
       "      <td>C85</td>\n",
       "      <td>C</td>\n",
       "    </tr>\n",
       "    <tr>\n",
       "      <th>2</th>\n",
       "      <td>3</td>\n",
       "      <td>1</td>\n",
       "      <td>3</td>\n",
       "      <td>Heikkinen, Miss. Laina</td>\n",
       "      <td>female</td>\n",
       "      <td>26.0</td>\n",
       "      <td>0</td>\n",
       "      <td>0</td>\n",
       "      <td>STON/O2. 3101282</td>\n",
       "      <td>7.9250</td>\n",
       "      <td>NaN</td>\n",
       "      <td>S</td>\n",
       "    </tr>\n",
       "    <tr>\n",
       "      <th>3</th>\n",
       "      <td>4</td>\n",
       "      <td>1</td>\n",
       "      <td>1</td>\n",
       "      <td>Futrelle, Mrs. Jacques Heath (Lily May Peel)</td>\n",
       "      <td>female</td>\n",
       "      <td>35.0</td>\n",
       "      <td>1</td>\n",
       "      <td>0</td>\n",
       "      <td>113803</td>\n",
       "      <td>53.1000</td>\n",
       "      <td>C123</td>\n",
       "      <td>S</td>\n",
       "    </tr>\n",
       "    <tr>\n",
       "      <th>4</th>\n",
       "      <td>5</td>\n",
       "      <td>0</td>\n",
       "      <td>3</td>\n",
       "      <td>Allen, Mr. William Henry</td>\n",
       "      <td>male</td>\n",
       "      <td>35.0</td>\n",
       "      <td>0</td>\n",
       "      <td>0</td>\n",
       "      <td>373450</td>\n",
       "      <td>8.0500</td>\n",
       "      <td>NaN</td>\n",
       "      <td>S</td>\n",
       "    </tr>\n",
       "  </tbody>\n",
       "</table>\n",
       "</div>"
      ],
      "text/plain": [
       "   PassengerId  Survived  Pclass  \\\n",
       "0            1         0       3   \n",
       "1            2         1       1   \n",
       "2            3         1       3   \n",
       "3            4         1       1   \n",
       "4            5         0       3   \n",
       "\n",
       "                                                Name     Sex   Age  SibSp  \\\n",
       "0                            Braund, Mr. Owen Harris    male  22.0      1   \n",
       "1  Cumings, Mrs. John Bradley (Florence Briggs Th...  female  38.0      1   \n",
       "2                             Heikkinen, Miss. Laina  female  26.0      0   \n",
       "3       Futrelle, Mrs. Jacques Heath (Lily May Peel)  female  35.0      1   \n",
       "4                           Allen, Mr. William Henry    male  35.0      0   \n",
       "\n",
       "   Parch            Ticket     Fare Cabin Embarked  \n",
       "0      0         A/5 21171   7.2500   NaN        S  \n",
       "1      0          PC 17599  71.2833   C85        C  \n",
       "2      0  STON/O2. 3101282   7.9250   NaN        S  \n",
       "3      0            113803  53.1000  C123        S  \n",
       "4      0            373450   8.0500   NaN        S  "
      ]
     },
     "execution_count": 1690,
     "metadata": {},
     "output_type": "execute_result"
    }
   ],
   "source": [
    "df.head()"
   ]
  },
  {
   "cell_type": "code",
   "execution_count": 1691,
   "id": "d6c8f90e",
   "metadata": {},
   "outputs": [
    {
     "data": {
      "text/html": [
       "<div>\n",
       "<style scoped>\n",
       "    .dataframe tbody tr th:only-of-type {\n",
       "        vertical-align: middle;\n",
       "    }\n",
       "\n",
       "    .dataframe tbody tr th {\n",
       "        vertical-align: top;\n",
       "    }\n",
       "\n",
       "    .dataframe thead th {\n",
       "        text-align: right;\n",
       "    }\n",
       "</style>\n",
       "<table border=\"1\" class=\"dataframe\">\n",
       "  <thead>\n",
       "    <tr style=\"text-align: right;\">\n",
       "      <th></th>\n",
       "      <th>PassengerId</th>\n",
       "      <th>Survived</th>\n",
       "      <th>Pclass</th>\n",
       "      <th>Age</th>\n",
       "      <th>SibSp</th>\n",
       "      <th>Parch</th>\n",
       "      <th>Fare</th>\n",
       "    </tr>\n",
       "  </thead>\n",
       "  <tbody>\n",
       "    <tr>\n",
       "      <th>count</th>\n",
       "      <td>891.000000</td>\n",
       "      <td>891.000000</td>\n",
       "      <td>891.000000</td>\n",
       "      <td>714.000000</td>\n",
       "      <td>891.000000</td>\n",
       "      <td>891.000000</td>\n",
       "      <td>891.000000</td>\n",
       "    </tr>\n",
       "    <tr>\n",
       "      <th>mean</th>\n",
       "      <td>446.000000</td>\n",
       "      <td>0.383838</td>\n",
       "      <td>2.308642</td>\n",
       "      <td>29.699118</td>\n",
       "      <td>0.523008</td>\n",
       "      <td>0.381594</td>\n",
       "      <td>32.204208</td>\n",
       "    </tr>\n",
       "    <tr>\n",
       "      <th>std</th>\n",
       "      <td>257.353842</td>\n",
       "      <td>0.486592</td>\n",
       "      <td>0.836071</td>\n",
       "      <td>14.526497</td>\n",
       "      <td>1.102743</td>\n",
       "      <td>0.806057</td>\n",
       "      <td>49.693429</td>\n",
       "    </tr>\n",
       "    <tr>\n",
       "      <th>min</th>\n",
       "      <td>1.000000</td>\n",
       "      <td>0.000000</td>\n",
       "      <td>1.000000</td>\n",
       "      <td>0.420000</td>\n",
       "      <td>0.000000</td>\n",
       "      <td>0.000000</td>\n",
       "      <td>0.000000</td>\n",
       "    </tr>\n",
       "    <tr>\n",
       "      <th>25%</th>\n",
       "      <td>223.500000</td>\n",
       "      <td>0.000000</td>\n",
       "      <td>2.000000</td>\n",
       "      <td>20.125000</td>\n",
       "      <td>0.000000</td>\n",
       "      <td>0.000000</td>\n",
       "      <td>7.910400</td>\n",
       "    </tr>\n",
       "    <tr>\n",
       "      <th>50%</th>\n",
       "      <td>446.000000</td>\n",
       "      <td>0.000000</td>\n",
       "      <td>3.000000</td>\n",
       "      <td>28.000000</td>\n",
       "      <td>0.000000</td>\n",
       "      <td>0.000000</td>\n",
       "      <td>14.454200</td>\n",
       "    </tr>\n",
       "    <tr>\n",
       "      <th>75%</th>\n",
       "      <td>668.500000</td>\n",
       "      <td>1.000000</td>\n",
       "      <td>3.000000</td>\n",
       "      <td>38.000000</td>\n",
       "      <td>1.000000</td>\n",
       "      <td>0.000000</td>\n",
       "      <td>31.000000</td>\n",
       "    </tr>\n",
       "    <tr>\n",
       "      <th>max</th>\n",
       "      <td>891.000000</td>\n",
       "      <td>1.000000</td>\n",
       "      <td>3.000000</td>\n",
       "      <td>80.000000</td>\n",
       "      <td>8.000000</td>\n",
       "      <td>6.000000</td>\n",
       "      <td>512.329200</td>\n",
       "    </tr>\n",
       "  </tbody>\n",
       "</table>\n",
       "</div>"
      ],
      "text/plain": [
       "       PassengerId    Survived      Pclass         Age       SibSp  \\\n",
       "count   891.000000  891.000000  891.000000  714.000000  891.000000   \n",
       "mean    446.000000    0.383838    2.308642   29.699118    0.523008   \n",
       "std     257.353842    0.486592    0.836071   14.526497    1.102743   \n",
       "min       1.000000    0.000000    1.000000    0.420000    0.000000   \n",
       "25%     223.500000    0.000000    2.000000   20.125000    0.000000   \n",
       "50%     446.000000    0.000000    3.000000   28.000000    0.000000   \n",
       "75%     668.500000    1.000000    3.000000   38.000000    1.000000   \n",
       "max     891.000000    1.000000    3.000000   80.000000    8.000000   \n",
       "\n",
       "            Parch        Fare  \n",
       "count  891.000000  891.000000  \n",
       "mean     0.381594   32.204208  \n",
       "std      0.806057   49.693429  \n",
       "min      0.000000    0.000000  \n",
       "25%      0.000000    7.910400  \n",
       "50%      0.000000   14.454200  \n",
       "75%      0.000000   31.000000  \n",
       "max      6.000000  512.329200  "
      ]
     },
     "execution_count": 1691,
     "metadata": {},
     "output_type": "execute_result"
    }
   ],
   "source": [
    "df.describe()"
   ]
  },
  {
   "cell_type": "code",
   "execution_count": 1692,
   "id": "5b93ebbc",
   "metadata": {},
   "outputs": [
    {
     "data": {
      "text/plain": [
       "PassengerId      0\n",
       "Survived         0\n",
       "Pclass           0\n",
       "Name             0\n",
       "Sex              0\n",
       "Age            177\n",
       "SibSp            0\n",
       "Parch            0\n",
       "Ticket           0\n",
       "Fare             0\n",
       "Cabin          687\n",
       "Embarked         2\n",
       "dtype: int64"
      ]
     },
     "execution_count": 1692,
     "metadata": {},
     "output_type": "execute_result"
    }
   ],
   "source": [
    "df.isna().sum()"
   ]
  },
  {
   "cell_type": "code",
   "execution_count": 1693,
   "id": "5f87fe18",
   "metadata": {},
   "outputs": [],
   "source": [
    "def get_deck(d_):\n",
    "    print(d_.Cabin.unique())\n",
    "    deck=[]\n",
    "    d_.Cabin.fillna('Z',inplace=True)\n",
    "    all_cabins = d_.Cabin\n",
    "    for i in range(len(all_cabins)):\n",
    "        deck.append(all_cabins[i][0])\n",
    "    return deck"
   ]
  },
  {
   "cell_type": "code",
   "execution_count": 1694,
   "id": "b5a7fc1e",
   "metadata": {},
   "outputs": [],
   "source": [
    "decks = {\n",
    "    \"A\":0,\n",
    "    \"B\":1,\n",
    "    \"C\":2,\n",
    "    \"D\":3,\n",
    "    \"E\":4,\n",
    "    \"F\":5,\n",
    "    \"G\":6,\n",
    "    \"Z\":7,\n",
    "}"
   ]
  },
  {
   "cell_type": "code",
   "execution_count": 1695,
   "id": "735e9d39",
   "metadata": {},
   "outputs": [
    {
     "name": "stdout",
     "output_type": "stream",
     "text": [
      "[nan 'C85' 'C123' 'E46' 'G6' 'C103' 'D56' 'A6' 'C23 C25 C27' 'B78' 'D33'\n",
      " 'B30' 'C52' 'B28' 'C83' 'F33' 'F G73' 'E31' 'A5' 'D10 D12' 'D26' 'C110'\n",
      " 'B58 B60' 'E101' 'F E69' 'D47' 'B86' 'F2' 'C2' 'E33' 'B19' 'A7' 'C49'\n",
      " 'F4' 'A32' 'B4' 'B80' 'A31' 'D36' 'D15' 'C93' 'C78' 'D35' 'C87' 'B77'\n",
      " 'E67' 'B94' 'C125' 'C99' 'C118' 'D7' 'A19' 'B49' 'D' 'C22 C26' 'C106'\n",
      " 'C65' 'E36' 'C54' 'B57 B59 B63 B66' 'C7' 'E34' 'C32' 'B18' 'C124' 'C91'\n",
      " 'E40' 'T' 'C128' 'D37' 'B35' 'E50' 'C82' 'B96 B98' 'E10' 'E44' 'A34'\n",
      " 'C104' 'C111' 'C92' 'E38' 'D21' 'E12' 'E63' 'A14' 'B37' 'C30' 'D20' 'B79'\n",
      " 'E25' 'D46' 'B73' 'C95' 'B38' 'B39' 'B22' 'C86' 'C70' 'A16' 'C101' 'C68'\n",
      " 'A10' 'E68' 'B41' 'A20' 'D19' 'D50' 'D9' 'A23' 'B50' 'A26' 'D48' 'E58'\n",
      " 'C126' 'B71' 'B51 B53 B55' 'D49' 'B5' 'B20' 'F G63' 'C62 C64' 'E24' 'C90'\n",
      " 'C45' 'E8' 'B101' 'D45' 'C46' 'D30' 'E121' 'D11' 'E77' 'F38' 'B3' 'D6'\n",
      " 'B82 B84' 'D17' 'A36' 'B102' 'B69' 'E49' 'C47' 'D28' 'E17' 'A24' 'C50'\n",
      " 'B42' 'C148']\n",
      "[nan 'B45' 'E31' 'B57 B59 B63 B66' 'B36' 'A21' 'C78' 'D34' 'D19' 'A9'\n",
      " 'D15' 'C31' 'C23 C25 C27' 'F G63' 'B61' 'C53' 'D43' 'C130' 'C132' 'C101'\n",
      " 'C55 C57' 'B71' 'C46' 'C116' 'F' 'A29' 'G6' 'C6' 'C28' 'C51' 'E46' 'C54'\n",
      " 'C97' 'D22' 'B10' 'F4' 'E45' 'E52' 'D30' 'B58 B60' 'E34' 'C62 C64' 'A11'\n",
      " 'B11' 'C80' 'F33' 'C85' 'D37' 'C86' 'D21' 'C89' 'F E46' 'A34' 'D' 'B26'\n",
      " 'C22 C26' 'B69' 'C32' 'B78' 'F E57' 'F2' 'A18' 'C106' 'B51 B53 B55'\n",
      " 'D10 D12' 'E60' 'E50' 'E39 E41' 'B52 B54 B56' 'C39' 'B24' 'D28' 'B41'\n",
      " 'C7' 'D40' 'D38' 'C105']\n"
     ]
    }
   ],
   "source": [
    "for d in [df,df_t]:\n",
    "    d[\"Deck\"]=get_deck(d)\n",
    "    d.Deck.fillna('Z',inplace=True)  \n",
    "    d.Deck=d.Deck.map(decks)\n"
   ]
  },
  {
   "cell_type": "code",
   "execution_count": 1696,
   "id": "47d28879",
   "metadata": {},
   "outputs": [
    {
     "data": {
      "text/plain": [
       "7    327\n",
       "2     35\n",
       "1     18\n",
       "3     13\n",
       "4      9\n",
       "5      8\n",
       "0      7\n",
       "6      1\n",
       "Name: Deck, dtype: int64"
      ]
     },
     "execution_count": 1696,
     "metadata": {},
     "output_type": "execute_result"
    }
   ],
   "source": [
    "d.Deck.value_counts()"
   ]
  },
  {
   "cell_type": "code",
   "execution_count": 1697,
   "id": "cb0657e5",
   "metadata": {},
   "outputs": [],
   "source": [
    "for d_ in [df,df_t]:\n",
    "    d_.drop([\"PassengerId\",\"Ticket\",\"Fare\",\"Cabin\"],axis=1,inplace=True)    "
   ]
  },
  {
   "cell_type": "code",
   "execution_count": 1698,
   "id": "b2932251",
   "metadata": {},
   "outputs": [],
   "source": [
    "title={\n",
    "    \"Mr\":0,\n",
    "    \"Miss\":1,\n",
    "    \"Mrs\":2,\n",
    "    \"Rare\":3,\n",
    "}"
   ]
  },
  {
   "cell_type": "code",
   "execution_count": 1699,
   "id": "ff776059",
   "metadata": {},
   "outputs": [],
   "source": [
    "##extract title from name\n",
    "for d_ in [df,df_t]:\n",
    "    d_[\"Title\"] = d_.Name.str.extract(' ([A-Za-z]+)\\.',expand=True)\n",
    "    d_.Title=d_[\"Title\"].replace([\"Jonkheer\",\"Don\",\"Capt\",\"Countess\",\"Col\",\"Major\",\"Rev\",\"Dr\",\"Lady\",\"Dona\"],'Rare')\n",
    "    d_.Title=d_[\"Title\"].replace([\"Mlle\",\"Ms\"],'Miss')    \n",
    "    d_.Title=d_[\"Title\"].replace([\"Mme\"],'Mrs')    \n",
    "    d_.Title=d_[\"Title\"].replace([\"Sir\",\"Master\"],'Mr') \n",
    "    d_.drop([\"Name\"],inplace=True,axis=1)\n",
    "    #d_.Title=d_.Title.map(title)\n",
    "    d_.Title.fillna('Rare',inplace=True)"
   ]
  },
  {
   "cell_type": "code",
   "execution_count": 1700,
   "id": "034227f1",
   "metadata": {},
   "outputs": [
    {
     "data": {
      "text/plain": [
       "Mr      558\n",
       "Miss    185\n",
       "Mrs     126\n",
       "Rare     22\n",
       "Name: Title, dtype: int64"
      ]
     },
     "execution_count": 1700,
     "metadata": {},
     "output_type": "execute_result"
    }
   ],
   "source": [
    "df.Title.value_counts()"
   ]
  },
  {
   "cell_type": "code",
   "execution_count": null,
   "id": "8a20df83",
   "metadata": {},
   "outputs": [],
   "source": [
    "\n"
   ]
  },
  {
   "cell_type": "code",
   "execution_count": 1701,
   "id": "67ca4799",
   "metadata": {},
   "outputs": [],
   "source": [
    "df.Deck.fillna(7.0,inplace=True)\n",
    "df_t.Deck.fillna(7.0,inplace=True)"
   ]
  },
  {
   "cell_type": "code",
   "execution_count": 1702,
   "id": "0dbada8f",
   "metadata": {},
   "outputs": [],
   "source": [
    "import seaborn as sns\n",
    "import matplotlib.pyplot as plt"
   ]
  },
  {
   "cell_type": "code",
   "execution_count": 1703,
   "id": "c7678c89",
   "metadata": {},
   "outputs": [
    {
     "data": {
      "text/plain": [
       "<seaborn.axisgrid.FacetGrid at 0x17696aff280>"
      ]
     },
     "execution_count": 1703,
     "metadata": {},
     "output_type": "execute_result"
    },
    {
     "data": {
      "image/png": "[encoded data removed]",
      "text/plain": [
       "<Figure size 360x360 with 1 Axes>"
      ]
     },
     "metadata": {
      "needs_background": "light"
     },
     "output_type": "display_data"
    }
   ],
   "source": [
    "#sns.pairplot(df)\n",
    "sns.displot(df[\"Age\"],kde=True,color=\"g\")"
   ]
  },
  {
   "cell_type": "code",
   "execution_count": 1704,
   "id": "b105af0e",
   "metadata": {},
   "outputs": [],
   "source": [
    "#data distribution doesn't look normal and its right skewed, to fill missing values considering median for now\n",
    "#TODO:later during model optimization, will try other options for this missing data\n",
    "#one option to try out is, to look for parent children column and sibling columns to may be build a model that predicts age based\n",
    "#on number of siblings and parent children columns\n",
    "for d in [df,df_t]:\n",
    "    d.Age.fillna(df.Age.median(),inplace=True)"
   ]
  },
  {
   "cell_type": "code",
   "execution_count": 1705,
   "id": "283fe783",
   "metadata": {},
   "outputs": [
    {
     "data": {
      "text/plain": [
       "Pclass      0\n",
       "Sex         0\n",
       "Age         0\n",
       "SibSp       0\n",
       "Parch       0\n",
       "Embarked    0\n",
       "Deck        0\n",
       "Title       0\n",
       "dtype: int64"
      ]
     },
     "execution_count": 1705,
     "metadata": {},
     "output_type": "execute_result"
    }
   ],
   "source": [
    "df_t.isna().sum()"
   ]
  },
  {
   "cell_type": "code",
   "execution_count": 1706,
   "id": "1709409d",
   "metadata": {},
   "outputs": [],
   "source": [
    "#there are only 2 records that have missing embaked, we can consider for to fill those with frequent occurring embarked value\n",
    "#TODO:later during model optimization, will try other options for this missing data\n",
    "df.Embarked.value_counts()\n",
    "for d in [df,df_t]:\n",
    "    d.Embarked.fillna('S',inplace=True)"
   ]
  },
  {
   "cell_type": "code",
   "execution_count": 1707,
   "id": "9feacb14",
   "metadata": {},
   "outputs": [
    {
     "data": {
      "text/plain": [
       "Survived    0\n",
       "Pclass      0\n",
       "Sex         0\n",
       "Age         0\n",
       "SibSp       0\n",
       "Parch       0\n",
       "Embarked    0\n",
       "Deck        0\n",
       "Title       0\n",
       "dtype: int64"
      ]
     },
     "execution_count": 1707,
     "metadata": {},
     "output_type": "execute_result"
    }
   ],
   "source": [
    "df.isna().sum()"
   ]
  },
  {
   "cell_type": "code",
   "execution_count": 1708,
   "id": "48dd542d",
   "metadata": {},
   "outputs": [
    {
     "data": {
      "text/html": [
       "<div>\n",
       "<style scoped>\n",
       "    .dataframe tbody tr th:only-of-type {\n",
       "        vertical-align: middle;\n",
       "    }\n",
       "\n",
       "    .dataframe tbody tr th {\n",
       "        vertical-align: top;\n",
       "    }\n",
       "\n",
       "    .dataframe thead th {\n",
       "        text-align: right;\n",
       "    }\n",
       "</style>\n",
       "<table border=\"1\" class=\"dataframe\">\n",
       "  <thead>\n",
       "    <tr style=\"text-align: right;\">\n",
       "      <th></th>\n",
       "      <th>Survived</th>\n",
       "      <th>Pclass</th>\n",
       "      <th>Age</th>\n",
       "      <th>SibSp</th>\n",
       "      <th>Parch</th>\n",
       "      <th>Deck</th>\n",
       "    </tr>\n",
       "  </thead>\n",
       "  <tbody>\n",
       "    <tr>\n",
       "      <th>count</th>\n",
       "      <td>891.000000</td>\n",
       "      <td>891.000000</td>\n",
       "      <td>891.000000</td>\n",
       "      <td>891.000000</td>\n",
       "      <td>891.000000</td>\n",
       "      <td>891.000000</td>\n",
       "    </tr>\n",
       "    <tr>\n",
       "      <th>mean</th>\n",
       "      <td>0.383838</td>\n",
       "      <td>2.308642</td>\n",
       "      <td>29.361582</td>\n",
       "      <td>0.523008</td>\n",
       "      <td>0.381594</td>\n",
       "      <td>5.945006</td>\n",
       "    </tr>\n",
       "    <tr>\n",
       "      <th>std</th>\n",
       "      <td>0.486592</td>\n",
       "      <td>0.836071</td>\n",
       "      <td>13.019697</td>\n",
       "      <td>1.102743</td>\n",
       "      <td>0.806057</td>\n",
       "      <td>2.061500</td>\n",
       "    </tr>\n",
       "    <tr>\n",
       "      <th>min</th>\n",
       "      <td>0.000000</td>\n",
       "      <td>1.000000</td>\n",
       "      <td>0.420000</td>\n",
       "      <td>0.000000</td>\n",
       "      <td>0.000000</td>\n",
       "      <td>0.000000</td>\n",
       "    </tr>\n",
       "    <tr>\n",
       "      <th>25%</th>\n",
       "      <td>0.000000</td>\n",
       "      <td>2.000000</td>\n",
       "      <td>22.000000</td>\n",
       "      <td>0.000000</td>\n",
       "      <td>0.000000</td>\n",
       "      <td>7.000000</td>\n",
       "    </tr>\n",
       "    <tr>\n",
       "      <th>50%</th>\n",
       "      <td>0.000000</td>\n",
       "      <td>3.000000</td>\n",
       "      <td>28.000000</td>\n",
       "      <td>0.000000</td>\n",
       "      <td>0.000000</td>\n",
       "      <td>7.000000</td>\n",
       "    </tr>\n",
       "    <tr>\n",
       "      <th>75%</th>\n",
       "      <td>1.000000</td>\n",
       "      <td>3.000000</td>\n",
       "      <td>35.000000</td>\n",
       "      <td>1.000000</td>\n",
       "      <td>0.000000</td>\n",
       "      <td>7.000000</td>\n",
       "    </tr>\n",
       "    <tr>\n",
       "      <th>max</th>\n",
       "      <td>1.000000</td>\n",
       "      <td>3.000000</td>\n",
       "      <td>80.000000</td>\n",
       "      <td>8.000000</td>\n",
       "      <td>6.000000</td>\n",
       "      <td>7.000000</td>\n",
       "    </tr>\n",
       "  </tbody>\n",
       "</table>\n",
       "</div>"
      ],
      "text/plain": [
       "         Survived      Pclass         Age       SibSp       Parch        Deck\n",
       "count  891.000000  891.000000  891.000000  891.000000  891.000000  891.000000\n",
       "mean     0.383838    2.308642   29.361582    0.523008    0.381594    5.945006\n",
       "std      0.486592    0.836071   13.019697    1.102743    0.806057    2.061500\n",
       "min      0.000000    1.000000    0.420000    0.000000    0.000000    0.000000\n",
       "25%      0.000000    2.000000   22.000000    0.000000    0.000000    7.000000\n",
       "50%      0.000000    3.000000   28.000000    0.000000    0.000000    7.000000\n",
       "75%      1.000000    3.000000   35.000000    1.000000    0.000000    7.000000\n",
       "max      1.000000    3.000000   80.000000    8.000000    6.000000    7.000000"
      ]
     },
     "execution_count": 1708,
     "metadata": {},
     "output_type": "execute_result"
    }
   ],
   "source": [
    "df.describe()"
   ]
  },
  {
   "cell_type": "code",
   "execution_count": 1709,
   "id": "2f6758da",
   "metadata": {},
   "outputs": [
    {
     "data": {
      "text/plain": [
       "<seaborn.axisgrid.FacetGrid at 0x17696902400>"
      ]
     },
     "execution_count": 1709,
     "metadata": {},
     "output_type": "execute_result"
    },
    {
     "data": {
      "image/png": "[encoded data removed]",
      "text/plain": [
       "<Figure size 360x360 with 1 Axes>"
      ]
     },
     "metadata": {
      "needs_background": "light"
     },
     "output_type": "display_data"
    }
   ],
   "source": [
    "sns.displot(df[\"Survived\"],color=\"g\")"
   ]
  },
  {
   "cell_type": "code",
   "execution_count": 1710,
   "id": "e4178b8d",
   "metadata": {},
   "outputs": [
    {
     "data": {
      "text/plain": [
       "<AxesSubplot:xlabel='Pclass', ylabel='Survived'>"
      ]
     },
     "execution_count": 1710,
     "metadata": {},
     "output_type": "execute_result"
    },
    {
     "data": {
      "image/png": "[encoded data removed]",
      "text/plain": [
       "<Figure size 432x288 with 1 Axes>"
      ]
     },
     "metadata": {
      "needs_background": "light"
     },
     "output_type": "display_data"
    }
   ],
   "source": [
    "sns.barplot(x=\"Pclass\",y=\"Survived\",data=df,hue=df.Pclass)\n",
    "#chances of survival by class 1>2>3"
   ]
  },
  {
   "cell_type": "code",
   "execution_count": 1711,
   "id": "a2a75ebc",
   "metadata": {},
   "outputs": [
    {
     "data": {
      "text/plain": [
       "<AxesSubplot:xlabel='Sex', ylabel='Survived'>"
      ]
     },
     "execution_count": 1711,
     "metadata": {},
     "output_type": "execute_result"
    },
    {
     "data": {
      "image/png": "[encoded data removed]",
      "text/plain": [
       "<Figure size 432x288 with 1 Axes>"
      ]
     },
     "metadata": {
      "needs_background": "light"
     },
     "output_type": "display_data"
    }
   ],
   "source": [
    "sns.barplot(x=\"Sex\",y=\"Survived\",data=df,hue=df.Sex)\n",
    "#chances of survival by sex -> female > male"
   ]
  },
  {
   "cell_type": "code",
   "execution_count": 1712,
   "id": "de5e4605",
   "metadata": {},
   "outputs": [],
   "source": [
    "age_grps =[(0,10),(10.1,18),(18.1,24),(24.1,30),(30.1,40),(40.1,55),(55.1,100)]\n",
    "age_grps_df= pd.DataFrame(age_grps)"
   ]
  },
  {
   "cell_type": "code",
   "execution_count": 1713,
   "id": "078cd4df",
   "metadata": {},
   "outputs": [
    {
     "data": {
      "text/html": [
       "<div>\n",
       "<style scoped>\n",
       "    .dataframe tbody tr th:only-of-type {\n",
       "        vertical-align: middle;\n",
       "    }\n",
       "\n",
       "    .dataframe tbody tr th {\n",
       "        vertical-align: top;\n",
       "    }\n",
       "\n",
       "    .dataframe thead th {\n",
       "        text-align: right;\n",
       "    }\n",
       "</style>\n",
       "<table border=\"1\" class=\"dataframe\">\n",
       "  <thead>\n",
       "    <tr style=\"text-align: right;\">\n",
       "      <th></th>\n",
       "      <th>0</th>\n",
       "      <th>1</th>\n",
       "    </tr>\n",
       "  </thead>\n",
       "  <tbody>\n",
       "    <tr>\n",
       "      <th>0</th>\n",
       "      <td>0.0</td>\n",
       "      <td>10</td>\n",
       "    </tr>\n",
       "    <tr>\n",
       "      <th>1</th>\n",
       "      <td>10.1</td>\n",
       "      <td>18</td>\n",
       "    </tr>\n",
       "    <tr>\n",
       "      <th>2</th>\n",
       "      <td>18.1</td>\n",
       "      <td>24</td>\n",
       "    </tr>\n",
       "    <tr>\n",
       "      <th>3</th>\n",
       "      <td>24.1</td>\n",
       "      <td>30</td>\n",
       "    </tr>\n",
       "    <tr>\n",
       "      <th>4</th>\n",
       "      <td>30.1</td>\n",
       "      <td>40</td>\n",
       "    </tr>\n",
       "    <tr>\n",
       "      <th>5</th>\n",
       "      <td>40.1</td>\n",
       "      <td>55</td>\n",
       "    </tr>\n",
       "    <tr>\n",
       "      <th>6</th>\n",
       "      <td>55.1</td>\n",
       "      <td>100</td>\n",
       "    </tr>\n",
       "  </tbody>\n",
       "</table>\n",
       "</div>"
      ],
      "text/plain": [
       "      0    1\n",
       "0   0.0   10\n",
       "1  10.1   18\n",
       "2  18.1   24\n",
       "3  24.1   30\n",
       "4  30.1   40\n",
       "5  40.1   55\n",
       "6  55.1  100"
      ]
     },
     "execution_count": 1713,
     "metadata": {},
     "output_type": "execute_result"
    }
   ],
   "source": [
    "age_grps_df"
   ]
  },
  {
   "cell_type": "code",
   "execution_count": 1714,
   "id": "f589c7f3",
   "metadata": {},
   "outputs": [],
   "source": [
    "def set_age_groups(d_):\n",
    "    d_.Age = d_.Age.astype(int)\n",
    "    for i in range(age_grps_df.shape[0]):\n",
    "        d_.loc[(d_.Age>=age_grps_df.iloc[i][0]) & (d_.Age<=age_grps_df.iloc[i][1]),\"Age_Group\"]=i"
   ]
  },
  {
   "cell_type": "code",
   "execution_count": 1715,
   "id": "904c78b0",
   "metadata": {},
   "outputs": [],
   "source": [
    "for d in [df,df_t]:\n",
    "    set_age_groups(d)"
   ]
  },
  {
   "cell_type": "code",
   "execution_count": 1716,
   "id": "4f4ddbcc",
   "metadata": {},
   "outputs": [
    {
     "data": {
      "text/html": [
       "<div>\n",
       "<style scoped>\n",
       "    .dataframe tbody tr th:only-of-type {\n",
       "        vertical-align: middle;\n",
       "    }\n",
       "\n",
       "    .dataframe tbody tr th {\n",
       "        vertical-align: top;\n",
       "    }\n",
       "\n",
       "    .dataframe thead th {\n",
       "        text-align: right;\n",
       "    }\n",
       "</style>\n",
       "<table border=\"1\" class=\"dataframe\">\n",
       "  <thead>\n",
       "    <tr style=\"text-align: right;\">\n",
       "      <th></th>\n",
       "      <th>Pclass</th>\n",
       "      <th>Sex</th>\n",
       "      <th>Age</th>\n",
       "      <th>SibSp</th>\n",
       "      <th>Parch</th>\n",
       "      <th>Embarked</th>\n",
       "      <th>Deck</th>\n",
       "      <th>Title</th>\n",
       "      <th>Age_Group</th>\n",
       "    </tr>\n",
       "  </thead>\n",
       "  <tbody>\n",
       "    <tr>\n",
       "      <th>0</th>\n",
       "      <td>3</td>\n",
       "      <td>male</td>\n",
       "      <td>34</td>\n",
       "      <td>0</td>\n",
       "      <td>0</td>\n",
       "      <td>Q</td>\n",
       "      <td>7</td>\n",
       "      <td>Mr</td>\n",
       "      <td>4.0</td>\n",
       "    </tr>\n",
       "    <tr>\n",
       "      <th>1</th>\n",
       "      <td>3</td>\n",
       "      <td>female</td>\n",
       "      <td>47</td>\n",
       "      <td>1</td>\n",
       "      <td>0</td>\n",
       "      <td>S</td>\n",
       "      <td>7</td>\n",
       "      <td>Mrs</td>\n",
       "      <td>5.0</td>\n",
       "    </tr>\n",
       "    <tr>\n",
       "      <th>2</th>\n",
       "      <td>2</td>\n",
       "      <td>male</td>\n",
       "      <td>62</td>\n",
       "      <td>0</td>\n",
       "      <td>0</td>\n",
       "      <td>Q</td>\n",
       "      <td>7</td>\n",
       "      <td>Mr</td>\n",
       "      <td>6.0</td>\n",
       "    </tr>\n",
       "    <tr>\n",
       "      <th>3</th>\n",
       "      <td>3</td>\n",
       "      <td>male</td>\n",
       "      <td>27</td>\n",
       "      <td>0</td>\n",
       "      <td>0</td>\n",
       "      <td>S</td>\n",
       "      <td>7</td>\n",
       "      <td>Mr</td>\n",
       "      <td>3.0</td>\n",
       "    </tr>\n",
       "    <tr>\n",
       "      <th>4</th>\n",
       "      <td>3</td>\n",
       "      <td>female</td>\n",
       "      <td>22</td>\n",
       "      <td>1</td>\n",
       "      <td>1</td>\n",
       "      <td>S</td>\n",
       "      <td>7</td>\n",
       "      <td>Mrs</td>\n",
       "      <td>2.0</td>\n",
       "    </tr>\n",
       "  </tbody>\n",
       "</table>\n",
       "</div>"
      ],
      "text/plain": [
       "   Pclass     Sex  Age  SibSp  Parch Embarked  Deck Title  Age_Group\n",
       "0       3    male   34      0      0        Q     7    Mr        4.0\n",
       "1       3  female   47      1      0        S     7   Mrs        5.0\n",
       "2       2    male   62      0      0        Q     7    Mr        6.0\n",
       "3       3    male   27      0      0        S     7    Mr        3.0\n",
       "4       3  female   22      1      1        S     7   Mrs        2.0"
      ]
     },
     "execution_count": 1716,
     "metadata": {},
     "output_type": "execute_result"
    }
   ],
   "source": [
    "df_t.head()"
   ]
  },
  {
   "cell_type": "code",
   "execution_count": 1717,
   "id": "351485ef",
   "metadata": {},
   "outputs": [
    {
     "data": {
      "text/plain": [
       "<AxesSubplot:xlabel='Age_Group', ylabel='Survived'>"
      ]
     },
     "execution_count": 1717,
     "metadata": {},
     "output_type": "execute_result"
    },
    {
     "data": {
      "image/png": "[encoded data removed]",
      "text/plain": [
       "<Figure size 432x288 with 1 Axes>"
      ]
     },
     "metadata": {
      "needs_background": "light"
     },
     "output_type": "display_data"
    }
   ],
   "source": [
    "sns.barplot(x=\"Age_Group\",y=\"Survived\",data=df,hue='Age_Group')"
   ]
  },
  {
   "cell_type": "code",
   "execution_count": 1718,
   "id": "fc1f7da5",
   "metadata": {},
   "outputs": [
    {
     "data": {
      "text/plain": [
       "<AxesSubplot:xlabel='Age_Group', ylabel='Survived'>"
      ]
     },
     "execution_count": 1718,
     "metadata": {},
     "output_type": "execute_result"
    },
    {
     "data": {
      "image/png": "[encoded data removed]",
      "text/plain": [
       "<Figure size 432x288 with 1 Axes>"
      ]
     },
     "metadata": {
      "needs_background": "light"
     },
     "output_type": "display_data"
    }
   ],
   "source": [
    "sns.barplot(x=\"Age_Group\",y=\"Survived\",data=df,hue='Sex')\n",
    "#conclusion drawn:\n",
    "#1: Sex column would play an important role, as female n all age groups chances > male\n",
    "#2:kids (age group 0 - 10>=age>=0) have very high survival chances, age group 2 (18 to 30) chances are too low"
   ]
  },
  {
   "cell_type": "code",
   "execution_count": 1719,
   "id": "71a5ad62",
   "metadata": {},
   "outputs": [],
   "source": [
    "for d in [df,df_t]:\n",
    "    d.drop([\"Age\"],axis=1,inplace=True)"
   ]
  },
  {
   "cell_type": "code",
   "execution_count": 1720,
   "id": "7639d6c2",
   "metadata": {},
   "outputs": [
    {
     "data": {
      "text/html": [
       "<div>\n",
       "<style scoped>\n",
       "    .dataframe tbody tr th:only-of-type {\n",
       "        vertical-align: middle;\n",
       "    }\n",
       "\n",
       "    .dataframe tbody tr th {\n",
       "        vertical-align: top;\n",
       "    }\n",
       "\n",
       "    .dataframe thead th {\n",
       "        text-align: right;\n",
       "    }\n",
       "</style>\n",
       "<table border=\"1\" class=\"dataframe\">\n",
       "  <thead>\n",
       "    <tr style=\"text-align: right;\">\n",
       "      <th></th>\n",
       "      <th>Pclass</th>\n",
       "      <th>Sex</th>\n",
       "      <th>SibSp</th>\n",
       "      <th>Parch</th>\n",
       "      <th>Embarked</th>\n",
       "      <th>Deck</th>\n",
       "      <th>Title</th>\n",
       "      <th>Age_Group</th>\n",
       "    </tr>\n",
       "  </thead>\n",
       "  <tbody>\n",
       "    <tr>\n",
       "      <th>0</th>\n",
       "      <td>3</td>\n",
       "      <td>male</td>\n",
       "      <td>0</td>\n",
       "      <td>0</td>\n",
       "      <td>Q</td>\n",
       "      <td>7</td>\n",
       "      <td>Mr</td>\n",
       "      <td>4.0</td>\n",
       "    </tr>\n",
       "    <tr>\n",
       "      <th>1</th>\n",
       "      <td>3</td>\n",
       "      <td>female</td>\n",
       "      <td>1</td>\n",
       "      <td>0</td>\n",
       "      <td>S</td>\n",
       "      <td>7</td>\n",
       "      <td>Mrs</td>\n",
       "      <td>5.0</td>\n",
       "    </tr>\n",
       "    <tr>\n",
       "      <th>2</th>\n",
       "      <td>2</td>\n",
       "      <td>male</td>\n",
       "      <td>0</td>\n",
       "      <td>0</td>\n",
       "      <td>Q</td>\n",
       "      <td>7</td>\n",
       "      <td>Mr</td>\n",
       "      <td>6.0</td>\n",
       "    </tr>\n",
       "    <tr>\n",
       "      <th>3</th>\n",
       "      <td>3</td>\n",
       "      <td>male</td>\n",
       "      <td>0</td>\n",
       "      <td>0</td>\n",
       "      <td>S</td>\n",
       "      <td>7</td>\n",
       "      <td>Mr</td>\n",
       "      <td>3.0</td>\n",
       "    </tr>\n",
       "    <tr>\n",
       "      <th>4</th>\n",
       "      <td>3</td>\n",
       "      <td>female</td>\n",
       "      <td>1</td>\n",
       "      <td>1</td>\n",
       "      <td>S</td>\n",
       "      <td>7</td>\n",
       "      <td>Mrs</td>\n",
       "      <td>2.0</td>\n",
       "    </tr>\n",
       "  </tbody>\n",
       "</table>\n",
       "</div>"
      ],
      "text/plain": [
       "   Pclass     Sex  SibSp  Parch Embarked  Deck Title  Age_Group\n",
       "0       3    male      0      0        Q     7    Mr        4.0\n",
       "1       3  female      1      0        S     7   Mrs        5.0\n",
       "2       2    male      0      0        Q     7    Mr        6.0\n",
       "3       3    male      0      0        S     7    Mr        3.0\n",
       "4       3  female      1      1        S     7   Mrs        2.0"
      ]
     },
     "execution_count": 1720,
     "metadata": {},
     "output_type": "execute_result"
    }
   ],
   "source": [
    "df_t.head()"
   ]
  },
  {
   "cell_type": "code",
   "execution_count": 1721,
   "id": "6407ab96",
   "metadata": {},
   "outputs": [],
   "source": [
    "for d in [df,df_t]:\n",
    "    d.Sex.replace({\n",
    "        \"male\":1,\n",
    "        \"female\":0\n",
    "    },inplace=True)"
   ]
  },
  {
   "cell_type": "code",
   "execution_count": 1722,
   "id": "ab510822",
   "metadata": {},
   "outputs": [
    {
     "data": {
      "text/html": [
       "<div>\n",
       "<style scoped>\n",
       "    .dataframe tbody tr th:only-of-type {\n",
       "        vertical-align: middle;\n",
       "    }\n",
       "\n",
       "    .dataframe tbody tr th {\n",
       "        vertical-align: top;\n",
       "    }\n",
       "\n",
       "    .dataframe thead th {\n",
       "        text-align: right;\n",
       "    }\n",
       "</style>\n",
       "<table border=\"1\" class=\"dataframe\">\n",
       "  <thead>\n",
       "    <tr style=\"text-align: right;\">\n",
       "      <th></th>\n",
       "      <th>Survived</th>\n",
       "      <th>Pclass</th>\n",
       "      <th>Sex</th>\n",
       "      <th>SibSp</th>\n",
       "      <th>Parch</th>\n",
       "      <th>Embarked</th>\n",
       "      <th>Deck</th>\n",
       "      <th>Title</th>\n",
       "      <th>Age_Group</th>\n",
       "    </tr>\n",
       "  </thead>\n",
       "  <tbody>\n",
       "    <tr>\n",
       "      <th>0</th>\n",
       "      <td>0</td>\n",
       "      <td>3</td>\n",
       "      <td>1</td>\n",
       "      <td>1</td>\n",
       "      <td>0</td>\n",
       "      <td>S</td>\n",
       "      <td>7.0</td>\n",
       "      <td>Mr</td>\n",
       "      <td>2.0</td>\n",
       "    </tr>\n",
       "    <tr>\n",
       "      <th>1</th>\n",
       "      <td>1</td>\n",
       "      <td>1</td>\n",
       "      <td>0</td>\n",
       "      <td>1</td>\n",
       "      <td>0</td>\n",
       "      <td>C</td>\n",
       "      <td>2.0</td>\n",
       "      <td>Mrs</td>\n",
       "      <td>4.0</td>\n",
       "    </tr>\n",
       "    <tr>\n",
       "      <th>2</th>\n",
       "      <td>1</td>\n",
       "      <td>3</td>\n",
       "      <td>0</td>\n",
       "      <td>0</td>\n",
       "      <td>0</td>\n",
       "      <td>S</td>\n",
       "      <td>7.0</td>\n",
       "      <td>Miss</td>\n",
       "      <td>3.0</td>\n",
       "    </tr>\n",
       "    <tr>\n",
       "      <th>3</th>\n",
       "      <td>1</td>\n",
       "      <td>1</td>\n",
       "      <td>0</td>\n",
       "      <td>1</td>\n",
       "      <td>0</td>\n",
       "      <td>S</td>\n",
       "      <td>2.0</td>\n",
       "      <td>Mrs</td>\n",
       "      <td>4.0</td>\n",
       "    </tr>\n",
       "    <tr>\n",
       "      <th>4</th>\n",
       "      <td>0</td>\n",
       "      <td>3</td>\n",
       "      <td>1</td>\n",
       "      <td>0</td>\n",
       "      <td>0</td>\n",
       "      <td>S</td>\n",
       "      <td>7.0</td>\n",
       "      <td>Mr</td>\n",
       "      <td>4.0</td>\n",
       "    </tr>\n",
       "  </tbody>\n",
       "</table>\n",
       "</div>"
      ],
      "text/plain": [
       "   Survived  Pclass  Sex  SibSp  Parch Embarked  Deck Title  Age_Group\n",
       "0         0       3    1      1      0        S   7.0    Mr        2.0\n",
       "1         1       1    0      1      0        C   2.0   Mrs        4.0\n",
       "2         1       3    0      0      0        S   7.0  Miss        3.0\n",
       "3         1       1    0      1      0        S   2.0   Mrs        4.0\n",
       "4         0       3    1      0      0        S   7.0    Mr        4.0"
      ]
     },
     "execution_count": 1722,
     "metadata": {},
     "output_type": "execute_result"
    }
   ],
   "source": [
    "df.head()"
   ]
  },
  {
   "cell_type": "code",
   "execution_count": 1723,
   "id": "19544d19",
   "metadata": {},
   "outputs": [
    {
     "data": {
      "text/plain": [
       "<AxesSubplot:xlabel='Embarked', ylabel='Survived'>"
      ]
     },
     "execution_count": 1723,
     "metadata": {},
     "output_type": "execute_result"
    },
    {
     "data": {
      "image/png": "[encoded data removed]",
      "text/plain": [
       "<Figure size 432x288 with 1 Axes>"
      ]
     },
     "metadata": {
      "needs_background": "light"
     },
     "output_type": "display_data"
    }
   ],
   "source": [
    "sns.barplot(x=\"Embarked\",y=\"Survived\",data=df,hue=\"Pclass\")\n",
    "#embarked at C has high chances of survival"
   ]
  },
  {
   "cell_type": "code",
   "execution_count": 1724,
   "id": "ca01bae1",
   "metadata": {},
   "outputs": [
    {
     "data": {
      "text/plain": [
       "<AxesSubplot:xlabel='Deck', ylabel='Survived'>"
      ]
     },
     "execution_count": 1724,
     "metadata": {},
     "output_type": "execute_result"
    },
    {
     "data": {
      "image/png": "[encoded data removed]",
      "text/plain": [
       "<Figure size 432x288 with 1 Axes>"
      ]
     },
     "metadata": {
      "needs_background": "light"
     },
     "output_type": "display_data"
    }
   ],
   "source": [
    "sns.barplot(x=\"Deck\",y=\"Survived\",data=df,hue=\"Pclass\")\n",
    "#embarked at C has high chances of survival"
   ]
  },
  {
   "cell_type": "code",
   "execution_count": 1725,
   "id": "eefbfed2",
   "metadata": {},
   "outputs": [],
   "source": [
    "for d in [df,df_t]:\n",
    "    d[\"isAlone\"]=d[\"SibSp\"]+d[\"Parch\"]==0\n",
    "    d.isAlone.replace({False:0,True:1},inplace=True)\n",
    "    d.drop([\"SibSp\",\"Parch\"],inplace=True,axis=1)"
   ]
  },
  {
   "cell_type": "code",
   "execution_count": 1726,
   "id": "d384722f",
   "metadata": {},
   "outputs": [
    {
     "data": {
      "text/plain": [
       "<AxesSubplot:xlabel='isAlone', ylabel='Survived'>"
      ]
     },
     "execution_count": 1726,
     "metadata": {},
     "output_type": "execute_result"
    },
    {
     "data": {
      "image/png": "[encoded data removed]",
      "text/plain": [
       "<Figure size 432x288 with 1 Axes>"
      ]
     },
     "metadata": {
      "needs_background": "light"
     },
     "output_type": "display_data"
    }
   ],
   "source": [
    "sns.barplot(x=\"isAlone\",y=\"Survived\",data=df)"
   ]
  },
  {
   "cell_type": "code",
   "execution_count": 1727,
   "id": "a8558eb3",
   "metadata": {},
   "outputs": [],
   "source": [
    "from sklearn.preprocessing import OneHotEncoder"
   ]
  },
  {
   "cell_type": "code",
   "execution_count": 1728,
   "id": "86b2f592",
   "metadata": {},
   "outputs": [
    {
     "data": {
      "text/plain": [
       "Mr      261\n",
       "Miss     79\n",
       "Mrs      72\n",
       "Rare      6\n",
       "Name: Title, dtype: int64"
      ]
     },
     "execution_count": 1728,
     "metadata": {},
     "output_type": "execute_result"
    }
   ],
   "source": [
    "df_t.Title.value_counts()"
   ]
  },
  {
   "cell_type": "code",
   "execution_count": 1729,
   "id": "91161988",
   "metadata": {},
   "outputs": [
    {
     "name": "stdout",
     "output_type": "stream",
     "text": [
      "Embarked [array(['C', 'Q', 'S'], dtype=object)]\n",
      "Pclass [array([1, 2, 3], dtype=int64)]\n",
      "Title [array(['Miss', 'Mr', 'Mrs', 'Rare'], dtype=object)]\n",
      "Embarked [array(['C', 'Q', 'S'], dtype=object)]\n",
      "Pclass [array([1, 2, 3], dtype=int64)]\n",
      "Title [array(['Miss', 'Mr', 'Mrs', 'Rare'], dtype=object)]\n"
     ]
    }
   ],
   "source": [
    "enc = OneHotEncoder()\n",
    "for d in [df,df_t]:\n",
    "    for feat in [\"Embarked\",\"Pclass\",\"Title\"]:\n",
    "        mat=enc.fit_transform(d[[feat]]).toarray()\n",
    "        cat = [feat+str(x) for x in enc.categories_[0]]\n",
    "        d[cat] = mat\n",
    "        print(feat,enc.categories_)\n",
    "        d.drop([feat],axis=1,inplace=True)"
   ]
  },
  {
   "cell_type": "code",
   "execution_count": 1730,
   "id": "3046863c",
   "metadata": {},
   "outputs": [
    {
     "data": {
      "text/plain": [
       "'emb ={\"C\":0, \\'Q\\':1, \\'S\\':2}\\nfor d_ in [df,df_t]:\\n    d_.Embarked =d_.Embarked.map(emb)'"
      ]
     },
     "execution_count": 1730,
     "metadata": {},
     "output_type": "execute_result"
    }
   ],
   "source": [
    "'''emb ={\"C\":0, 'Q':1, 'S':2}\n",
    "for d_ in [df,df_t]:\n",
    "    d_.Embarked =d_.Embarked.map(emb)'''"
   ]
  },
  {
   "cell_type": "code",
   "execution_count": 1731,
   "id": "17840711",
   "metadata": {},
   "outputs": [
    {
     "data": {
      "text/plain": [
       "{'Mr': 0, 'Miss': 1, 'Mrs': 2, 'Rare': 3}"
      ]
     },
     "execution_count": 1731,
     "metadata": {},
     "output_type": "execute_result"
    }
   ],
   "source": [
    "title"
   ]
  },
  {
   "cell_type": "code",
   "execution_count": 1734,
   "id": "21b77d2e",
   "metadata": {},
   "outputs": [
    {
     "data": {
      "text/plain": [
       "Index(['Survived', 'Sex', 'Deck', 'Age_Group', 'isAlone', 'EmbarkedC',\n",
       "       'EmbarkedQ', 'EmbarkedS', 'Pclass1', 'Pclass2', 'Pclass3', 'TitleMiss',\n",
       "       'TitleMr', 'TitleMrs', 'TitleRare'],\n",
       "      dtype='object')"
      ]
     },
     "execution_count": 1734,
     "metadata": {},
     "output_type": "execute_result"
    }
   ],
   "source": [
    "#sns.barplot(x=\"Title\",y=\"Survived\",data=df,hue=\"Pclass\")\n",
    "df.columns"
   ]
  },
  {
   "cell_type": "code",
   "execution_count": 1819,
   "id": "2aa17316",
   "metadata": {},
   "outputs": [],
   "source": [
    "features=['Sex', 'Deck', 'Age_Group', 'isAlone', 'EmbarkedC',\n",
    "       'EmbarkedQ', 'EmbarkedS', 'Pclass1', 'Pclass2', 'Pclass3', 'TitleMiss',\n",
    "       'TitleMr', 'TitleMrs', 'TitleRare']\n",
    "X_ = df[features]\n",
    "y_ = df[\"Survived\"]"
   ]
  },
  {
   "cell_type": "code",
   "execution_count": 1820,
   "id": "8e0b6eb6",
   "metadata": {},
   "outputs": [
    {
     "data": {
      "text/plain": [
       "((891, 14), (891,))"
      ]
     },
     "execution_count": 1820,
     "metadata": {},
     "output_type": "execute_result"
    }
   ],
   "source": [
    "X_.shape,y_.shape"
   ]
  },
  {
   "cell_type": "code",
   "execution_count": 1805,
   "id": "18fc6b46",
   "metadata": {},
   "outputs": [
    {
     "data": {
      "text/html": [
       "<div>\n",
       "<style scoped>\n",
       "    .dataframe tbody tr th:only-of-type {\n",
       "        vertical-align: middle;\n",
       "    }\n",
       "\n",
       "    .dataframe tbody tr th {\n",
       "        vertical-align: top;\n",
       "    }\n",
       "\n",
       "    .dataframe thead th {\n",
       "        text-align: right;\n",
       "    }\n",
       "</style>\n",
       "<table border=\"1\" class=\"dataframe\">\n",
       "  <thead>\n",
       "    <tr style=\"text-align: right;\">\n",
       "      <th></th>\n",
       "      <th>Survived</th>\n",
       "      <th>Sex</th>\n",
       "      <th>Deck</th>\n",
       "      <th>Age_Group</th>\n",
       "      <th>isAlone</th>\n",
       "      <th>EmbarkedC</th>\n",
       "      <th>EmbarkedQ</th>\n",
       "      <th>EmbarkedS</th>\n",
       "      <th>Pclass1</th>\n",
       "      <th>Pclass2</th>\n",
       "      <th>Pclass3</th>\n",
       "      <th>TitleMiss</th>\n",
       "      <th>TitleMr</th>\n",
       "      <th>TitleMrs</th>\n",
       "      <th>TitleRare</th>\n",
       "    </tr>\n",
       "  </thead>\n",
       "  <tbody>\n",
       "    <tr>\n",
       "      <th>Survived</th>\n",
       "      <td>1.000000</td>\n",
       "      <td>-0.543351</td>\n",
       "      <td>-0.294804</td>\n",
       "      <td>-0.059883</td>\n",
       "      <td>-0.203367</td>\n",
       "      <td>0.168240</td>\n",
       "      <td>0.003650</td>\n",
       "      <td>-0.149683</td>\n",
       "      <td>0.285904</td>\n",
       "      <td>0.093349</td>\n",
       "      <td>-0.322308</td>\n",
       "      <td>0.335636</td>\n",
       "      <td>-0.520822</td>\n",
       "      <td>0.341994</td>\n",
       "      <td>-0.021481</td>\n",
       "    </tr>\n",
       "    <tr>\n",
       "      <th>Sex</th>\n",
       "      <td>-0.543351</td>\n",
       "      <td>1.000000</td>\n",
       "      <td>0.118282</td>\n",
       "      <td>0.095388</td>\n",
       "      <td>0.303646</td>\n",
       "      <td>-0.082853</td>\n",
       "      <td>-0.074115</td>\n",
       "      <td>0.119224</td>\n",
       "      <td>-0.098013</td>\n",
       "      <td>-0.064746</td>\n",
       "      <td>0.137143</td>\n",
       "      <td>-0.693916</td>\n",
       "      <td>0.954931</td>\n",
       "      <td>-0.550146</td>\n",
       "      <td>0.071958</td>\n",
       "    </tr>\n",
       "    <tr>\n",
       "      <th>Deck</th>\n",
       "      <td>-0.294804</td>\n",
       "      <td>0.118282</td>\n",
       "      <td>1.000000</td>\n",
       "      <td>-0.228445</td>\n",
       "      <td>0.137515</td>\n",
       "      <td>-0.247556</td>\n",
       "      <td>0.128407</td>\n",
       "      <td>0.136063</td>\n",
       "      <td>-0.820018</td>\n",
       "      <td>0.202012</td>\n",
       "      <td>0.542122</td>\n",
       "      <td>-0.031998</td>\n",
       "      <td>0.133636</td>\n",
       "      <td>-0.103289</td>\n",
       "      <td>-0.101061</td>\n",
       "    </tr>\n",
       "    <tr>\n",
       "      <th>Age_Group</th>\n",
       "      <td>-0.059883</td>\n",
       "      <td>0.095388</td>\n",
       "      <td>-0.228445</td>\n",
       "      <td>1.000000</td>\n",
       "      <td>0.181963</td>\n",
       "      <td>0.018012</td>\n",
       "      <td>-0.020963</td>\n",
       "      <td>-0.002587</td>\n",
       "      <td>0.294794</td>\n",
       "      <td>0.022715</td>\n",
       "      <td>-0.272482</td>\n",
       "      <td>-0.274217</td>\n",
       "      <td>0.047530</td>\n",
       "      <td>0.177625</td>\n",
       "      <td>0.169720</td>\n",
       "    </tr>\n",
       "    <tr>\n",
       "      <th>isAlone</th>\n",
       "      <td>-0.203367</td>\n",
       "      <td>0.303646</td>\n",
       "      <td>0.137515</td>\n",
       "      <td>0.181963</td>\n",
       "      <td>1.000000</td>\n",
       "      <td>-0.095298</td>\n",
       "      <td>0.086464</td>\n",
       "      <td>0.029074</td>\n",
       "      <td>-0.113364</td>\n",
       "      <td>-0.039070</td>\n",
       "      <td>0.129472</td>\n",
       "      <td>-0.048054</td>\n",
       "      <td>0.287751</td>\n",
       "      <td>-0.361624</td>\n",
       "      <td>0.040508</td>\n",
       "    </tr>\n",
       "    <tr>\n",
       "      <th>EmbarkedC</th>\n",
       "      <td>0.168240</td>\n",
       "      <td>-0.082853</td>\n",
       "      <td>-0.247556</td>\n",
       "      <td>0.018012</td>\n",
       "      <td>-0.095298</td>\n",
       "      <td>1.000000</td>\n",
       "      <td>-0.148258</td>\n",
       "      <td>-0.782742</td>\n",
       "      <td>0.296423</td>\n",
       "      <td>-0.125416</td>\n",
       "      <td>-0.153329</td>\n",
       "      <td>0.036204</td>\n",
       "      <td>-0.084290</td>\n",
       "      <td>0.067872</td>\n",
       "      <td>0.015751</td>\n",
       "    </tr>\n",
       "    <tr>\n",
       "      <th>EmbarkedQ</th>\n",
       "      <td>0.003650</td>\n",
       "      <td>-0.074115</td>\n",
       "      <td>0.128407</td>\n",
       "      <td>-0.020963</td>\n",
       "      <td>0.086464</td>\n",
       "      <td>-0.148258</td>\n",
       "      <td>1.000000</td>\n",
       "      <td>-0.499421</td>\n",
       "      <td>-0.155342</td>\n",
       "      <td>-0.127301</td>\n",
       "      <td>0.237449</td>\n",
       "      <td>0.167531</td>\n",
       "      <td>-0.076141</td>\n",
       "      <td>-0.090432</td>\n",
       "      <td>0.002542</td>\n",
       "    </tr>\n",
       "    <tr>\n",
       "      <th>EmbarkedS</th>\n",
       "      <td>-0.149683</td>\n",
       "      <td>0.119224</td>\n",
       "      <td>0.136063</td>\n",
       "      <td>-0.002587</td>\n",
       "      <td>0.029074</td>\n",
       "      <td>-0.782742</td>\n",
       "      <td>-0.499421</td>\n",
       "      <td>1.000000</td>\n",
       "      <td>-0.161921</td>\n",
       "      <td>0.189980</td>\n",
       "      <td>-0.015104</td>\n",
       "      <td>-0.137144</td>\n",
       "      <td>0.121756</td>\n",
       "      <td>-0.002550</td>\n",
       "      <td>-0.015398</td>\n",
       "    </tr>\n",
       "    <tr>\n",
       "      <th>Pclass1</th>\n",
       "      <td>0.285904</td>\n",
       "      <td>-0.098013</td>\n",
       "      <td>-0.820018</td>\n",
       "      <td>0.294794</td>\n",
       "      <td>-0.113364</td>\n",
       "      <td>0.296423</td>\n",
       "      <td>-0.155342</td>\n",
       "      <td>-0.161921</td>\n",
       "      <td>1.000000</td>\n",
       "      <td>-0.288585</td>\n",
       "      <td>-0.626738</td>\n",
       "      <td>0.020348</td>\n",
       "      <td>-0.131395</td>\n",
       "      <td>0.093608</td>\n",
       "      <td>0.146261</td>\n",
       "    </tr>\n",
       "    <tr>\n",
       "      <th>Pclass2</th>\n",
       "      <td>0.093349</td>\n",
       "      <td>-0.064746</td>\n",
       "      <td>0.202012</td>\n",
       "      <td>0.022715</td>\n",
       "      <td>-0.039070</td>\n",
       "      <td>-0.125416</td>\n",
       "      <td>-0.127301</td>\n",
       "      <td>0.189980</td>\n",
       "      <td>-0.288585</td>\n",
       "      <td>1.000000</td>\n",
       "      <td>-0.565210</td>\n",
       "      <td>-0.021903</td>\n",
       "      <td>-0.087294</td>\n",
       "      <td>0.119193</td>\n",
       "      <td>0.061761</td>\n",
       "    </tr>\n",
       "    <tr>\n",
       "      <th>Pclass3</th>\n",
       "      <td>-0.322308</td>\n",
       "      <td>0.137143</td>\n",
       "      <td>0.542122</td>\n",
       "      <td>-0.272482</td>\n",
       "      <td>0.129472</td>\n",
       "      <td>-0.153329</td>\n",
       "      <td>0.237449</td>\n",
       "      <td>-0.015104</td>\n",
       "      <td>-0.626738</td>\n",
       "      <td>-0.565210</td>\n",
       "      <td>1.000000</td>\n",
       "      <td>0.000293</td>\n",
       "      <td>0.184255</td>\n",
       "      <td>-0.177658</td>\n",
       "      <td>-0.176284</td>\n",
       "    </tr>\n",
       "    <tr>\n",
       "      <th>TitleMiss</th>\n",
       "      <td>0.335636</td>\n",
       "      <td>-0.693916</td>\n",
       "      <td>-0.031998</td>\n",
       "      <td>-0.274217</td>\n",
       "      <td>-0.048054</td>\n",
       "      <td>0.036204</td>\n",
       "      <td>0.167531</td>\n",
       "      <td>-0.137144</td>\n",
       "      <td>0.020348</td>\n",
       "      <td>-0.021903</td>\n",
       "      <td>0.000293</td>\n",
       "      <td>1.000000</td>\n",
       "      <td>-0.662641</td>\n",
       "      <td>-0.207749</td>\n",
       "      <td>-0.081449</td>\n",
       "    </tr>\n",
       "    <tr>\n",
       "      <th>TitleMr</th>\n",
       "      <td>-0.520822</td>\n",
       "      <td>0.954931</td>\n",
       "      <td>0.133636</td>\n",
       "      <td>0.047530</td>\n",
       "      <td>0.287751</td>\n",
       "      <td>-0.084290</td>\n",
       "      <td>-0.076141</td>\n",
       "      <td>0.121756</td>\n",
       "      <td>-0.131395</td>\n",
       "      <td>-0.087294</td>\n",
       "      <td>0.184255</td>\n",
       "      <td>-0.662641</td>\n",
       "      <td>1.000000</td>\n",
       "      <td>-0.525351</td>\n",
       "      <td>-0.205966</td>\n",
       "    </tr>\n",
       "    <tr>\n",
       "      <th>TitleMrs</th>\n",
       "      <td>0.341994</td>\n",
       "      <td>-0.550146</td>\n",
       "      <td>-0.103289</td>\n",
       "      <td>0.177625</td>\n",
       "      <td>-0.361624</td>\n",
       "      <td>0.067872</td>\n",
       "      <td>-0.090432</td>\n",
       "      <td>-0.002550</td>\n",
       "      <td>0.093608</td>\n",
       "      <td>0.119193</td>\n",
       "      <td>-0.177658</td>\n",
       "      <td>-0.207749</td>\n",
       "      <td>-0.525351</td>\n",
       "      <td>1.000000</td>\n",
       "      <td>-0.064574</td>\n",
       "    </tr>\n",
       "    <tr>\n",
       "      <th>TitleRare</th>\n",
       "      <td>-0.021481</td>\n",
       "      <td>0.071958</td>\n",
       "      <td>-0.101061</td>\n",
       "      <td>0.169720</td>\n",
       "      <td>0.040508</td>\n",
       "      <td>0.015751</td>\n",
       "      <td>0.002542</td>\n",
       "      <td>-0.015398</td>\n",
       "      <td>0.146261</td>\n",
       "      <td>0.061761</td>\n",
       "      <td>-0.176284</td>\n",
       "      <td>-0.081449</td>\n",
       "      <td>-0.205966</td>\n",
       "      <td>-0.064574</td>\n",
       "      <td>1.000000</td>\n",
       "    </tr>\n",
       "  </tbody>\n",
       "</table>\n",
       "</div>"
      ],
      "text/plain": [
       "           Survived       Sex      Deck  Age_Group   isAlone  EmbarkedC  \\\n",
       "Survived   1.000000 -0.543351 -0.294804  -0.059883 -0.203367   0.168240   \n",
       "Sex       -0.543351  1.000000  0.118282   0.095388  0.303646  -0.082853   \n",
       "Deck      -0.294804  0.118282  1.000000  -0.228445  0.137515  -0.247556   \n",
       "Age_Group -0.059883  0.095388 -0.228445   1.000000  0.181963   0.018012   \n",
       "isAlone   -0.203367  0.303646  0.137515   0.181963  1.000000  -0.095298   \n",
       "EmbarkedC  0.168240 -0.082853 -0.247556   0.018012 -0.095298   1.000000   \n",
       "EmbarkedQ  0.003650 -0.074115  0.128407  -0.020963  0.086464  -0.148258   \n",
       "EmbarkedS -0.149683  0.119224  0.136063  -0.002587  0.029074  -0.782742   \n",
       "Pclass1    0.285904 -0.098013 -0.820018   0.294794 -0.113364   0.296423   \n",
       "Pclass2    0.093349 -0.064746  0.202012   0.022715 -0.039070  -0.125416   \n",
       "Pclass3   -0.322308  0.137143  0.542122  -0.272482  0.129472  -0.153329   \n",
       "TitleMiss  0.335636 -0.693916 -0.031998  -0.274217 -0.048054   0.036204   \n",
       "TitleMr   -0.520822  0.954931  0.133636   0.047530  0.287751  -0.084290   \n",
       "TitleMrs   0.341994 -0.550146 -0.103289   0.177625 -0.361624   0.067872   \n",
       "TitleRare -0.021481  0.071958 -0.101061   0.169720  0.040508   0.015751   \n",
       "\n",
       "           EmbarkedQ  EmbarkedS   Pclass1   Pclass2   Pclass3  TitleMiss  \\\n",
       "Survived    0.003650  -0.149683  0.285904  0.093349 -0.322308   0.335636   \n",
       "Sex        -0.074115   0.119224 -0.098013 -0.064746  0.137143  -0.693916   \n",
       "Deck        0.128407   0.136063 -0.820018  0.202012  0.542122  -0.031998   \n",
       "Age_Group  -0.020963  -0.002587  0.294794  0.022715 -0.272482  -0.274217   \n",
       "isAlone     0.086464   0.029074 -0.113364 -0.039070  0.129472  -0.048054   \n",
       "EmbarkedC  -0.148258  -0.782742  0.296423 -0.125416 -0.153329   0.036204   \n",
       "EmbarkedQ   1.000000  -0.499421 -0.155342 -0.127301  0.237449   0.167531   \n",
       "EmbarkedS  -0.499421   1.000000 -0.161921  0.189980 -0.015104  -0.137144   \n",
       "Pclass1    -0.155342  -0.161921  1.000000 -0.288585 -0.626738   0.020348   \n",
       "Pclass2    -0.127301   0.189980 -0.288585  1.000000 -0.565210  -0.021903   \n",
       "Pclass3     0.237449  -0.015104 -0.626738 -0.565210  1.000000   0.000293   \n",
       "TitleMiss   0.167531  -0.137144  0.020348 -0.021903  0.000293   1.000000   \n",
       "TitleMr    -0.076141   0.121756 -0.131395 -0.087294  0.184255  -0.662641   \n",
       "TitleMrs   -0.090432  -0.002550  0.093608  0.119193 -0.177658  -0.207749   \n",
       "TitleRare   0.002542  -0.015398  0.146261  0.061761 -0.176284  -0.081449   \n",
       "\n",
       "            TitleMr  TitleMrs  TitleRare  \n",
       "Survived  -0.520822  0.341994  -0.021481  \n",
       "Sex        0.954931 -0.550146   0.071958  \n",
       "Deck       0.133636 -0.103289  -0.101061  \n",
       "Age_Group  0.047530  0.177625   0.169720  \n",
       "isAlone    0.287751 -0.361624   0.040508  \n",
       "EmbarkedC -0.084290  0.067872   0.015751  \n",
       "EmbarkedQ -0.076141 -0.090432   0.002542  \n",
       "EmbarkedS  0.121756 -0.002550  -0.015398  \n",
       "Pclass1   -0.131395  0.093608   0.146261  \n",
       "Pclass2   -0.087294  0.119193   0.061761  \n",
       "Pclass3    0.184255 -0.177658  -0.176284  \n",
       "TitleMiss -0.662641 -0.207749  -0.081449  \n",
       "TitleMr    1.000000 -0.525351  -0.205966  \n",
       "TitleMrs  -0.525351  1.000000  -0.064574  \n",
       "TitleRare -0.205966 -0.064574   1.000000  "
      ]
     },
     "execution_count": 1805,
     "metadata": {},
     "output_type": "execute_result"
    }
   ],
   "source": [
    "df.corr()"
   ]
  },
  {
   "cell_type": "code",
   "execution_count": 1806,
   "id": "869d205e",
   "metadata": {},
   "outputs": [
    {
     "data": {
      "text/plain": [
       "'from sklearn.preprocessing import Normalizer\\nnrm = Normalizer()\\nfor d_ in [df,df_t]:\\n    d_ = pd.DataFrame(nrm.fit_transform(X_))\\n    d_.columns=[\"Sex\",\"Title\",\"Deck\",\"Embarked\",\"Age_Group\"]'"
      ]
     },
     "execution_count": 1806,
     "metadata": {},
     "output_type": "execute_result"
    }
   ],
   "source": [
    "'''from sklearn.preprocessing import Normalizer\n",
    "nrm = Normalizer()\n",
    "for d_ in [df,df_t]:\n",
    "    d_ = pd.DataFrame(nrm.fit_transform(X_))\n",
    "    d_.columns=[\"Sex\",\"Title\",\"Deck\",\"Embarked\",\"Age_Group\"]'''"
   ]
  },
  {
   "cell_type": "code",
   "execution_count": 1807,
   "id": "5e029ed6",
   "metadata": {},
   "outputs": [],
   "source": [
    "from sklearn.model_selection import train_test_split\n",
    "from sklearn.model_selection import cross_val_score\n",
    "from sklearn import tree"
   ]
  },
  {
   "cell_type": "code",
   "execution_count": 1808,
   "id": "fd1fcdff",
   "metadata": {},
   "outputs": [],
   "source": [
    "X_t,X_CV_t,y_t,y_cv_t = train_test_split(X_,y_,test_size=0.25,random_state=5)\n",
    "clf= tree.DecisionTreeClassifier()\n",
    "scores = cross_val_score(clf,X_,y_,cv=5)"
   ]
  },
  {
   "cell_type": "code",
   "execution_count": 1809,
   "id": "957933f4",
   "metadata": {},
   "outputs": [],
   "source": [
    "d_tree_score=scores.mean()"
   ]
  },
  {
   "cell_type": "code",
   "execution_count": 1810,
   "id": "fc8a1057",
   "metadata": {},
   "outputs": [],
   "source": [
    "from sklearn.ensemble import RandomForestClassifier"
   ]
  },
  {
   "cell_type": "code",
   "execution_count": 1811,
   "id": "20483d06",
   "metadata": {},
   "outputs": [
    {
     "name": "stdout",
     "output_type": "stream",
     "text": [
      "0.7912748728893353\n"
     ]
    }
   ],
   "source": [
    "clf= RandomForestClassifier(n_estimators=100)\n",
    "scores = cross_val_score(clf,X_,y_,cv=5)\n",
    "rf_tree_score = scores.mean()\n",
    "print(rf_tree_score)"
   ]
  },
  {
   "cell_type": "code",
   "execution_count": 1812,
   "id": "7f7360b5",
   "metadata": {},
   "outputs": [],
   "source": [
    "from sklearn.linear_model import SGDClassifier\n",
    "clf= SGDClassifier(alpha=0.001)\n",
    "scores = cross_val_score(clf,X_,y_,cv=5)\n",
    "sgd_score = scores.mean()"
   ]
  },
  {
   "cell_type": "code",
   "execution_count": 1813,
   "id": "019e93aa",
   "metadata": {},
   "outputs": [],
   "source": [
    "from sklearn.neighbors import KNeighborsClassifier\n",
    "knn = KNeighborsClassifier(n_neighbors=3)\n",
    "scores = cross_val_score(knn,X_,y_,cv=2)\n",
    "knn_score = scores.mean()"
   ]
  },
  {
   "cell_type": "code",
   "execution_count": 1814,
   "id": "e33da976",
   "metadata": {},
   "outputs": [],
   "source": [
    "from sklearn.linear_model import LogisticRegression\n",
    "clf = LogisticRegression(max_iter=1000)\n",
    "scores = cross_val_score(clf,X_,y_,cv=5)\n",
    "clf.fit(X_t,y_t)\n",
    "#clf.score(X_CV_t,y_cv_t)\n",
    "logi_score = scores.mean()"
   ]
  },
  {
   "cell_type": "code",
   "execution_count": 1815,
   "id": "ce3a67ed",
   "metadata": {},
   "outputs": [],
   "source": [
    "df_scores = pd.DataFrame({\n",
    "    'algo':['DecisionTreeClassifier',\"RandomForestClassifier\",\"SGDClassifier\",\"KNeighborsClassifier\",\"LogisticRegression\"],\n",
    "    \"scores\":[d_tree_score,rf_tree_score,sgd_score,knn_score,logi_score]\n",
    "})\n",
    "df_scores=df_scores.set_index('algo')"
   ]
  },
  {
   "cell_type": "code",
   "execution_count": 1816,
   "id": "7623cc83",
   "metadata": {},
   "outputs": [
    {
     "data": {
      "text/html": [
       "<div>\n",
       "<style scoped>\n",
       "    .dataframe tbody tr th:only-of-type {\n",
       "        vertical-align: middle;\n",
       "    }\n",
       "\n",
       "    .dataframe tbody tr th {\n",
       "        vertical-align: top;\n",
       "    }\n",
       "\n",
       "    .dataframe thead th {\n",
       "        text-align: right;\n",
       "    }\n",
       "</style>\n",
       "<table border=\"1\" class=\"dataframe\">\n",
       "  <thead>\n",
       "    <tr style=\"text-align: right;\">\n",
       "      <th></th>\n",
       "      <th>scores</th>\n",
       "    </tr>\n",
       "    <tr>\n",
       "      <th>algo</th>\n",
       "      <th></th>\n",
       "    </tr>\n",
       "  </thead>\n",
       "  <tbody>\n",
       "    <tr>\n",
       "      <th>LogisticRegression</th>\n",
       "      <td>0.794633</td>\n",
       "    </tr>\n",
       "    <tr>\n",
       "      <th>RandomForestClassifier</th>\n",
       "      <td>0.791275</td>\n",
       "    </tr>\n",
       "    <tr>\n",
       "      <th>DecisionTreeClassifier</th>\n",
       "      <td>0.789053</td>\n",
       "    </tr>\n",
       "    <tr>\n",
       "      <th>KNeighborsClassifier</th>\n",
       "      <td>0.781153</td>\n",
       "    </tr>\n",
       "    <tr>\n",
       "      <th>SGDClassifier</th>\n",
       "      <td>0.756519</td>\n",
       "    </tr>\n",
       "  </tbody>\n",
       "</table>\n",
       "</div>"
      ],
      "text/plain": [
       "                          scores\n",
       "algo                            \n",
       "LogisticRegression      0.794633\n",
       "RandomForestClassifier  0.791275\n",
       "DecisionTreeClassifier  0.789053\n",
       "KNeighborsClassifier    0.781153\n",
       "SGDClassifier           0.756519"
      ]
     },
     "execution_count": 1816,
     "metadata": {},
     "output_type": "execute_result"
    }
   ],
   "source": [
    "df_scores.sort_values(by='scores',ascending=False)"
   ]
  },
  {
   "cell_type": "code",
   "execution_count": 1817,
   "id": "bb68f7b5",
   "metadata": {},
   "outputs": [],
   "source": [
    "clf=clf.fit(X_,y_)"
   ]
  },
  {
   "cell_type": "code",
   "execution_count": 1818,
   "id": "ef987aa3",
   "metadata": {},
   "outputs": [
    {
     "data": {
      "text/plain": [
       "0.8385650224215246"
      ]
     },
     "execution_count": 1818,
     "metadata": {},
     "output_type": "execute_result"
    }
   ],
   "source": [
    "clf.score(X_CV_t,y_cv_t)"
   ]
  },
  {
   "cell_type": "code",
   "execution_count": 1800,
   "id": "7b360501",
   "metadata": {},
   "outputs": [
    {
     "ename": "AttributeError",
     "evalue": "'LogisticRegression' object has no attribute 'feature_importances_'",
     "output_type": "error",
     "traceback": [
      "\u001b[1;31m---------------------------------------------------------------------------\u001b[0m",
      "\u001b[1;31mAttributeError\u001b[0m                            Traceback (most recent call last)",
      "Input \u001b[1;32mIn [1800]\u001b[0m, in \u001b[0;36m<cell line: 1>\u001b[1;34m()\u001b[0m\n\u001b[1;32m----> 1\u001b[0m importances \u001b[38;5;241m=\u001b[39m pd\u001b[38;5;241m.\u001b[39mDataFrame({\u001b[38;5;124m'\u001b[39m\u001b[38;5;124mfeature\u001b[39m\u001b[38;5;124m'\u001b[39m:X_\u001b[38;5;241m.\u001b[39mcolumns,\u001b[38;5;124m'\u001b[39m\u001b[38;5;124mimportance\u001b[39m\u001b[38;5;124m'\u001b[39m:np\u001b[38;5;241m.\u001b[39mround(\u001b[43mclf\u001b[49m\u001b[38;5;241;43m.\u001b[39;49m\u001b[43mfeature_importances_\u001b[49m,\u001b[38;5;241m3\u001b[39m)})\n\u001b[0;32m      2\u001b[0m importances \u001b[38;5;241m=\u001b[39m importances\u001b[38;5;241m.\u001b[39msort_values(\u001b[38;5;124m'\u001b[39m\u001b[38;5;124mimportance\u001b[39m\u001b[38;5;124m'\u001b[39m,ascending\u001b[38;5;241m=\u001b[39m\u001b[38;5;28;01mFalse\u001b[39;00m)\u001b[38;5;241m.\u001b[39mset_index(\u001b[38;5;124m'\u001b[39m\u001b[38;5;124mfeature\u001b[39m\u001b[38;5;124m'\u001b[39m)\n\u001b[0;32m      3\u001b[0m importances\u001b[38;5;241m.\u001b[39mhead(\u001b[38;5;241m15\u001b[39m)\n",
      "\u001b[1;31mAttributeError\u001b[0m: 'LogisticRegression' object has no attribute 'feature_importances_'"
     ]
    }
   ],
   "source": [
    "importances = pd.DataFrame({'feature':X_.columns,'importance':np.round(clf.feature_importances_,3)})\n",
    "importances = importances.sort_values('importance',ascending=False).set_index('feature')\n",
    "importances.head(15)"
   ]
  },
  {
   "cell_type": "code",
   "execution_count": 1801,
   "id": "52a593b3",
   "metadata": {},
   "outputs": [
    {
     "data": {
      "text/html": [
       "<div>\n",
       "<style scoped>\n",
       "    .dataframe tbody tr th:only-of-type {\n",
       "        vertical-align: middle;\n",
       "    }\n",
       "\n",
       "    .dataframe tbody tr th {\n",
       "        vertical-align: top;\n",
       "    }\n",
       "\n",
       "    .dataframe thead th {\n",
       "        text-align: right;\n",
       "    }\n",
       "</style>\n",
       "<table border=\"1\" class=\"dataframe\">\n",
       "  <thead>\n",
       "    <tr style=\"text-align: right;\">\n",
       "      <th></th>\n",
       "      <th>Survived</th>\n",
       "      <th>Sex</th>\n",
       "      <th>Deck</th>\n",
       "      <th>Age_Group</th>\n",
       "      <th>isAlone</th>\n",
       "      <th>EmbarkedC</th>\n",
       "      <th>EmbarkedQ</th>\n",
       "      <th>EmbarkedS</th>\n",
       "      <th>Pclass1</th>\n",
       "      <th>Pclass2</th>\n",
       "      <th>Pclass3</th>\n",
       "      <th>TitleMiss</th>\n",
       "      <th>TitleMr</th>\n",
       "      <th>TitleMrs</th>\n",
       "      <th>TitleRare</th>\n",
       "    </tr>\n",
       "  </thead>\n",
       "  <tbody>\n",
       "    <tr>\n",
       "      <th>Survived</th>\n",
       "      <td>1.000000</td>\n",
       "      <td>-0.543351</td>\n",
       "      <td>-0.294804</td>\n",
       "      <td>-0.059883</td>\n",
       "      <td>-0.203367</td>\n",
       "      <td>0.168240</td>\n",
       "      <td>0.003650</td>\n",
       "      <td>-0.149683</td>\n",
       "      <td>0.285904</td>\n",
       "      <td>0.093349</td>\n",
       "      <td>-0.322308</td>\n",
       "      <td>0.335636</td>\n",
       "      <td>-0.520822</td>\n",
       "      <td>0.341994</td>\n",
       "      <td>-0.021481</td>\n",
       "    </tr>\n",
       "    <tr>\n",
       "      <th>Sex</th>\n",
       "      <td>-0.543351</td>\n",
       "      <td>1.000000</td>\n",
       "      <td>0.118282</td>\n",
       "      <td>0.095388</td>\n",
       "      <td>0.303646</td>\n",
       "      <td>-0.082853</td>\n",
       "      <td>-0.074115</td>\n",
       "      <td>0.119224</td>\n",
       "      <td>-0.098013</td>\n",
       "      <td>-0.064746</td>\n",
       "      <td>0.137143</td>\n",
       "      <td>-0.693916</td>\n",
       "      <td>0.954931</td>\n",
       "      <td>-0.550146</td>\n",
       "      <td>0.071958</td>\n",
       "    </tr>\n",
       "    <tr>\n",
       "      <th>Deck</th>\n",
       "      <td>-0.294804</td>\n",
       "      <td>0.118282</td>\n",
       "      <td>1.000000</td>\n",
       "      <td>-0.228445</td>\n",
       "      <td>0.137515</td>\n",
       "      <td>-0.247556</td>\n",
       "      <td>0.128407</td>\n",
       "      <td>0.136063</td>\n",
       "      <td>-0.820018</td>\n",
       "      <td>0.202012</td>\n",
       "      <td>0.542122</td>\n",
       "      <td>-0.031998</td>\n",
       "      <td>0.133636</td>\n",
       "      <td>-0.103289</td>\n",
       "      <td>-0.101061</td>\n",
       "    </tr>\n",
       "    <tr>\n",
       "      <th>Age_Group</th>\n",
       "      <td>-0.059883</td>\n",
       "      <td>0.095388</td>\n",
       "      <td>-0.228445</td>\n",
       "      <td>1.000000</td>\n",
       "      <td>0.181963</td>\n",
       "      <td>0.018012</td>\n",
       "      <td>-0.020963</td>\n",
       "      <td>-0.002587</td>\n",
       "      <td>0.294794</td>\n",
       "      <td>0.022715</td>\n",
       "      <td>-0.272482</td>\n",
       "      <td>-0.274217</td>\n",
       "      <td>0.047530</td>\n",
       "      <td>0.177625</td>\n",
       "      <td>0.169720</td>\n",
       "    </tr>\n",
       "    <tr>\n",
       "      <th>isAlone</th>\n",
       "      <td>-0.203367</td>\n",
       "      <td>0.303646</td>\n",
       "      <td>0.137515</td>\n",
       "      <td>0.181963</td>\n",
       "      <td>1.000000</td>\n",
       "      <td>-0.095298</td>\n",
       "      <td>0.086464</td>\n",
       "      <td>0.029074</td>\n",
       "      <td>-0.113364</td>\n",
       "      <td>-0.039070</td>\n",
       "      <td>0.129472</td>\n",
       "      <td>-0.048054</td>\n",
       "      <td>0.287751</td>\n",
       "      <td>-0.361624</td>\n",
       "      <td>0.040508</td>\n",
       "    </tr>\n",
       "    <tr>\n",
       "      <th>EmbarkedC</th>\n",
       "      <td>0.168240</td>\n",
       "      <td>-0.082853</td>\n",
       "      <td>-0.247556</td>\n",
       "      <td>0.018012</td>\n",
       "      <td>-0.095298</td>\n",
       "      <td>1.000000</td>\n",
       "      <td>-0.148258</td>\n",
       "      <td>-0.782742</td>\n",
       "      <td>0.296423</td>\n",
       "      <td>-0.125416</td>\n",
       "      <td>-0.153329</td>\n",
       "      <td>0.036204</td>\n",
       "      <td>-0.084290</td>\n",
       "      <td>0.067872</td>\n",
       "      <td>0.015751</td>\n",
       "    </tr>\n",
       "    <tr>\n",
       "      <th>EmbarkedQ</th>\n",
       "      <td>0.003650</td>\n",
       "      <td>-0.074115</td>\n",
       "      <td>0.128407</td>\n",
       "      <td>-0.020963</td>\n",
       "      <td>0.086464</td>\n",
       "      <td>-0.148258</td>\n",
       "      <td>1.000000</td>\n",
       "      <td>-0.499421</td>\n",
       "      <td>-0.155342</td>\n",
       "      <td>-0.127301</td>\n",
       "      <td>0.237449</td>\n",
       "      <td>0.167531</td>\n",
       "      <td>-0.076141</td>\n",
       "      <td>-0.090432</td>\n",
       "      <td>0.002542</td>\n",
       "    </tr>\n",
       "    <tr>\n",
       "      <th>EmbarkedS</th>\n",
       "      <td>-0.149683</td>\n",
       "      <td>0.119224</td>\n",
       "      <td>0.136063</td>\n",
       "      <td>-0.002587</td>\n",
       "      <td>0.029074</td>\n",
       "      <td>-0.782742</td>\n",
       "      <td>-0.499421</td>\n",
       "      <td>1.000000</td>\n",
       "      <td>-0.161921</td>\n",
       "      <td>0.189980</td>\n",
       "      <td>-0.015104</td>\n",
       "      <td>-0.137144</td>\n",
       "      <td>0.121756</td>\n",
       "      <td>-0.002550</td>\n",
       "      <td>-0.015398</td>\n",
       "    </tr>\n",
       "    <tr>\n",
       "      <th>Pclass1</th>\n",
       "      <td>0.285904</td>\n",
       "      <td>-0.098013</td>\n",
       "      <td>-0.820018</td>\n",
       "      <td>0.294794</td>\n",
       "      <td>-0.113364</td>\n",
       "      <td>0.296423</td>\n",
       "      <td>-0.155342</td>\n",
       "      <td>-0.161921</td>\n",
       "      <td>1.000000</td>\n",
       "      <td>-0.288585</td>\n",
       "      <td>-0.626738</td>\n",
       "      <td>0.020348</td>\n",
       "      <td>-0.131395</td>\n",
       "      <td>0.093608</td>\n",
       "      <td>0.146261</td>\n",
       "    </tr>\n",
       "    <tr>\n",
       "      <th>Pclass2</th>\n",
       "      <td>0.093349</td>\n",
       "      <td>-0.064746</td>\n",
       "      <td>0.202012</td>\n",
       "      <td>0.022715</td>\n",
       "      <td>-0.039070</td>\n",
       "      <td>-0.125416</td>\n",
       "      <td>-0.127301</td>\n",
       "      <td>0.189980</td>\n",
       "      <td>-0.288585</td>\n",
       "      <td>1.000000</td>\n",
       "      <td>-0.565210</td>\n",
       "      <td>-0.021903</td>\n",
       "      <td>-0.087294</td>\n",
       "      <td>0.119193</td>\n",
       "      <td>0.061761</td>\n",
       "    </tr>\n",
       "    <tr>\n",
       "      <th>Pclass3</th>\n",
       "      <td>-0.322308</td>\n",
       "      <td>0.137143</td>\n",
       "      <td>0.542122</td>\n",
       "      <td>-0.272482</td>\n",
       "      <td>0.129472</td>\n",
       "      <td>-0.153329</td>\n",
       "      <td>0.237449</td>\n",
       "      <td>-0.015104</td>\n",
       "      <td>-0.626738</td>\n",
       "      <td>-0.565210</td>\n",
       "      <td>1.000000</td>\n",
       "      <td>0.000293</td>\n",
       "      <td>0.184255</td>\n",
       "      <td>-0.177658</td>\n",
       "      <td>-0.176284</td>\n",
       "    </tr>\n",
       "    <tr>\n",
       "      <th>TitleMiss</th>\n",
       "      <td>0.335636</td>\n",
       "      <td>-0.693916</td>\n",
       "      <td>-0.031998</td>\n",
       "      <td>-0.274217</td>\n",
       "      <td>-0.048054</td>\n",
       "      <td>0.036204</td>\n",
       "      <td>0.167531</td>\n",
       "      <td>-0.137144</td>\n",
       "      <td>0.020348</td>\n",
       "      <td>-0.021903</td>\n",
       "      <td>0.000293</td>\n",
       "      <td>1.000000</td>\n",
       "      <td>-0.662641</td>\n",
       "      <td>-0.207749</td>\n",
       "      <td>-0.081449</td>\n",
       "    </tr>\n",
       "    <tr>\n",
       "      <th>TitleMr</th>\n",
       "      <td>-0.520822</td>\n",
       "      <td>0.954931</td>\n",
       "      <td>0.133636</td>\n",
       "      <td>0.047530</td>\n",
       "      <td>0.287751</td>\n",
       "      <td>-0.084290</td>\n",
       "      <td>-0.076141</td>\n",
       "      <td>0.121756</td>\n",
       "      <td>-0.131395</td>\n",
       "      <td>-0.087294</td>\n",
       "      <td>0.184255</td>\n",
       "      <td>-0.662641</td>\n",
       "      <td>1.000000</td>\n",
       "      <td>-0.525351</td>\n",
       "      <td>-0.205966</td>\n",
       "    </tr>\n",
       "    <tr>\n",
       "      <th>TitleMrs</th>\n",
       "      <td>0.341994</td>\n",
       "      <td>-0.550146</td>\n",
       "      <td>-0.103289</td>\n",
       "      <td>0.177625</td>\n",
       "      <td>-0.361624</td>\n",
       "      <td>0.067872</td>\n",
       "      <td>-0.090432</td>\n",
       "      <td>-0.002550</td>\n",
       "      <td>0.093608</td>\n",
       "      <td>0.119193</td>\n",
       "      <td>-0.177658</td>\n",
       "      <td>-0.207749</td>\n",
       "      <td>-0.525351</td>\n",
       "      <td>1.000000</td>\n",
       "      <td>-0.064574</td>\n",
       "    </tr>\n",
       "    <tr>\n",
       "      <th>TitleRare</th>\n",
       "      <td>-0.021481</td>\n",
       "      <td>0.071958</td>\n",
       "      <td>-0.101061</td>\n",
       "      <td>0.169720</td>\n",
       "      <td>0.040508</td>\n",
       "      <td>0.015751</td>\n",
       "      <td>0.002542</td>\n",
       "      <td>-0.015398</td>\n",
       "      <td>0.146261</td>\n",
       "      <td>0.061761</td>\n",
       "      <td>-0.176284</td>\n",
       "      <td>-0.081449</td>\n",
       "      <td>-0.205966</td>\n",
       "      <td>-0.064574</td>\n",
       "      <td>1.000000</td>\n",
       "    </tr>\n",
       "  </tbody>\n",
       "</table>\n",
       "</div>"
      ],
      "text/plain": [
       "           Survived       Sex      Deck  Age_Group   isAlone  EmbarkedC  \\\n",
       "Survived   1.000000 -0.543351 -0.294804  -0.059883 -0.203367   0.168240   \n",
       "Sex       -0.543351  1.000000  0.118282   0.095388  0.303646  -0.082853   \n",
       "Deck      -0.294804  0.118282  1.000000  -0.228445  0.137515  -0.247556   \n",
       "Age_Group -0.059883  0.095388 -0.228445   1.000000  0.181963   0.018012   \n",
       "isAlone   -0.203367  0.303646  0.137515   0.181963  1.000000  -0.095298   \n",
       "EmbarkedC  0.168240 -0.082853 -0.247556   0.018012 -0.095298   1.000000   \n",
       "EmbarkedQ  0.003650 -0.074115  0.128407  -0.020963  0.086464  -0.148258   \n",
       "EmbarkedS -0.149683  0.119224  0.136063  -0.002587  0.029074  -0.782742   \n",
       "Pclass1    0.285904 -0.098013 -0.820018   0.294794 -0.113364   0.296423   \n",
       "Pclass2    0.093349 -0.064746  0.202012   0.022715 -0.039070  -0.125416   \n",
       "Pclass3   -0.322308  0.137143  0.542122  -0.272482  0.129472  -0.153329   \n",
       "TitleMiss  0.335636 -0.693916 -0.031998  -0.274217 -0.048054   0.036204   \n",
       "TitleMr   -0.520822  0.954931  0.133636   0.047530  0.287751  -0.084290   \n",
       "TitleMrs   0.341994 -0.550146 -0.103289   0.177625 -0.361624   0.067872   \n",
       "TitleRare -0.021481  0.071958 -0.101061   0.169720  0.040508   0.015751   \n",
       "\n",
       "           EmbarkedQ  EmbarkedS   Pclass1   Pclass2   Pclass3  TitleMiss  \\\n",
       "Survived    0.003650  -0.149683  0.285904  0.093349 -0.322308   0.335636   \n",
       "Sex        -0.074115   0.119224 -0.098013 -0.064746  0.137143  -0.693916   \n",
       "Deck        0.128407   0.136063 -0.820018  0.202012  0.542122  -0.031998   \n",
       "Age_Group  -0.020963  -0.002587  0.294794  0.022715 -0.272482  -0.274217   \n",
       "isAlone     0.086464   0.029074 -0.113364 -0.039070  0.129472  -0.048054   \n",
       "EmbarkedC  -0.148258  -0.782742  0.296423 -0.125416 -0.153329   0.036204   \n",
       "EmbarkedQ   1.000000  -0.499421 -0.155342 -0.127301  0.237449   0.167531   \n",
       "EmbarkedS  -0.499421   1.000000 -0.161921  0.189980 -0.015104  -0.137144   \n",
       "Pclass1    -0.155342  -0.161921  1.000000 -0.288585 -0.626738   0.020348   \n",
       "Pclass2    -0.127301   0.189980 -0.288585  1.000000 -0.565210  -0.021903   \n",
       "Pclass3     0.237449  -0.015104 -0.626738 -0.565210  1.000000   0.000293   \n",
       "TitleMiss   0.167531  -0.137144  0.020348 -0.021903  0.000293   1.000000   \n",
       "TitleMr    -0.076141   0.121756 -0.131395 -0.087294  0.184255  -0.662641   \n",
       "TitleMrs   -0.090432  -0.002550  0.093608  0.119193 -0.177658  -0.207749   \n",
       "TitleRare   0.002542  -0.015398  0.146261  0.061761 -0.176284  -0.081449   \n",
       "\n",
       "            TitleMr  TitleMrs  TitleRare  \n",
       "Survived  -0.520822  0.341994  -0.021481  \n",
       "Sex        0.954931 -0.550146   0.071958  \n",
       "Deck       0.133636 -0.103289  -0.101061  \n",
       "Age_Group  0.047530  0.177625   0.169720  \n",
       "isAlone    0.287751 -0.361624   0.040508  \n",
       "EmbarkedC -0.084290  0.067872   0.015751  \n",
       "EmbarkedQ -0.076141 -0.090432   0.002542  \n",
       "EmbarkedS  0.121756 -0.002550  -0.015398  \n",
       "Pclass1   -0.131395  0.093608   0.146261  \n",
       "Pclass2   -0.087294  0.119193   0.061761  \n",
       "Pclass3    0.184255 -0.177658  -0.176284  \n",
       "TitleMiss -0.662641 -0.207749  -0.081449  \n",
       "TitleMr    1.000000 -0.525351  -0.205966  \n",
       "TitleMrs  -0.525351  1.000000  -0.064574  \n",
       "TitleRare -0.205966 -0.064574   1.000000  "
      ]
     },
     "execution_count": 1801,
     "metadata": {},
     "output_type": "execute_result"
    }
   ],
   "source": [
    "df.corr()"
   ]
  },
  {
   "cell_type": "code",
   "execution_count": 1802,
   "id": "a5f22ead",
   "metadata": {},
   "outputs": [
    {
     "data": {
      "text/plain": [
       "<AxesSubplot:xlabel='feature'>"
      ]
     },
     "execution_count": 1802,
     "metadata": {},
     "output_type": "execute_result"
    },
    {
     "data": {
      "image/png": "[encoded data removed]",
      "text/plain": [
       "<Figure size 432x288 with 1 Axes>"
      ]
     },
     "metadata": {
      "needs_background": "light"
     },
     "output_type": "display_data"
    }
   ],
   "source": [
    "importances.plot.bar()"
   ]
  },
  {
   "cell_type": "code",
   "execution_count": 161,
   "id": "6e0d3fa2",
   "metadata": {},
   "outputs": [],
   "source": [
    "param_grid = {\n",
    "    \"max_depth\": [3, 4, 5, 7],\n",
    "    \"learning_rate\": [0.1, 0.01, 0.05],\n",
    "    \"gamma\": [0, 0.25, 1],\n",
    "    \"reg_lambda\": [0, 1, 10],\n",
    "    \"scale_pos_weight\": [1, 3, 5],\n",
    "    \"subsample\": [0.8],\n",
    "    \"colsample_bytree\": [0.5],\n",
    "}"
   ]
  },
  {
   "cell_type": "code",
   "execution_count": 162,
   "id": "eec3a2fd",
   "metadata": {},
   "outputs": [],
   "source": [
    "from xgboost import XGBClassifier\n",
    "from sklearn.model_selection import GridSearchCV\n",
    "from sklearn.metrics import accuracy_score"
   ]
  },
  {
   "cell_type": "code",
   "execution_count": 1774,
   "id": "9a716b36",
   "metadata": {},
   "outputs": [],
   "source": [
    "results[\"Survived\"] = clf.predict(df_t[features])"
   ]
  },
  {
   "cell_type": "code",
   "execution_count": 1775,
   "id": "dac0e9ff",
   "metadata": {},
   "outputs": [],
   "source": [
    "results.to_csv(\"results.csv\",index=False)"
   ]
  },
  {
   "cell_type": "code",
   "execution_count": null,
   "id": "5b5f631c",
   "metadata": {},
   "outputs": [],
   "source": []
  }
 ],
 "metadata": {
  "kernelspec": {
   "display_name": "Python 3 (ipykernel)",
   "language": "python",
   "name": "python3"
  },
  "language_info": {
   "codemirror_mode": {
    "name": "ipython",
    "version": 3
   },
   "file_extension": ".py",
   "mimetype": "text/x-python",
   "name": "python",
   "nbconvert_exporter": "python",
   "pygments_lexer": "ipython3",
   "version": "3.9.12"
  }
 },
 "nbformat": 4,
 "nbformat_minor": 5
}
